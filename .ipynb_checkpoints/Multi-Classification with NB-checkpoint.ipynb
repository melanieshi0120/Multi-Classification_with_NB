{
 "cells": [
  {
   "cell_type": "markdown",
   "metadata": {},
   "source": [
    "# Import libraries"
   ]
  },
  {
   "cell_type": "code",
   "execution_count": 1,
   "metadata": {},
   "outputs": [],
   "source": [
    "import pandas as pd"
   ]
  },
  {
   "cell_type": "markdown",
   "metadata": {},
   "source": [
    "# Load the data "
   ]
  },
  {
   "cell_type": "code",
   "execution_count": 2,
   "metadata": {},
   "outputs": [
    {
     "data": {
      "text/html": [
       "<div>\n",
       "<style scoped>\n",
       "    .dataframe tbody tr th:only-of-type {\n",
       "        vertical-align: middle;\n",
       "    }\n",
       "\n",
       "    .dataframe tbody tr th {\n",
       "        vertical-align: top;\n",
       "    }\n",
       "\n",
       "    .dataframe thead th {\n",
       "        text-align: right;\n",
       "    }\n",
       "</style>\n",
       "<table border=\"1\" class=\"dataframe\">\n",
       "  <thead>\n",
       "    <tr style=\"text-align: right;\">\n",
       "      <th></th>\n",
       "      <th>ï»¿Sr Number</th>\n",
       "      <th>Description</th>\n",
       "      <th>Category</th>\n",
       "      <th>Subcategory</th>\n",
       "    </tr>\n",
       "  </thead>\n",
       "  <tbody>\n",
       "    <tr>\n",
       "      <th>0</th>\n",
       "      <td>NaN</td>\n",
       "      <td>entertainment music love fun comedy instagram ...</td>\n",
       "      <td>Media &amp; Entertainment</td>\n",
       "      <td>Entertainment</td>\n",
       "    </tr>\n",
       "    <tr>\n",
       "      <th>1</th>\n",
       "      <td>NaN</td>\n",
       "      <td>movies movie film cinema films hollywood love ...</td>\n",
       "      <td>Media &amp; Entertainment</td>\n",
       "      <td>Movies</td>\n",
       "    </tr>\n",
       "    <tr>\n",
       "      <th>2</th>\n",
       "      <td>NaN</td>\n",
       "      <td>happy dancechallenge life repost instadance mu...</td>\n",
       "      <td>Media &amp; Entertainment</td>\n",
       "      <td>Dance</td>\n",
       "    </tr>\n",
       "    <tr>\n",
       "      <th>3</th>\n",
       "      <td>NaN</td>\n",
       "      <td>art artist love photography drawing instagood ...</td>\n",
       "      <td>Media &amp; Entertainment</td>\n",
       "      <td>Art</td>\n",
       "    </tr>\n",
       "    <tr>\n",
       "      <th>4</th>\n",
       "      <td>NaN</td>\n",
       "      <td>magic love art magician witch nature photograp...</td>\n",
       "      <td>Media &amp; Entertainment</td>\n",
       "      <td>Magic</td>\n",
       "    </tr>\n",
       "  </tbody>\n",
       "</table>\n",
       "</div>"
      ],
      "text/plain": [
       "   ï»¿Sr Number                                        Description  \\\n",
       "0           NaN  entertainment music love fun comedy instagram ...   \n",
       "1           NaN  movies movie film cinema films hollywood love ...   \n",
       "2           NaN  happy dancechallenge life repost instadance mu...   \n",
       "3           NaN  art artist love photography drawing instagood ...   \n",
       "4           NaN  magic love art magician witch nature photograp...   \n",
       "\n",
       "                Category    Subcategory  \n",
       "0  Media & Entertainment  Entertainment  \n",
       "1  Media & Entertainment         Movies  \n",
       "2  Media & Entertainment          Dance  \n",
       "3  Media & Entertainment            Art  \n",
       "4  Media & Entertainment          Magic  "
      ]
     },
     "execution_count": 2,
     "metadata": {},
     "output_type": "execute_result"
    }
   ],
   "source": [
    "# train data\n",
    "df_train=pd.read_csv(\"train_data1.csv\",encoding='latin1')\n",
    "df_train.head()"
   ]
  },
  {
   "cell_type": "code",
   "execution_count": 3,
   "metadata": {},
   "outputs": [
    {
     "data": {
      "text/html": [
       "<div>\n",
       "<style scoped>\n",
       "    .dataframe tbody tr th:only-of-type {\n",
       "        vertical-align: middle;\n",
       "    }\n",
       "\n",
       "    .dataframe tbody tr th {\n",
       "        vertical-align: top;\n",
       "    }\n",
       "\n",
       "    .dataframe thead th {\n",
       "        text-align: right;\n",
       "    }\n",
       "</style>\n",
       "<table border=\"1\" class=\"dataframe\">\n",
       "  <thead>\n",
       "    <tr style=\"text-align: right;\">\n",
       "      <th></th>\n",
       "      <th>url</th>\n",
       "      <th>Description</th>\n",
       "      <th>Category</th>\n",
       "      <th>Model_Output</th>\n",
       "    </tr>\n",
       "  </thead>\n",
       "  <tbody>\n",
       "    <tr>\n",
       "      <th>0</th>\n",
       "      <td>NaN</td>\n",
       "      <td>Rackspace Technology | Multicloud Solutions Pr...</td>\n",
       "      <td>Information Technology</td>\n",
       "      <td>NaN</td>\n",
       "    </tr>\n",
       "    <tr>\n",
       "      <th>1</th>\n",
       "      <td>NaN</td>\n",
       "      <td>&gt;Merge, join, concatenate and compare &amp;#8212; ...</td>\n",
       "      <td>Career &amp; Education</td>\n",
       "      <td>NaN</td>\n",
       "    </tr>\n",
       "    <tr>\n",
       "      <th>2</th>\n",
       "      <td>NaN</td>\n",
       "      <td>Welcome to Cloudcroft! At 9000' above stress l...</td>\n",
       "      <td>Travel &amp; Tourism</td>\n",
       "      <td>NaN</td>\n",
       "    </tr>\n",
       "    <tr>\n",
       "      <th>3</th>\n",
       "      <td>NaN</td>\n",
       "      <td>Live One-On-One Music Lessons From Fun &amp; Inspi...</td>\n",
       "      <td>Media &amp; Entertainment</td>\n",
       "      <td>NaN</td>\n",
       "    </tr>\n",
       "    <tr>\n",
       "      <th>4</th>\n",
       "      <td>NaN</td>\n",
       "      <td>100 %ONLINE CULINARY EDUCATION, chef training</td>\n",
       "      <td>Career &amp; Education</td>\n",
       "      <td>NaN</td>\n",
       "    </tr>\n",
       "  </tbody>\n",
       "</table>\n",
       "</div>"
      ],
      "text/plain": [
       "   url                                        Description  \\\n",
       "0  NaN  Rackspace Technology | Multicloud Solutions Pr...   \n",
       "1  NaN  >Merge, join, concatenate and compare &#8212; ...   \n",
       "2  NaN  Welcome to Cloudcroft! At 9000' above stress l...   \n",
       "3  NaN  Live One-On-One Music Lessons From Fun & Inspi...   \n",
       "4  NaN      100 %ONLINE CULINARY EDUCATION, chef training   \n",
       "\n",
       "                 Category  Model_Output  \n",
       "0  Information Technology           NaN  \n",
       "1      Career & Education           NaN  \n",
       "2        Travel & Tourism           NaN  \n",
       "3   Media & Entertainment           NaN  \n",
       "4      Career & Education           NaN  "
      ]
     },
     "execution_count": 3,
     "metadata": {},
     "output_type": "execute_result"
    }
   ],
   "source": [
    "# test data\n",
    "df_test=pd.read_csv('test_data_new.csv',encoding='latin1')\n",
    "\n",
    "df_test.head()"
   ]
  },
  {
   "cell_type": "code",
   "execution_count": 4,
   "metadata": {},
   "outputs": [
    {
     "data": {
      "text/html": [
       "<div>\n",
       "<style scoped>\n",
       "    .dataframe tbody tr th:only-of-type {\n",
       "        vertical-align: middle;\n",
       "    }\n",
       "\n",
       "    .dataframe tbody tr th {\n",
       "        vertical-align: top;\n",
       "    }\n",
       "\n",
       "    .dataframe thead th {\n",
       "        text-align: right;\n",
       "    }\n",
       "</style>\n",
       "<table border=\"1\" class=\"dataframe\">\n",
       "  <thead>\n",
       "    <tr style=\"text-align: right;\">\n",
       "      <th></th>\n",
       "      <th>Description</th>\n",
       "      <th>Category</th>\n",
       "    </tr>\n",
       "  </thead>\n",
       "  <tbody>\n",
       "    <tr>\n",
       "      <th>0</th>\n",
       "      <td>entertainment music love fun comedy instagram ...</td>\n",
       "      <td>Media &amp; Entertainment</td>\n",
       "    </tr>\n",
       "    <tr>\n",
       "      <th>1</th>\n",
       "      <td>movies movie film cinema films hollywood love ...</td>\n",
       "      <td>Media &amp; Entertainment</td>\n",
       "    </tr>\n",
       "    <tr>\n",
       "      <th>2</th>\n",
       "      <td>happy dancechallenge life repost instadance mu...</td>\n",
       "      <td>Media &amp; Entertainment</td>\n",
       "    </tr>\n",
       "    <tr>\n",
       "      <th>3</th>\n",
       "      <td>art artist love photography drawing instagood ...</td>\n",
       "      <td>Media &amp; Entertainment</td>\n",
       "    </tr>\n",
       "    <tr>\n",
       "      <th>4</th>\n",
       "      <td>magic love art magician witch nature photograp...</td>\n",
       "      <td>Media &amp; Entertainment</td>\n",
       "    </tr>\n",
       "  </tbody>\n",
       "</table>\n",
       "</div>"
      ],
      "text/plain": [
       "                                         Description               Category\n",
       "0  entertainment music love fun comedy instagram ...  Media & Entertainment\n",
       "1  movies movie film cinema films hollywood love ...  Media & Entertainment\n",
       "2  happy dancechallenge life repost instadance mu...  Media & Entertainment\n",
       "3  art artist love photography drawing instagood ...  Media & Entertainment\n",
       "4  magic love art magician witch nature photograp...  Media & Entertainment"
      ]
     },
     "execution_count": 4,
     "metadata": {},
     "output_type": "execute_result"
    }
   ],
   "source": [
    "# select the columns we need for train data \n",
    "df_train_new = df_train.iloc[:,1:3]\n",
    "df_train_new.head()"
   ]
  },
  {
   "cell_type": "code",
   "execution_count": 5,
   "metadata": {
    "scrolled": true
   },
   "outputs": [
    {
     "data": {
      "text/html": [
       "<div>\n",
       "<style scoped>\n",
       "    .dataframe tbody tr th:only-of-type {\n",
       "        vertical-align: middle;\n",
       "    }\n",
       "\n",
       "    .dataframe tbody tr th {\n",
       "        vertical-align: top;\n",
       "    }\n",
       "\n",
       "    .dataframe thead th {\n",
       "        text-align: right;\n",
       "    }\n",
       "</style>\n",
       "<table border=\"1\" class=\"dataframe\">\n",
       "  <thead>\n",
       "    <tr style=\"text-align: right;\">\n",
       "      <th></th>\n",
       "      <th>Description</th>\n",
       "      <th>Category</th>\n",
       "      <th>Model_Output</th>\n",
       "    </tr>\n",
       "  </thead>\n",
       "  <tbody>\n",
       "    <tr>\n",
       "      <th>0</th>\n",
       "      <td>Rackspace Technology | Multicloud Solutions Pr...</td>\n",
       "      <td>Information Technology</td>\n",
       "      <td>NaN</td>\n",
       "    </tr>\n",
       "    <tr>\n",
       "      <th>1</th>\n",
       "      <td>&gt;Merge, join, concatenate and compare &amp;#8212; ...</td>\n",
       "      <td>Career &amp; Education</td>\n",
       "      <td>NaN</td>\n",
       "    </tr>\n",
       "    <tr>\n",
       "      <th>2</th>\n",
       "      <td>Welcome to Cloudcroft! At 9000' above stress l...</td>\n",
       "      <td>Travel &amp; Tourism</td>\n",
       "      <td>NaN</td>\n",
       "    </tr>\n",
       "    <tr>\n",
       "      <th>3</th>\n",
       "      <td>Live One-On-One Music Lessons From Fun &amp; Inspi...</td>\n",
       "      <td>Media &amp; Entertainment</td>\n",
       "      <td>NaN</td>\n",
       "    </tr>\n",
       "    <tr>\n",
       "      <th>4</th>\n",
       "      <td>100 %ONLINE CULINARY EDUCATION, chef training</td>\n",
       "      <td>Career &amp; Education</td>\n",
       "      <td>NaN</td>\n",
       "    </tr>\n",
       "  </tbody>\n",
       "</table>\n",
       "</div>"
      ],
      "text/plain": [
       "                                         Description                Category  \\\n",
       "0  Rackspace Technology | Multicloud Solutions Pr...  Information Technology   \n",
       "1  >Merge, join, concatenate and compare &#8212; ...      Career & Education   \n",
       "2  Welcome to Cloudcroft! At 9000' above stress l...        Travel & Tourism   \n",
       "3  Live One-On-One Music Lessons From Fun & Inspi...   Media & Entertainment   \n",
       "4      100 %ONLINE CULINARY EDUCATION, chef training      Career & Education   \n",
       "\n",
       "   Model_Output  \n",
       "0           NaN  \n",
       "1           NaN  \n",
       "2           NaN  \n",
       "3           NaN  \n",
       "4           NaN  "
      ]
     },
     "execution_count": 5,
     "metadata": {},
     "output_type": "execute_result"
    }
   ],
   "source": [
    "# select the columns we need for test data\n",
    "df_test_new = df_test.iloc[:,1:]\n",
    "df_test_new.head()"
   ]
  },
  {
   "cell_type": "markdown",
   "metadata": {},
   "source": [
    "#  Data Pre-processing  - NLP "
   ]
  },
  {
   "cell_type": "markdown",
   "metadata": {},
   "source": [
    "## Obtian the list of stopwords and punctiations"
   ]
  },
  {
   "cell_type": "code",
   "execution_count": 6,
   "metadata": {},
   "outputs": [],
   "source": [
    "from nltk.corpus import stopwords\n",
    "import string,re\n",
    "import nltk\n",
    "\n",
    "sw_list = stopwords.words('english')\n",
    "sw_list += list(string.punctuation)\n",
    "sw_list += [\"''\", '\"\"', '...', '``', '’', '“', '’', '”', '‘', '‘',\"'\", '©',\".\",\"..\"\n",
    "'said',\"'s\", \"also\",'one',\"n't\",'com', 'satirewire', '-', '–', \"and\",\n",
    "'—', '_','satirewire.com',\"/\"]\n",
    "sw_set = set(sw_list)"
   ]
  },
  {
   "cell_type": "code",
   "execution_count": 7,
   "metadata": {
    "scrolled": true
   },
   "outputs": [
    {
     "name": "stdout",
     "output_type": "stream",
     "text": [
      "{\"it's\", 'wasn', 'these', 'same', 'or', 'very', 'hadn', 'after', 'only', 'until', 'for', 'doesn', 'its', 're', '_', \"that'll\", 'it', \"haven't\", '+', 'have', '“', 'we', 'those', \"weren't\", \"shouldn't\", ':', 's', 'com', '<', \"should've\", '=', '\"\"', \"'s\", '.', '‘', 'under', 'one', 'with', '^', 'ma', \"wasn't\", 'between', 'mustn', 'all', 'having', 'during', 'won', 'them', 'in', \"she's\", 'if', '!', 'wouldn', 'o', '\\\\', 'ours', 'before', 'my', 'each', 'against', 'here', '``', 'of', \"you'd\", 'when', 'are', 'through', 'no', \"won't\", \"you're\", 'at', 'that', 'can', 'satirewire.com', '%', 'down', 'over', '[', \"'\", 'couldn', 'itself', 'a', '\"', 'your', 'll', 'me', ',', '>', 'been', 'while', 'then', 'm', 'had', 'ain', \"couldn't\", \"doesn't\", 'just', 'his', 'shouldn', 'what', '–', 'myself', 'how', 'was', '?', \"''\", ';', 'most', \"mightn't\", 'other', 'hasn', 'above', '~', 'any', 'out', 'himself', 'is', 'doing', 'you', 'into', 'also', '#', '...', '*', 'didn', 'satirewire', 'more', '{', 'don', 'hers', 'weren', 'being', 'they', 'too', 'aren', '`', 'than', 'haven', 'our', 'because', 'own', 'nor', 'isn', 'such', 'up', 'once', 'yourself', 'who', 'do', 'does', 'the', 'whom', 'about', 'below', 'some', 'few', '’', 'why', 'now', \"don't\", '(', 'themselves', \"wouldn't\", 'further', 'him', '$', '—', 'where', '/', 'am', 'y', 'did', \"needn't\", 'herself', 'has', 'd', 'by', 'an', 'both', 'there', \"shan't\", 'off', 've', '”', 'on', 'were', \"you'll\", 'as', '}', 'so', '|', \"you've\", '&', 'from', 'will', 'she', '@', 'which', 'needn', \"isn't\", '..said', \"n't\", \"hasn't\", '-', \"aren't\", 't', 'theirs', \"mustn't\", 'shan', 'their', 'again', 'not', 'this', ']', \"didn't\", 'he', 'should', '©', 'mightn', 'and', \"hadn't\", 'be', 'to', 'yourselves', ')', 'ourselves', 'i', 'yours', 'but', 'her'}\n"
     ]
    }
   ],
   "source": [
    "print(sw_set)"
   ]
  },
  {
   "cell_type": "code",
   "execution_count": 8,
   "metadata": {},
   "outputs": [],
   "source": [
    "# a fucntion to convert conjunction \n",
    "def clean_text(text):\n",
    "    text = text.lower()\n",
    "    text = re.sub(r\"i'm\", \"i am\", text)\n",
    "    text = re.sub(r\"he's\", \"he is\", text)\n",
    "    text = re.sub(r\"she's\", \"she is\", text)\n",
    "    text = re.sub(r\"that's\", \"that is\", text)\n",
    "    text = re.sub(r\"what's\", \"what is\", text)\n",
    "    text = re.sub(r\"where's\", \"where is\", text)\n",
    "    text = re.sub(r\"how's\", \"how is\", text)\n",
    "    text = re.sub(r\"\\'ll\", \" will\", text)\n",
    "    text = re.sub(r\"\\'ve\", \" have\", text)\n",
    "    text = re.sub(r\"\\'re\", \" are\", text)\n",
    "    text = re.sub(r\"\\'d\", \" would\", text)\n",
    "    text = re.sub(r\"n't\", \" not\", text)\n",
    "    text = re.sub(r\"won't\", \"will not\", text)\n",
    "    text = re.sub(r\"can't\", \"cannot\", text)   \n",
    "    text = re.sub(r\".a\", \"a\", text) \n",
    "    return text"
   ]
  },
  {
   "cell_type": "markdown",
   "metadata": {},
   "source": [
    "## Create functions for Tokenization, Stemming and Lemmatizatrion\n",
    "\n"
   ]
  },
  {
   "cell_type": "markdown",
   "metadata": {},
   "source": [
    "Blog: https://medium.com/swlh/natural-language-processing-nlp-analysis-with-amazon-review-data-part-i-data-engineering-6573b782e4dc\n",
    "\n",
    "GitHub repo: https://github.com/melanieshi0120/NLP_Analysis_Amazon_Reviews/blob/master/Multi-class_Classification.ipynb"
   ]
  },
  {
   "cell_type": "code",
   "execution_count": 9,
   "metadata": {},
   "outputs": [],
   "source": [
    "# tokenization\n",
    "def process_text(sentence):\n",
    "    tokens = nltk.word_tokenize(sentence) # tokenization  \n",
    "    stopwords_removed = [token.lower() for token in tokens if token.lower() not in sw_set]# stop workds removal\n",
    "    return stopwords_removed"
   ]
  },
  {
   "cell_type": "code",
   "execution_count": 10,
   "metadata": {},
   "outputs": [],
   "source": [
    "# Stemming\n",
    "from nltk.stem import PorterStemmer\n",
    "ps = PorterStemmer()\n",
    "# create a function stemming() and loop through each word in a review\n",
    "def stemming(sentence):\n",
    "    stemmed_sentence=[]\n",
    "    for w in sentence:\n",
    "        stemmed_sentence.append(ps.stem(w))\n",
    "    return stemmed_sentence\n"
   ]
  },
  {
   "cell_type": "code",
   "execution_count": 11,
   "metadata": {},
   "outputs": [],
   "source": [
    "# import libraries\n",
    "# from nltk.stem.wordnet import WordNetLemmatizer\n",
    "# lemmatizer = WordNetLemmatizer()\n",
    "\n",
    "# # create a function  and loop through each word in  a review\n",
    "# def lemmatization(sentence):\n",
    "#     lemma_list=[]\n",
    "#     for word in sentence:\n",
    "#         lemma_word=lemmatizer.lemmatize(word) #,pos='v'\n",
    "#         lemma_list.append(lemma_word)\n",
    "#     return lemma_list"
   ]
  },
  {
   "cell_type": "code",
   "execution_count": 12,
   "metadata": {},
   "outputs": [],
   "source": [
    "# Conbime all functions above and obtian cleaned text data \n",
    "def data_preprocessing(column):\n",
    "    # convert conjunction \n",
    "    cleaned_sentence=[]\n",
    "    for text in column:\n",
    "        cleaned_sentence.append(clean_text(text))\n",
    "    \n",
    "    #tokenization, stop words removal, punctuation marks removel\n",
    "    processed_text=list(map(process_text,cleaned_sentence))\n",
    "    # stemming\n",
    "    stemming_text=list(map(stemming,processed_text))\n",
    "#     # lemmatization\n",
    "#     lemma_text=list(map(lemmatization,stemming_text))\n",
    "    return stemming_text"
   ]
  },
  {
   "cell_type": "markdown",
   "metadata": {},
   "source": [
    "# Now it is time to use every function we made above and get cleaned the data\n"
   ]
  },
  {
   "cell_type": "code",
   "execution_count": 13,
   "metadata": {},
   "outputs": [],
   "source": [
    "# Now it is time to use every function we made above and get new \n",
    "# clean the train data -'Description'\n",
    "cleaned_x_train=data_preprocessing(df_train_new['Description'])\n",
    "# clean the test data -'Description'\n",
    "cleaned_x_test=data_preprocessing(df_test_new['Description'])"
   ]
  },
  {
   "cell_type": "code",
   "execution_count": 14,
   "metadata": {},
   "outputs": [],
   "source": [
    "train_text=[\" \".join(x) for x in cleaned_x_train]\n",
    "test_text=[\" \".join(x) for x in cleaned_x_test]"
   ]
  },
  {
   "cell_type": "code",
   "execution_count": 15,
   "metadata": {},
   "outputs": [
    {
     "name": "stdout",
     "output_type": "stream",
     "text": [
      "enterain music love fun comedi insagam insagood ashion hiphop follow meme news funni trendingart anc medaartist like photogaphi arti moviesactor vial event hollywood bollywood event tiktok press meda news photogaphi music covid joural photojouralismart insagam jouralist ashion giondent aazin photogaph coroavirusartist insagood photo adio tv ardib like photooftheay youtub adio film singer podast tv exploreageactress show inda enterain live repost explor dj livemus funnymem meme amili celebr ap wed insaaili movieawstenknight life follow design silkpress work hiphop newsap gym ardi ardiang tain publicreationsa workout print photojouralist sama anon report giondentstyl offset wenevergiveup ua produc socalmeda\n"
     ]
    }
   ],
   "source": [
    "print(train_text[0])  \n",
    "# let us take a look at the fresh and cleaned data  (first row)"
   ]
  },
  {
   "cell_type": "code",
   "execution_count": 16,
   "metadata": {},
   "outputs": [
    {
     "name": "stdout",
     "output_type": "stream",
     "text": [
      "entertainment music love fun comedy instagram instagood fashion hiphop follow memes news funny trending art dance media artist like photography party movies actor viral events hollywood bollywood event tiktok\n",
      "press media news photography music covid journalism photojournalism art instagram journalist fashion giondent magazine photographer coronavirus artist instagood photo radio tv cardib like photooftheday youtube radio film singer podcast tv explorepage actress show india entertainer live repost explore dj livemusic funnymemes meme family celebrity rap wedding  instadaily movie awstenknight life \n",
      "follow design silkpress work hiphop newspaper gym cardi bardigang training publicrelations a workout print photojournalist stampa canon reporter giondentstyle offset wenevergiveup usa producer socialmedia \n"
     ]
    }
   ],
   "source": [
    "print(df_train_new['Description'][0])"
   ]
  },
  {
   "cell_type": "markdown",
   "metadata": {},
   "source": [
    "We can see that  \n",
    "- 'entertainment' converted to 'entertain' \n",
    "- 'events'  converted to \"event\"\n",
    "- 'training' to 'train'\n",
    "- 'publicrelations' to 'publicrel'\n",
    "... and so on.\n",
    "\n",
    "Make data consistency so that when we vectorize those text data, so that we are able to get correct digital data to.\n"
   ]
  },
  {
   "cell_type": "markdown",
   "metadata": {},
   "source": [
    "# Now we need to encode our target - Category\n"
   ]
  },
  {
   "cell_type": "code",
   "execution_count": 17,
   "metadata": {
    "scrolled": true
   },
   "outputs": [
    {
     "data": {
      "text/plain": [
       "Media & Entertainment     21\n",
       "Career & Education         8\n",
       "Business & Finance         7\n",
       "Health & Fitness           6\n",
       "Home & Gardening           5\n",
       "Travel & Tourism           4\n",
       "Information Technology     3\n",
       "Food & Resturant           3\n",
       "Sports & Games             3\n",
       "Shopping                   2\n",
       "Events                     1\n",
       "Social Platform            1\n",
       "Collaboration              1\n",
       "Pets & Animals             1\n",
       "Name: Category, dtype: int64"
      ]
     },
     "execution_count": 17,
     "metadata": {},
     "output_type": "execute_result"
    }
   ],
   "source": [
    "# take a look at how many different Categories in our target data \n",
    "df_train_new['Category'].value_counts()\n",
    "# we can see there are 14 different Categories\n",
    "# so we want to transform those categorical data digitally for example:\n",
    "# 0 represents 'Media & Entertainment'\n",
    "# 1 represents 'Career & Education' \n",
    "# 2 represents 'Business & Finance '\n",
    "# ....... \n",
    "# 13 represents 'Social Platform'"
   ]
  },
  {
   "cell_type": "code",
   "execution_count": 18,
   "metadata": {},
   "outputs": [
    {
     "data": {
      "text/plain": [
       "{'Business & Finance': 0,\n",
       " 'Career & Education': 1,\n",
       " 'Collaboration': 2,\n",
       " 'Events': 3,\n",
       " 'Food & Resturant': 4,\n",
       " 'Health & Fitness': 5,\n",
       " 'Home & Gardening': 6,\n",
       " 'Information Technology': 7,\n",
       " 'Media & Entertainment': 8,\n",
       " 'Pets & Animals': 9,\n",
       " 'Shopping': 10,\n",
       " 'Social Platform': 11,\n",
       " 'Sports & Games': 12,\n",
       " 'Travel & Tourism': 13}"
      ]
     },
     "execution_count": 18,
     "metadata": {},
     "output_type": "execute_result"
    }
   ],
   "source": [
    "# to get all categories \n",
    "import numpy as np\n",
    "cate=np.unique(df_train_new['Category'])\n",
    "mapping_list={}\n",
    "for i in range(len(cate)):\n",
    "    mapping_list[cate[i]]=i\n",
    "# now we created a dictionary for converting the categorical data into digital data\n",
    "mapping_list\n"
   ]
  },
  {
   "cell_type": "code",
   "execution_count": 19,
   "metadata": {},
   "outputs": [],
   "source": [
    "# Decalre y test and y train\n",
    "y_train=df_train_new['Category'].map(mapping_list)\n",
    "y_test=df_test_new['Category'].map(mapping_list)"
   ]
  },
  {
   "cell_type": "code",
   "execution_count": 20,
   "metadata": {
    "scrolled": false
   },
   "outputs": [
    {
     "name": "stdout",
     "output_type": "stream",
     "text": [
      "0     8\n",
      "1     8\n",
      "2     8\n",
      "3     8\n",
      "4     8\n",
      "     ..\n",
      "61    6\n",
      "62    6\n",
      "63    6\n",
      "64    1\n",
      "65    7\n",
      "Name: Category, Length: 66, dtype: int64\n"
     ]
    }
   ],
   "source": [
    "# Now we converted the df_train_new['Category'] and df_test_new['Category'] into digitally\n",
    "print(y_train)"
   ]
  },
  {
   "cell_type": "code",
   "execution_count": 21,
   "metadata": {},
   "outputs": [],
   "source": [
    "from sklearn.feature_extraction.text import CountVectorizer\n",
    "vectorizer =CountVectorizer()\n",
    "x_train=vectorizer.fit_transform(train_text)\n",
    "x_test=vectorizer.transform(test_text)"
   ]
  },
  {
   "cell_type": "markdown",
   "metadata": {},
   "source": [
    "# Naive Bayes Classifier"
   ]
  },
  {
   "cell_type": "markdown",
   "metadata": {},
   "source": [
    " Code is from https://github.com/melanieshi0120/NLP_Analysis_Amazon_Reviews/blob/master/Multi-class_Classification.ipynb\n"
   ]
  },
  {
   "cell_type": "code",
   "execution_count": 22,
   "metadata": {},
   "outputs": [],
   "source": [
    "# Now we decleared x_train, x_test, y_train, y_test\n",
    "# then we want to use GridSearch to tune the best parameters\n",
    "from sklearn.model_selection import GridSearchCV\n",
    "from sklearn.naive_bayes import MultinomialNB\n",
    "from sklearn.metrics import f1_score,make_scorer,accuracy_score\n",
    "from sklearn.metrics import confusion_matrix\n",
    "\n",
    "f1 = make_scorer(f1_score , average='weighted') \n",
    "\n",
    "def NB_GridSearch(x_train, y_train):\n",
    "    grid_params = {'alpha':[0.1,0.2,0.3,0.4,0.5],\n",
    "                     'fit_prior': [True, False],  }\n",
    "\n",
    "    gs = GridSearchCV( MultinomialNB(), grid_params,scoring=f1)\n",
    "    gs.fit(x_train, y_train)\n",
    "    print(\"Best Score: \", gs.best_score_)\n",
    "    return gs.best_params_.values()"
   ]
  },
  {
   "cell_type": "code",
   "execution_count": 23,
   "metadata": {},
   "outputs": [],
   "source": [
    "# create a function for the Naive Bayes Classifier\n",
    "def NaiveBayes(x_train,y_train,x_test,y_test,alpha,fit_prior):\n",
    "    # fit the training dataset on the NB classifier\n",
    "    Naive = MultinomialNB(alpha=alpha, fit_prior= fit_prior)\n",
    "    Naive.fit(x_train,y_train)\n",
    "    #prediction\n",
    "    nb_train_pre=Naive.predict(x_train)\n",
    "    nb_test_pre=Naive.predict(x_test)\n",
    "    # Use accuracy_score function to get the accuracy\n",
    "    print(\"Naive Bayes Train Accuracy Score :\",accuracy_score(nb_train_pre, y_train))\n",
    "    print(\"Naive Bayes Test Accuracy Score :\",accuracy_score(nb_test_pre, y_test))\n",
    "    # calculate f1 scores for test data and train data \n",
    "    # Accuracy can be used when the class distribution is similar \n",
    "    # while F1-score is a better metric when there are imbalanced classes as in the above case\n",
    "    nb_f1_score_test=f1_score(y_test,nb_test_pre,average='weighted')\n",
    "    nb_f1_score_train=f1_score(y_train,nb_train_pre,average='weighted')\n",
    "\n",
    "    print(\"Train data f1 score:{}\".format(nb_f1_score_train))\n",
    "    print(\"Test data f1 score:{}\".format(nb_f1_score_test ))\n",
    "    print(\"confusion_matrix:{}\".format(confusion_matrix(y_test, nb_test_pre)))\n",
    "    return nb_train_pre,nb_test_pre,Naive"
   ]
  },
  {
   "cell_type": "code",
   "execution_count": 24,
   "metadata": {},
   "outputs": [
    {
     "name": "stderr",
     "output_type": "stream",
     "text": [
      "/Users/yingyuxuan/opt/anaconda3/lib/python3.7/site-packages/sklearn/model_selection/_split.py:667: UserWarning: The least populated class in y has only 1 members, which is less than n_splits=5.\n",
      "  % (min_groups, self.n_splits)), UserWarning)\n"
     ]
    },
    {
     "name": "stdout",
     "output_type": "stream",
     "text": [
      "Best Score:  0.5873748473748474\n"
     ]
    },
    {
     "data": {
      "text/plain": [
       "(0.5, True)"
      ]
     },
     "execution_count": 24,
     "metadata": {},
     "output_type": "execute_result"
    }
   ],
   "source": [
    "alpha,fit_prior=NB_GridSearch(x_train, y_train)\n",
    "alpha,fit_prior \n",
    "# The reason why we got this warning because some class have only one Observation , such as --\n",
    "#==================================\n",
    "# Category              Observation\n",
    "#==================================\n",
    "# Collaboration              1\n",
    "# Pets & Animals             1\n",
    "# Events                     1\n",
    "# Social Platform            1\n",
    "# But this is find if we use this data as a study case. "
   ]
  },
  {
   "cell_type": "code",
   "execution_count": 25,
   "metadata": {
    "scrolled": true
   },
   "outputs": [
    {
     "name": "stdout",
     "output_type": "stream",
     "text": [
      "Naive Bayes Train Accuracy Score : 1.0\n",
      "Naive Bayes Test Accuracy Score : 0.8709677419354839\n",
      "Train data f1 score:1.0\n",
      "Test data f1 score:0.8950146627565981\n",
      "confusion_matrix:[[1 0 0 0 0 0 0 0 0]\n",
      " [0 4 0 0 0 0 0 0 0]\n",
      " [0 0 2 0 0 0 0 0 0]\n",
      " [0 0 0 3 0 0 1 3 0]\n",
      " [0 0 0 0 3 0 0 0 0]\n",
      " [0 0 0 0 0 8 0 0 0]\n",
      " [0 0 0 0 0 0 5 0 0]\n",
      " [0 0 0 0 0 0 0 0 0]\n",
      " [0 0 0 0 0 0 0 0 1]]\n"
     ]
    }
   ],
   "source": [
    "train_precition,test_prediction,classifier=NaiveBayes(x_train,y_train,x_test,y_test,alpha,fit_prior)"
   ]
  },
  {
   "cell_type": "markdown",
   "metadata": {},
   "source": [
    "# Plot the confusion matrix"
   ]
  },
  {
   "cell_type": "code",
   "execution_count": 26,
   "metadata": {
    "scrolled": false
   },
   "outputs": [
    {
     "data": {
      "text/plain": [
       "<sklearn.metrics._plot.confusion_matrix.ConfusionMatrixDisplay at 0x1a1de48d50>"
      ]
     },
     "execution_count": 26,
     "metadata": {},
     "output_type": "execute_result"
    },
    {
     "data": {
      "image/png": "[encoded data removed]",
      "text/plain": [
       "<Figure size 720x720 with 2 Axes>"
      ]
     },
     "metadata": {
      "needs_background": "light"
     },
     "output_type": "display_data"
    }
   ],
   "source": [
    "# Plot non-normalized confusion matrix\n",
    "import matplotlib.pyplot as plt\n",
    "from sklearn.metrics import plot_confusion_matrix\n",
    "fig, ax = plt.subplots(figsize=(10, 10))\n",
    "plot_confusion_matrix(classifier, x_test, y_test, cmap=plt.cm.Blues,ax=ax)\n"
   ]
  },
  {
   "cell_type": "code",
   "execution_count": 27,
   "metadata": {
    "scrolled": true
   },
   "outputs": [
    {
     "data": {
      "text/html": [
       "<div>\n",
       "<style scoped>\n",
       "    .dataframe tbody tr th:only-of-type {\n",
       "        vertical-align: middle;\n",
       "    }\n",
       "\n",
       "    .dataframe tbody tr th {\n",
       "        vertical-align: top;\n",
       "    }\n",
       "\n",
       "    .dataframe thead th {\n",
       "        text-align: right;\n",
       "    }\n",
       "</style>\n",
       "<table border=\"1\" class=\"dataframe\">\n",
       "  <thead>\n",
       "    <tr style=\"text-align: right;\">\n",
       "      <th></th>\n",
       "      <th>Description</th>\n",
       "      <th>Model_Output</th>\n",
       "    </tr>\n",
       "  </thead>\n",
       "  <tbody>\n",
       "    <tr>\n",
       "      <th>0</th>\n",
       "      <td>Rackspace Technology | Multicloud Solutions Pr...</td>\n",
       "      <td>Information Technology</td>\n",
       "    </tr>\n",
       "    <tr>\n",
       "      <th>1</th>\n",
       "      <td>&gt;Merge, join, concatenate and compare &amp;#8212; ...</td>\n",
       "      <td>Career &amp; Education</td>\n",
       "    </tr>\n",
       "    <tr>\n",
       "      <th>2</th>\n",
       "      <td>Welcome to Cloudcroft! At 9000' above stress l...</td>\n",
       "      <td>Travel &amp; Tourism</td>\n",
       "    </tr>\n",
       "    <tr>\n",
       "      <th>3</th>\n",
       "      <td>Live One-On-One Music Lessons From Fun &amp; Inspi...</td>\n",
       "      <td>Media &amp; Entertainment</td>\n",
       "    </tr>\n",
       "    <tr>\n",
       "      <th>4</th>\n",
       "      <td>100 %ONLINE CULINARY EDUCATION, chef training</td>\n",
       "      <td>Career &amp; Education</td>\n",
       "    </tr>\n",
       "  </tbody>\n",
       "</table>\n",
       "</div>"
      ],
      "text/plain": [
       "                                         Description            Model_Output\n",
       "0  Rackspace Technology | Multicloud Solutions Pr...  Information Technology\n",
       "1  >Merge, join, concatenate and compare &#8212; ...      Career & Education\n",
       "2  Welcome to Cloudcroft! At 9000' above stress l...        Travel & Tourism\n",
       "3  Live One-On-One Music Lessons From Fun & Inspi...   Media & Entertainment\n",
       "4      100 %ONLINE CULINARY EDUCATION, chef training      Career & Education"
      ]
     },
     "execution_count": 27,
     "metadata": {},
     "output_type": "execute_result"
    }
   ],
   "source": [
    "## Prediction - model_output.csv\n",
    "# load the model_output data\n",
    "model_output=pd.read_csv(\"model_output.csv\")\n",
    "model_output.head()"
   ]
  },
  {
   "cell_type": "code",
   "execution_count": 28,
   "metadata": {},
   "outputs": [],
   "source": [
    "Description=model_output.Description# obtian the feature column\n",
    "Prepro_description=[\" \".join(x) for x in data_preprocessing(Description)] # un-tokenize \n",
    "vect_description=vectorizer.transform(Prepro_description)# vectorization"
   ]
  },
  {
   "cell_type": "code",
   "execution_count": 29,
   "metadata": {},
   "outputs": [],
   "source": [
    "# fit the model\n",
    "prediction=classifier.predict(vect_description)"
   ]
  },
  {
   "cell_type": "code",
   "execution_count": 30,
   "metadata": {},
   "outputs": [],
   "source": [
    "# We can use mappling_list\n",
    "prediction_cate=[]\n",
    "for i in range(len(prediction)):\n",
    "    for j in range(len(mapping_list.keys())):\n",
    "        if prediction[i]== list(mapping_list.values())[j]:\n",
    "            prediction_cate.append(list(mapping_list.keys())[j])"
   ]
  },
  {
   "cell_type": "code",
   "execution_count": 31,
   "metadata": {
    "scrolled": false
   },
   "outputs": [
    {
     "name": "stdout",
     "output_type": "stream",
     "text": [
      "['Information Technology', 'Career & Education', 'Travel & Tourism', 'Media & Entertainment', 'Career & Education', 'Food & Resturant', 'Sports & Games', 'Food & Resturant', 'Career & Education', 'Information Technology', 'Shopping', 'Shopping', 'Shopping', 'Shopping', 'Sports & Games', 'Shopping', 'Media & Entertainment', 'Media & Entertainment', 'Information Technology', 'Media & Entertainment', 'Media & Entertainment', 'Media & Entertainment', 'Media & Entertainment', 'Sports & Games', 'Health & Fitness', 'Health & Fitness', 'Health & Fitness', 'Career & Education', 'Shopping', 'Business & Finance', 'Media & Entertainment']\n"
     ]
    }
   ],
   "source": [
    "print(prediction_cate)"
   ]
  },
  {
   "cell_type": "markdown",
   "metadata": {},
   "source": [
    "# Summary\n",
    "**Based on the confusion matrix we can see that \n",
    "3,6,7 which are Events, Home & Gardening and Information Technology have some inaccurate predictions\n",
    "but the model performed well for other classes**"
   ]
  },
  {
   "cell_type": "markdown",
   "metadata": {},
   "source": [
    "# Top 5 Categories base on the probabilties of predictive Words"
   ]
  },
  {
   "cell_type": "markdown",
   "metadata": {},
   "source": [
    "## Get the predictive words and rank them then with probabilities"
   ]
  },
  {
   "cell_type": "markdown",
   "metadata": {},
   "source": [
    "Code source : https://scikit-learn.org/stable/modules/generated/sklearn.feature_extraction.text.TfidfVectorizer.html\n"
   ]
  },
  {
   "cell_type": "code",
   "execution_count": 32,
   "metadata": {},
   "outputs": [],
   "source": [
    "def get_salient_words(nb_clf, vect, class_int):\n",
    "    \"\"\"Return salient words for given class\n",
    "    Parameters\n",
    "    ----------\n",
    "    nb_clf :  MultinomialNB\n",
    "    vect : CountVectorizer\n",
    "    class_ind : class\n",
    "    Returns\n",
    "    -------\n",
    "    list\n",
    "        a sorted list of (word,  prob) sorted by log probability in descending order.\n",
    "    \"\"\"\n",
    "\n",
    "    words = vect.get_feature_names()\n",
    "    zipped = list(zip(words, np.exp(nb_clf.feature_log_prob_[class_int])))\n",
    "    sorted_zip = sorted(zipped, key=lambda t: t[1], reverse=True)\n",
    "    return sorted_zip"
   ]
  },
  {
   "cell_type": "code",
   "execution_count": 33,
   "metadata": {},
   "outputs": [
    {
     "data": {
      "text/plain": [
       "[('eduat', 0.004407875404055241),\n",
       " ('areer', 0.003820158683514546),\n",
       " ('insagood', 0.003820158683514546),\n",
       " ('love', 0.003820158683514546),\n",
       " ('studi', 0.003820158683514546),\n",
       " ('covid', 0.0032324419629738456),\n",
       " ('entrepreneur', 0.0032324419629738456),\n",
       " ('ladership', 0.0032324419629738456),\n",
       " ('larn', 0.0032324419629738456),\n",
       " ('life', 0.0032324419629738456)]"
      ]
     },
     "execution_count": 33,
     "metadata": {},
     "output_type": "execute_result"
    }
   ],
   "source": [
    "# we can get top 10 predicitive keywords ranked by the probabilities\n",
    "get_salient_words(classifier, vectorizer, 1)[:10] "
   ]
  },
  {
   "cell_type": "code",
   "execution_count": 34,
   "metadata": {},
   "outputs": [
    {
     "data": {
      "text/plain": [
       "[('tavel', 0.012531328320802003),\n",
       " ('insatavel', 0.004654493376297888),\n",
       " ('holiay', 0.003938417472252057),\n",
       " ('photogaphi', 0.003938417472252057),\n",
       " ('tavelphotogaphi', 0.003938417472252057),\n",
       " ('aation', 0.003222341568206228),\n",
       " ('anderlust', 0.003222341568206228),\n",
       " ('atur', 0.003222341568206228),\n",
       " ('bach', 0.003222341568206228),\n",
       " ('hotel', 0.003222341568206228),\n",
       " ('iali', 0.003222341568206228),\n",
       " ('photooftheay', 0.003222341568206228),\n",
       " ('sa', 0.003222341568206228),\n",
       " ('summer', 0.003222341568206228),\n",
       " ('tavelblogg', 0.003222341568206228),\n",
       " ('tavelgam', 0.003222341568206228),\n",
       " ('tourism', 0.003222341568206228),\n",
       " ('trip', 0.003222341568206228),\n",
       " ('cruis', 0.0025062656641604004),\n",
       " ('hoteli', 0.0025062656641604004)]"
      ]
     },
     "execution_count": 34,
     "metadata": {},
     "output_type": "execute_result"
    }
   ],
   "source": [
    "# we also can get top 20\n",
    "get_salient_words(classifier, vectorizer, 13)[:20] "
   ]
  },
  {
   "cell_type": "code",
   "execution_count": 35,
   "metadata": {
    "code_folding": []
   },
   "outputs": [],
   "source": [
    "# use the data above to create dataframe for each class with loop and save each dataframe into df_list\n",
    "df_list=[]\n",
    "for i in range(len(cate)):\n",
    "    df_i=pd.DataFrame(get_salient_words(classifier, vectorizer, i), columns=[cate[i]+\"_w\", cate[i]+\"_p\"]).reset_index()\n",
    "    df_list.append(df_i)"
   ]
  },
  {
   "cell_type": "code",
   "execution_count": 36,
   "metadata": {
    "code_folding": [],
    "scrolled": true
   },
   "outputs": [
    {
     "data": {
      "text/html": [
       "<div>\n",
       "<style scoped>\n",
       "    .dataframe tbody tr th:only-of-type {\n",
       "        vertical-align: middle;\n",
       "    }\n",
       "\n",
       "    .dataframe tbody tr th {\n",
       "        vertical-align: top;\n",
       "    }\n",
       "\n",
       "    .dataframe thead th {\n",
       "        text-align: right;\n",
       "    }\n",
       "</style>\n",
       "<table border=\"1\" class=\"dataframe\">\n",
       "  <thead>\n",
       "    <tr style=\"text-align: right;\">\n",
       "      <th></th>\n",
       "      <th>Business &amp; Finance_w</th>\n",
       "      <th>Business &amp; Finance_p</th>\n",
       "      <th>Career &amp; Education_w</th>\n",
       "      <th>Career &amp; Education_p</th>\n",
       "      <th>Collaboration_w</th>\n",
       "      <th>Collaboration_p</th>\n",
       "      <th>Events_w</th>\n",
       "      <th>Events_p</th>\n",
       "      <th>Food &amp; Resturant_w</th>\n",
       "      <th>Food &amp; Resturant_p</th>\n",
       "      <th>...</th>\n",
       "      <th>Pets &amp; Animals_w</th>\n",
       "      <th>Pets &amp; Animals_p</th>\n",
       "      <th>Shopping_w</th>\n",
       "      <th>Shopping_p</th>\n",
       "      <th>Social Platform_w</th>\n",
       "      <th>Social Platform_p</th>\n",
       "      <th>Sports &amp; Games_w</th>\n",
       "      <th>Sports &amp; Games_p</th>\n",
       "      <th>Travel &amp; Tourism_w</th>\n",
       "      <th>Travel &amp; Tourism_p</th>\n",
       "    </tr>\n",
       "  </thead>\n",
       "  <tbody>\n",
       "    <tr>\n",
       "      <th>0</th>\n",
       "      <td>invest</td>\n",
       "      <td>0.006536</td>\n",
       "      <td>eduat</td>\n",
       "      <td>0.004408</td>\n",
       "      <td>crativ</td>\n",
       "      <td>0.002147</td>\n",
       "      <td>givaay</td>\n",
       "      <td>0.002141</td>\n",
       "      <td>foodi</td>\n",
       "      <td>0.006308</td>\n",
       "      <td>...</td>\n",
       "      <td>achorro</td>\n",
       "      <td>0.00213</td>\n",
       "      <td>akeup</td>\n",
       "      <td>0.002799</td>\n",
       "      <td>amili</td>\n",
       "      <td>0.002121</td>\n",
       "      <td>sport</td>\n",
       "      <td>0.006422</td>\n",
       "      <td>tavel</td>\n",
       "      <td>0.012531</td>\n",
       "    </tr>\n",
       "    <tr>\n",
       "      <th>1</th>\n",
       "      <td>busi</td>\n",
       "      <td>0.004669</td>\n",
       "      <td>areer</td>\n",
       "      <td>0.003820</td>\n",
       "      <td>all</td>\n",
       "      <td>0.001288</td>\n",
       "      <td>sport</td>\n",
       "      <td>0.002141</td>\n",
       "      <td>cook</td>\n",
       "      <td>0.005566</td>\n",
       "      <td>...</td>\n",
       "      <td>ato</td>\n",
       "      <td>0.00213</td>\n",
       "      <td>design</td>\n",
       "      <td>0.002799</td>\n",
       "      <td>bauti</td>\n",
       "      <td>0.002121</td>\n",
       "      <td>fit</td>\n",
       "      <td>0.004156</td>\n",
       "      <td>insatavel</td>\n",
       "      <td>0.004654</td>\n",
       "    </tr>\n",
       "    <tr>\n",
       "      <th>2</th>\n",
       "      <td>covid</td>\n",
       "      <td>0.004669</td>\n",
       "      <td>insagood</td>\n",
       "      <td>0.003820</td>\n",
       "      <td>andad</td>\n",
       "      <td>0.001288</td>\n",
       "      <td>agant</td>\n",
       "      <td>0.001285</td>\n",
       "      <td>food</td>\n",
       "      <td>0.004824</td>\n",
       "      <td>...</td>\n",
       "      <td>dog</td>\n",
       "      <td>0.00213</td>\n",
       "      <td>ag</td>\n",
       "      <td>0.001999</td>\n",
       "      <td>like</td>\n",
       "      <td>0.002121</td>\n",
       "      <td>asketal</td>\n",
       "      <td>0.003400</td>\n",
       "      <td>holiay</td>\n",
       "      <td>0.003938</td>\n",
       "    </tr>\n",
       "    <tr>\n",
       "      <th>3</th>\n",
       "      <td>entrepreneur</td>\n",
       "      <td>0.004046</td>\n",
       "      <td>love</td>\n",
       "      <td>0.003820</td>\n",
       "      <td>ashionstyl</td>\n",
       "      <td>0.001288</td>\n",
       "      <td>anc</td>\n",
       "      <td>0.001285</td>\n",
       "      <td>foodlov</td>\n",
       "      <td>0.004824</td>\n",
       "      <td>...</td>\n",
       "      <td>doglov</td>\n",
       "      <td>0.00213</td>\n",
       "      <td>bauti</td>\n",
       "      <td>0.001999</td>\n",
       "      <td>likeforlik</td>\n",
       "      <td>0.002121</td>\n",
       "      <td>like</td>\n",
       "      <td>0.003400</td>\n",
       "      <td>photogaphi</td>\n",
       "      <td>0.003938</td>\n",
       "    </tr>\n",
       "    <tr>\n",
       "      <th>4</th>\n",
       "      <td>love</td>\n",
       "      <td>0.004046</td>\n",
       "      <td>studi</td>\n",
       "      <td>0.003820</td>\n",
       "      <td>ather</td>\n",
       "      <td>0.001288</td>\n",
       "      <td>ancer</td>\n",
       "      <td>0.001285</td>\n",
       "      <td>ake</td>\n",
       "      <td>0.004082</td>\n",
       "      <td>...</td>\n",
       "      <td>pet</td>\n",
       "      <td>0.00213</td>\n",
       "      <td>cloth</td>\n",
       "      <td>0.001999</td>\n",
       "      <td>acebook</td>\n",
       "      <td>0.001273</td>\n",
       "      <td>run</td>\n",
       "      <td>0.003400</td>\n",
       "      <td>tavelphotogaphi</td>\n",
       "      <td>0.003938</td>\n",
       "    </tr>\n",
       "  </tbody>\n",
       "</table>\n",
       "<p>5 rows × 28 columns</p>\n",
       "</div>"
      ],
      "text/plain": [
       "  Business & Finance_w  Business & Finance_p Career & Education_w  \\\n",
       "0               invest              0.006536                eduat   \n",
       "1                 busi              0.004669                areer   \n",
       "2                covid              0.004669             insagood   \n",
       "3         entrepreneur              0.004046                 love   \n",
       "4                 love              0.004046                studi   \n",
       "\n",
       "   Career & Education_p Collaboration_w  Collaboration_p Events_w  Events_p  \\\n",
       "0              0.004408          crativ         0.002147   givaay  0.002141   \n",
       "1              0.003820             all         0.001288    sport  0.002141   \n",
       "2              0.003820           andad         0.001288    agant  0.001285   \n",
       "3              0.003820      ashionstyl         0.001288      anc  0.001285   \n",
       "4              0.003820           ather         0.001288    ancer  0.001285   \n",
       "\n",
       "  Food & Resturant_w  Food & Resturant_p  ... Pets & Animals_w  \\\n",
       "0              foodi            0.006308  ...          achorro   \n",
       "1               cook            0.005566  ...              ato   \n",
       "2               food            0.004824  ...              dog   \n",
       "3            foodlov            0.004824  ...           doglov   \n",
       "4                ake            0.004082  ...              pet   \n",
       "\n",
       "   Pets & Animals_p Shopping_w  Shopping_p Social Platform_w  \\\n",
       "0           0.00213      akeup    0.002799             amili   \n",
       "1           0.00213     design    0.002799             bauti   \n",
       "2           0.00213         ag    0.001999              like   \n",
       "3           0.00213      bauti    0.001999        likeforlik   \n",
       "4           0.00213      cloth    0.001999           acebook   \n",
       "\n",
       "   Social Platform_p Sports & Games_w  Sports & Games_p Travel & Tourism_w  \\\n",
       "0           0.002121            sport          0.006422              tavel   \n",
       "1           0.002121              fit          0.004156          insatavel   \n",
       "2           0.002121          asketal          0.003400             holiay   \n",
       "3           0.002121             like          0.003400         photogaphi   \n",
       "4           0.001273              run          0.003400    tavelphotogaphi   \n",
       "\n",
       "   Travel & Tourism_p  \n",
       "0            0.012531  \n",
       "1            0.004654  \n",
       "2            0.003938  \n",
       "3            0.003938  \n",
       "4            0.003938  \n",
       "\n",
       "[5 rows x 28 columns]"
      ]
     },
     "execution_count": 36,
     "metadata": {},
     "output_type": "execute_result"
    }
   ],
   "source": [
    "from functools import reduce\n",
    "# Merge all the dataframes in the df_list\n",
    "df_merged = reduce(lambda  left,right: pd.merge(left,right,on=['index'],how='outer'), df_list).drop(columns='index')\n",
    "# TOP 10 keywords with their probabilities in each class \n",
    "df_merged.head()\n"
   ]
  },
  {
   "cell_type": "code",
   "execution_count": 37,
   "metadata": {},
   "outputs": [
    {
     "data": {
      "text/plain": [
       "(2243, 28)"
      ]
     },
     "execution_count": 37,
     "metadata": {},
     "output_type": "execute_result"
    }
   ],
   "source": [
    "df_merged.shape"
   ]
  },
  {
   "cell_type": "code",
   "execution_count": 38,
   "metadata": {},
   "outputs": [
    {
     "data": {
      "text/html": [
       "<div>\n",
       "<style scoped>\n",
       "    .dataframe tbody tr th:only-of-type {\n",
       "        vertical-align: middle;\n",
       "    }\n",
       "\n",
       "    .dataframe tbody tr th {\n",
       "        vertical-align: top;\n",
       "    }\n",
       "\n",
       "    .dataframe thead th {\n",
       "        text-align: right;\n",
       "    }\n",
       "</style>\n",
       "<table border=\"1\" class=\"dataframe\">\n",
       "  <thead>\n",
       "    <tr style=\"text-align: right;\">\n",
       "      <th></th>\n",
       "      <th>Business &amp; Finance_w</th>\n",
       "      <th>Career &amp; Education_w</th>\n",
       "      <th>Collaboration_w</th>\n",
       "      <th>Events_w</th>\n",
       "      <th>Food &amp; Resturant_w</th>\n",
       "      <th>Health &amp; Fitness_w</th>\n",
       "      <th>Home &amp; Gardening_w</th>\n",
       "      <th>Information Technology_w</th>\n",
       "      <th>Media &amp; Entertainment_w</th>\n",
       "      <th>Pets &amp; Animals_w</th>\n",
       "      <th>Shopping_w</th>\n",
       "      <th>Social Platform_w</th>\n",
       "      <th>Sports &amp; Games_w</th>\n",
       "      <th>Travel &amp; Tourism_w</th>\n",
       "    </tr>\n",
       "  </thead>\n",
       "  <tbody>\n",
       "    <tr>\n",
       "      <th>0</th>\n",
       "      <td>invest</td>\n",
       "      <td>eduat</td>\n",
       "      <td>crativ</td>\n",
       "      <td>givaay</td>\n",
       "      <td>foodi</td>\n",
       "      <td>fit</td>\n",
       "      <td>interiordesign</td>\n",
       "      <td>engin</td>\n",
       "      <td>music</td>\n",
       "      <td>achorro</td>\n",
       "      <td>akeup</td>\n",
       "      <td>amili</td>\n",
       "      <td>sport</td>\n",
       "      <td>tavel</td>\n",
       "    </tr>\n",
       "    <tr>\n",
       "      <th>1</th>\n",
       "      <td>busi</td>\n",
       "      <td>areer</td>\n",
       "      <td>all</td>\n",
       "      <td>sport</td>\n",
       "      <td>cook</td>\n",
       "      <td>appi</td>\n",
       "      <td>design</td>\n",
       "      <td>comput</td>\n",
       "      <td>musican</td>\n",
       "      <td>ato</td>\n",
       "      <td>design</td>\n",
       "      <td>bauti</td>\n",
       "      <td>fit</td>\n",
       "      <td>insatavel</td>\n",
       "    </tr>\n",
       "    <tr>\n",
       "      <th>2</th>\n",
       "      <td>covid</td>\n",
       "      <td>insagood</td>\n",
       "      <td>andad</td>\n",
       "      <td>agant</td>\n",
       "      <td>food</td>\n",
       "      <td>love</td>\n",
       "      <td>interior</td>\n",
       "      <td>technolog</td>\n",
       "      <td>like</td>\n",
       "      <td>dog</td>\n",
       "      <td>ag</td>\n",
       "      <td>like</td>\n",
       "      <td>asketal</td>\n",
       "      <td>holiay</td>\n",
       "    </tr>\n",
       "    <tr>\n",
       "      <th>3</th>\n",
       "      <td>entrepreneur</td>\n",
       "      <td>love</td>\n",
       "      <td>ashionstyl</td>\n",
       "      <td>anc</td>\n",
       "      <td>foodlov</td>\n",
       "      <td>bauti</td>\n",
       "      <td>andsap</td>\n",
       "      <td>adget</td>\n",
       "      <td>insagam</td>\n",
       "      <td>doglov</td>\n",
       "      <td>bauti</td>\n",
       "      <td>likeforlik</td>\n",
       "      <td>like</td>\n",
       "      <td>photogaphi</td>\n",
       "    </tr>\n",
       "    <tr>\n",
       "      <th>4</th>\n",
       "      <td>love</td>\n",
       "      <td>studi</td>\n",
       "      <td>ather</td>\n",
       "      <td>ancer</td>\n",
       "      <td>ake</td>\n",
       "      <td>doctor</td>\n",
       "      <td>home</td>\n",
       "      <td>design</td>\n",
       "      <td>insagood</td>\n",
       "      <td>pet</td>\n",
       "      <td>cloth</td>\n",
       "      <td>acebook</td>\n",
       "      <td>run</td>\n",
       "      <td>tavelphotogaphi</td>\n",
       "    </tr>\n",
       "  </tbody>\n",
       "</table>\n",
       "</div>"
      ],
      "text/plain": [
       "  Business & Finance_w Career & Education_w Collaboration_w Events_w  \\\n",
       "0               invest                eduat          crativ   givaay   \n",
       "1                 busi                areer             all    sport   \n",
       "2                covid             insagood           andad    agant   \n",
       "3         entrepreneur                 love      ashionstyl      anc   \n",
       "4                 love                studi           ather    ancer   \n",
       "\n",
       "  Food & Resturant_w Health & Fitness_w Home & Gardening_w  \\\n",
       "0              foodi                fit     interiordesign   \n",
       "1               cook               appi             design   \n",
       "2               food               love           interior   \n",
       "3            foodlov              bauti             andsap   \n",
       "4                ake             doctor               home   \n",
       "\n",
       "  Information Technology_w Media & Entertainment_w Pets & Animals_w  \\\n",
       "0                    engin                   music          achorro   \n",
       "1                   comput                 musican              ato   \n",
       "2                technolog                    like              dog   \n",
       "3                    adget                 insagam           doglov   \n",
       "4                   design                insagood              pet   \n",
       "\n",
       "  Shopping_w Social Platform_w Sports & Games_w Travel & Tourism_w  \n",
       "0      akeup             amili            sport              tavel  \n",
       "1     design             bauti              fit          insatavel  \n",
       "2         ag              like          asketal             holiay  \n",
       "3      bauti        likeforlik             like         photogaphi  \n",
       "4      cloth           acebook              run    tavelphotogaphi  "
      ]
     },
     "execution_count": 38,
     "metadata": {},
     "output_type": "execute_result"
    }
   ],
   "source": [
    "# to get words dataframe\n",
    "\n",
    "df_words=df_merged[df_merged.columns[list(range(0,28,2))]]\n",
    "df_words.head()"
   ]
  },
  {
   "cell_type": "code",
   "execution_count": 39,
   "metadata": {
    "scrolled": true
   },
   "outputs": [
    {
     "data": {
      "text/html": [
       "<div>\n",
       "<style scoped>\n",
       "    .dataframe tbody tr th:only-of-type {\n",
       "        vertical-align: middle;\n",
       "    }\n",
       "\n",
       "    .dataframe tbody tr th {\n",
       "        vertical-align: top;\n",
       "    }\n",
       "\n",
       "    .dataframe thead th {\n",
       "        text-align: right;\n",
       "    }\n",
       "</style>\n",
       "<table border=\"1\" class=\"dataframe\">\n",
       "  <thead>\n",
       "    <tr style=\"text-align: right;\">\n",
       "      <th></th>\n",
       "      <th>Business &amp; Finance_p</th>\n",
       "      <th>Career &amp; Education_p</th>\n",
       "      <th>Collaboration_p</th>\n",
       "      <th>Events_p</th>\n",
       "      <th>Food &amp; Resturant_p</th>\n",
       "      <th>Health &amp; Fitness_p</th>\n",
       "      <th>Home &amp; Gardening_p</th>\n",
       "      <th>Information Technology_p</th>\n",
       "      <th>Media &amp; Entertainment_p</th>\n",
       "      <th>Pets &amp; Animals_p</th>\n",
       "      <th>Shopping_p</th>\n",
       "      <th>Social Platform_p</th>\n",
       "      <th>Sports &amp; Games_p</th>\n",
       "      <th>Travel &amp; Tourism_p</th>\n",
       "    </tr>\n",
       "  </thead>\n",
       "  <tbody>\n",
       "    <tr>\n",
       "      <th>0</th>\n",
       "      <td>0.006536</td>\n",
       "      <td>0.004408</td>\n",
       "      <td>0.002147</td>\n",
       "      <td>0.002141</td>\n",
       "      <td>0.006308</td>\n",
       "      <td>0.007643</td>\n",
       "      <td>0.006878</td>\n",
       "      <td>0.004175</td>\n",
       "      <td>0.007938</td>\n",
       "      <td>0.00213</td>\n",
       "      <td>0.002799</td>\n",
       "      <td>0.002121</td>\n",
       "      <td>0.006422</td>\n",
       "      <td>0.012531</td>\n",
       "    </tr>\n",
       "    <tr>\n",
       "      <th>1</th>\n",
       "      <td>0.004669</td>\n",
       "      <td>0.003820</td>\n",
       "      <td>0.001288</td>\n",
       "      <td>0.002141</td>\n",
       "      <td>0.005566</td>\n",
       "      <td>0.006420</td>\n",
       "      <td>0.006223</td>\n",
       "      <td>0.003416</td>\n",
       "      <td>0.007938</td>\n",
       "      <td>0.00213</td>\n",
       "      <td>0.002799</td>\n",
       "      <td>0.002121</td>\n",
       "      <td>0.004156</td>\n",
       "      <td>0.004654</td>\n",
       "    </tr>\n",
       "    <tr>\n",
       "      <th>2</th>\n",
       "      <td>0.004669</td>\n",
       "      <td>0.003820</td>\n",
       "      <td>0.001288</td>\n",
       "      <td>0.001285</td>\n",
       "      <td>0.004824</td>\n",
       "      <td>0.005809</td>\n",
       "      <td>0.006223</td>\n",
       "      <td>0.003416</td>\n",
       "      <td>0.007080</td>\n",
       "      <td>0.00213</td>\n",
       "      <td>0.001999</td>\n",
       "      <td>0.002121</td>\n",
       "      <td>0.003400</td>\n",
       "      <td>0.003938</td>\n",
       "    </tr>\n",
       "    <tr>\n",
       "      <th>3</th>\n",
       "      <td>0.004046</td>\n",
       "      <td>0.003820</td>\n",
       "      <td>0.001288</td>\n",
       "      <td>0.001285</td>\n",
       "      <td>0.004824</td>\n",
       "      <td>0.005197</td>\n",
       "      <td>0.005568</td>\n",
       "      <td>0.002657</td>\n",
       "      <td>0.006222</td>\n",
       "      <td>0.00213</td>\n",
       "      <td>0.001999</td>\n",
       "      <td>0.002121</td>\n",
       "      <td>0.003400</td>\n",
       "      <td>0.003938</td>\n",
       "    </tr>\n",
       "    <tr>\n",
       "      <th>4</th>\n",
       "      <td>0.004046</td>\n",
       "      <td>0.003820</td>\n",
       "      <td>0.001288</td>\n",
       "      <td>0.001285</td>\n",
       "      <td>0.004082</td>\n",
       "      <td>0.004586</td>\n",
       "      <td>0.005568</td>\n",
       "      <td>0.002657</td>\n",
       "      <td>0.006222</td>\n",
       "      <td>0.00213</td>\n",
       "      <td>0.001999</td>\n",
       "      <td>0.001273</td>\n",
       "      <td>0.003400</td>\n",
       "      <td>0.003938</td>\n",
       "    </tr>\n",
       "  </tbody>\n",
       "</table>\n",
       "</div>"
      ],
      "text/plain": [
       "   Business & Finance_p  Career & Education_p  Collaboration_p  Events_p  \\\n",
       "0              0.006536              0.004408         0.002147  0.002141   \n",
       "1              0.004669              0.003820         0.001288  0.002141   \n",
       "2              0.004669              0.003820         0.001288  0.001285   \n",
       "3              0.004046              0.003820         0.001288  0.001285   \n",
       "4              0.004046              0.003820         0.001288  0.001285   \n",
       "\n",
       "   Food & Resturant_p  Health & Fitness_p  Home & Gardening_p  \\\n",
       "0            0.006308            0.007643            0.006878   \n",
       "1            0.005566            0.006420            0.006223   \n",
       "2            0.004824            0.005809            0.006223   \n",
       "3            0.004824            0.005197            0.005568   \n",
       "4            0.004082            0.004586            0.005568   \n",
       "\n",
       "   Information Technology_p  Media & Entertainment_p  Pets & Animals_p  \\\n",
       "0                  0.004175                 0.007938           0.00213   \n",
       "1                  0.003416                 0.007938           0.00213   \n",
       "2                  0.003416                 0.007080           0.00213   \n",
       "3                  0.002657                 0.006222           0.00213   \n",
       "4                  0.002657                 0.006222           0.00213   \n",
       "\n",
       "   Shopping_p  Social Platform_p  Sports & Games_p  Travel & Tourism_p  \n",
       "0    0.002799           0.002121          0.006422            0.012531  \n",
       "1    0.002799           0.002121          0.004156            0.004654  \n",
       "2    0.001999           0.002121          0.003400            0.003938  \n",
       "3    0.001999           0.002121          0.003400            0.003938  \n",
       "4    0.001999           0.001273          0.003400            0.003938  "
      ]
     },
     "execution_count": 39,
     "metadata": {},
     "output_type": "execute_result"
    }
   ],
   "source": [
    "# to get probability dataframe\n",
    "df_pro=df_merged.drop(columns=df_words.columns)\n",
    "df_pro.head()\n"
   ]
  },
  {
   "cell_type": "code",
   "execution_count": 40,
   "metadata": {},
   "outputs": [
    {
     "data": {
      "text/html": [
       "<div>\n",
       "<style scoped>\n",
       "    .dataframe tbody tr th:only-of-type {\n",
       "        vertical-align: middle;\n",
       "    }\n",
       "\n",
       "    .dataframe tbody tr th {\n",
       "        vertical-align: top;\n",
       "    }\n",
       "\n",
       "    .dataframe thead th {\n",
       "        text-align: right;\n",
       "    }\n",
       "</style>\n",
       "<table border=\"1\" class=\"dataframe\">\n",
       "  <thead>\n",
       "    <tr style=\"text-align: right;\">\n",
       "      <th></th>\n",
       "      <th>Business &amp; Finance</th>\n",
       "      <th>Career &amp; Education</th>\n",
       "      <th>Collaboration</th>\n",
       "      <th>Events</th>\n",
       "      <th>Food &amp; Resturant</th>\n",
       "      <th>Health &amp; Fitness</th>\n",
       "      <th>Home &amp; Gardening</th>\n",
       "      <th>Information Technology</th>\n",
       "      <th>Media &amp; Entertainment</th>\n",
       "      <th>Pets &amp; Animals</th>\n",
       "      <th>Shopping</th>\n",
       "      <th>Social Platform</th>\n",
       "      <th>Sports &amp; Games</th>\n",
       "      <th>Travel &amp; Tourism</th>\n",
       "    </tr>\n",
       "  </thead>\n",
       "  <tbody>\n",
       "    <tr>\n",
       "      <th>0</th>\n",
       "      <td>0.006536</td>\n",
       "      <td>0.004408</td>\n",
       "      <td>0.002147</td>\n",
       "      <td>0.002141</td>\n",
       "      <td>0.006308</td>\n",
       "      <td>0.007643</td>\n",
       "      <td>0.006878</td>\n",
       "      <td>0.004175</td>\n",
       "      <td>0.007938</td>\n",
       "      <td>0.00213</td>\n",
       "      <td>0.002799</td>\n",
       "      <td>0.002121</td>\n",
       "      <td>0.006422</td>\n",
       "      <td>0.012531</td>\n",
       "    </tr>\n",
       "    <tr>\n",
       "      <th>1</th>\n",
       "      <td>0.004669</td>\n",
       "      <td>0.003820</td>\n",
       "      <td>0.001288</td>\n",
       "      <td>0.002141</td>\n",
       "      <td>0.005566</td>\n",
       "      <td>0.006420</td>\n",
       "      <td>0.006223</td>\n",
       "      <td>0.003416</td>\n",
       "      <td>0.007938</td>\n",
       "      <td>0.00213</td>\n",
       "      <td>0.002799</td>\n",
       "      <td>0.002121</td>\n",
       "      <td>0.004156</td>\n",
       "      <td>0.004654</td>\n",
       "    </tr>\n",
       "    <tr>\n",
       "      <th>2</th>\n",
       "      <td>0.004669</td>\n",
       "      <td>0.003820</td>\n",
       "      <td>0.001288</td>\n",
       "      <td>0.001285</td>\n",
       "      <td>0.004824</td>\n",
       "      <td>0.005809</td>\n",
       "      <td>0.006223</td>\n",
       "      <td>0.003416</td>\n",
       "      <td>0.007080</td>\n",
       "      <td>0.00213</td>\n",
       "      <td>0.001999</td>\n",
       "      <td>0.002121</td>\n",
       "      <td>0.003400</td>\n",
       "      <td>0.003938</td>\n",
       "    </tr>\n",
       "    <tr>\n",
       "      <th>3</th>\n",
       "      <td>0.004046</td>\n",
       "      <td>0.003820</td>\n",
       "      <td>0.001288</td>\n",
       "      <td>0.001285</td>\n",
       "      <td>0.004824</td>\n",
       "      <td>0.005197</td>\n",
       "      <td>0.005568</td>\n",
       "      <td>0.002657</td>\n",
       "      <td>0.006222</td>\n",
       "      <td>0.00213</td>\n",
       "      <td>0.001999</td>\n",
       "      <td>0.002121</td>\n",
       "      <td>0.003400</td>\n",
       "      <td>0.003938</td>\n",
       "    </tr>\n",
       "    <tr>\n",
       "      <th>4</th>\n",
       "      <td>0.004046</td>\n",
       "      <td>0.003820</td>\n",
       "      <td>0.001288</td>\n",
       "      <td>0.001285</td>\n",
       "      <td>0.004082</td>\n",
       "      <td>0.004586</td>\n",
       "      <td>0.005568</td>\n",
       "      <td>0.002657</td>\n",
       "      <td>0.006222</td>\n",
       "      <td>0.00213</td>\n",
       "      <td>0.001999</td>\n",
       "      <td>0.001273</td>\n",
       "      <td>0.003400</td>\n",
       "      <td>0.003938</td>\n",
       "    </tr>\n",
       "  </tbody>\n",
       "</table>\n",
       "</div>"
      ],
      "text/plain": [
       "   Business & Finance  Career & Education  Collaboration    Events  \\\n",
       "0            0.006536            0.004408       0.002147  0.002141   \n",
       "1            0.004669            0.003820       0.001288  0.002141   \n",
       "2            0.004669            0.003820       0.001288  0.001285   \n",
       "3            0.004046            0.003820       0.001288  0.001285   \n",
       "4            0.004046            0.003820       0.001288  0.001285   \n",
       "\n",
       "   Food & Resturant  Health & Fitness  Home & Gardening  \\\n",
       "0          0.006308          0.007643          0.006878   \n",
       "1          0.005566          0.006420          0.006223   \n",
       "2          0.004824          0.005809          0.006223   \n",
       "3          0.004824          0.005197          0.005568   \n",
       "4          0.004082          0.004586          0.005568   \n",
       "\n",
       "   Information Technology  Media & Entertainment  Pets & Animals  Shopping  \\\n",
       "0                0.004175               0.007938         0.00213  0.002799   \n",
       "1                0.003416               0.007938         0.00213  0.002799   \n",
       "2                0.003416               0.007080         0.00213  0.001999   \n",
       "3                0.002657               0.006222         0.00213  0.001999   \n",
       "4                0.002657               0.006222         0.00213  0.001999   \n",
       "\n",
       "   Social Platform  Sports & Games  Travel & Tourism  \n",
       "0         0.002121        0.006422          0.012531  \n",
       "1         0.002121        0.004156          0.004654  \n",
       "2         0.002121        0.003400          0.003938  \n",
       "3         0.002121        0.003400          0.003938  \n",
       "4         0.001273        0.003400          0.003938  "
      ]
     },
     "execution_count": 40,
     "metadata": {},
     "output_type": "execute_result"
    }
   ],
   "source": [
    "# then change their column names \n",
    "df_pro.columns=df_words.columns=cate\n",
    "df_pro.head()"
   ]
  },
  {
   "cell_type": "code",
   "execution_count": 41,
   "metadata": {},
   "outputs": [
    {
     "data": {
      "text/html": [
       "<div>\n",
       "<style scoped>\n",
       "    .dataframe tbody tr th:only-of-type {\n",
       "        vertical-align: middle;\n",
       "    }\n",
       "\n",
       "    .dataframe tbody tr th {\n",
       "        vertical-align: top;\n",
       "    }\n",
       "\n",
       "    .dataframe thead th {\n",
       "        text-align: right;\n",
       "    }\n",
       "</style>\n",
       "<table border=\"1\" class=\"dataframe\">\n",
       "  <thead>\n",
       "    <tr style=\"text-align: right;\">\n",
       "      <th></th>\n",
       "      <th>Business &amp; Finance</th>\n",
       "      <th>Career &amp; Education</th>\n",
       "      <th>Collaboration</th>\n",
       "      <th>Events</th>\n",
       "      <th>Food &amp; Resturant</th>\n",
       "      <th>Health &amp; Fitness</th>\n",
       "      <th>Home &amp; Gardening</th>\n",
       "      <th>Information Technology</th>\n",
       "      <th>Media &amp; Entertainment</th>\n",
       "      <th>Pets &amp; Animals</th>\n",
       "      <th>Shopping</th>\n",
       "      <th>Social Platform</th>\n",
       "      <th>Sports &amp; Games</th>\n",
       "      <th>Travel &amp; Tourism</th>\n",
       "    </tr>\n",
       "  </thead>\n",
       "  <tbody>\n",
       "    <tr>\n",
       "      <th>0</th>\n",
       "      <td>invest</td>\n",
       "      <td>eduat</td>\n",
       "      <td>crativ</td>\n",
       "      <td>givaay</td>\n",
       "      <td>foodi</td>\n",
       "      <td>fit</td>\n",
       "      <td>interiordesign</td>\n",
       "      <td>engin</td>\n",
       "      <td>music</td>\n",
       "      <td>achorro</td>\n",
       "      <td>akeup</td>\n",
       "      <td>amili</td>\n",
       "      <td>sport</td>\n",
       "      <td>tavel</td>\n",
       "    </tr>\n",
       "    <tr>\n",
       "      <th>1</th>\n",
       "      <td>busi</td>\n",
       "      <td>areer</td>\n",
       "      <td>all</td>\n",
       "      <td>sport</td>\n",
       "      <td>cook</td>\n",
       "      <td>appi</td>\n",
       "      <td>design</td>\n",
       "      <td>comput</td>\n",
       "      <td>musican</td>\n",
       "      <td>ato</td>\n",
       "      <td>design</td>\n",
       "      <td>bauti</td>\n",
       "      <td>fit</td>\n",
       "      <td>insatavel</td>\n",
       "    </tr>\n",
       "    <tr>\n",
       "      <th>2</th>\n",
       "      <td>covid</td>\n",
       "      <td>insagood</td>\n",
       "      <td>andad</td>\n",
       "      <td>agant</td>\n",
       "      <td>food</td>\n",
       "      <td>love</td>\n",
       "      <td>interior</td>\n",
       "      <td>technolog</td>\n",
       "      <td>like</td>\n",
       "      <td>dog</td>\n",
       "      <td>ag</td>\n",
       "      <td>like</td>\n",
       "      <td>asketal</td>\n",
       "      <td>holiay</td>\n",
       "    </tr>\n",
       "    <tr>\n",
       "      <th>3</th>\n",
       "      <td>entrepreneur</td>\n",
       "      <td>love</td>\n",
       "      <td>ashionstyl</td>\n",
       "      <td>anc</td>\n",
       "      <td>foodlov</td>\n",
       "      <td>bauti</td>\n",
       "      <td>andsap</td>\n",
       "      <td>adget</td>\n",
       "      <td>insagam</td>\n",
       "      <td>doglov</td>\n",
       "      <td>bauti</td>\n",
       "      <td>likeforlik</td>\n",
       "      <td>like</td>\n",
       "      <td>photogaphi</td>\n",
       "    </tr>\n",
       "    <tr>\n",
       "      <th>4</th>\n",
       "      <td>love</td>\n",
       "      <td>studi</td>\n",
       "      <td>ather</td>\n",
       "      <td>ancer</td>\n",
       "      <td>ake</td>\n",
       "      <td>doctor</td>\n",
       "      <td>home</td>\n",
       "      <td>design</td>\n",
       "      <td>insagood</td>\n",
       "      <td>pet</td>\n",
       "      <td>cloth</td>\n",
       "      <td>acebook</td>\n",
       "      <td>run</td>\n",
       "      <td>tavelphotogaphi</td>\n",
       "    </tr>\n",
       "  </tbody>\n",
       "</table>\n",
       "</div>"
      ],
      "text/plain": [
       "  Business & Finance Career & Education Collaboration  Events  \\\n",
       "0             invest              eduat        crativ  givaay   \n",
       "1               busi              areer           all   sport   \n",
       "2              covid           insagood         andad   agant   \n",
       "3       entrepreneur               love    ashionstyl     anc   \n",
       "4               love              studi         ather   ancer   \n",
       "\n",
       "  Food & Resturant Health & Fitness Home & Gardening Information Technology  \\\n",
       "0            foodi              fit   interiordesign                  engin   \n",
       "1             cook             appi           design                 comput   \n",
       "2             food             love         interior              technolog   \n",
       "3          foodlov            bauti           andsap                  adget   \n",
       "4              ake           doctor             home                 design   \n",
       "\n",
       "  Media & Entertainment Pets & Animals Shopping Social Platform  \\\n",
       "0                 music        achorro    akeup           amili   \n",
       "1               musican            ato   design           bauti   \n",
       "2                  like            dog       ag            like   \n",
       "3               insagam         doglov    bauti      likeforlik   \n",
       "4              insagood            pet    cloth         acebook   \n",
       "\n",
       "  Sports & Games Travel & Tourism  \n",
       "0          sport            tavel  \n",
       "1            fit        insatavel  \n",
       "2        asketal           holiay  \n",
       "3           like       photogaphi  \n",
       "4            run  tavelphotogaphi  "
      ]
     },
     "execution_count": 41,
     "metadata": {},
     "output_type": "execute_result"
    }
   ],
   "source": [
    "df_words.head()"
   ]
  },
  {
   "cell_type": "markdown",
   "metadata": {},
   "source": [
    "## Function to find most relevant top 5 classes based on the description\n"
   ]
  },
  {
   "cell_type": "code",
   "execution_count": 42,
   "metadata": {},
   "outputs": [],
   "source": [
    "# create a function of NLP for topic_content - text data\n",
    "def NLP(topic_content):\n",
    "    cleaned_question=clean_text(topic_content)\n",
    "    processed_question=process_text(cleaned_question)\n",
    "    stemming_question=stemming(processed_question)\n",
    "    return stemming_question"
   ]
  },
  {
   "cell_type": "code",
   "execution_count": 43,
   "metadata": {},
   "outputs": [],
   "source": [
    "# topic_content -- can be any topic/description, \n",
    "# target_col -- should be (str) one category from category list - cate\n",
    "def common_words_counts(topic_content,target_col):\n",
    "    pro_text= NLP(topic_content)\n",
    "    inter_list=[]\n",
    "    for i in pro_text:\n",
    "        for j in range(len(df_words[target_col])):\n",
    "            if i==df_words[target_col][j]:\n",
    "                inter_list.append((i,df_pro[target_col][j]))\n",
    "    return inter_list"
   ]
  },
  {
   "cell_type": "code",
   "execution_count": 52,
   "metadata": {},
   "outputs": [],
   "source": [
    "def top5_categories_pro(topic_content):\n",
    "    # loop through all columns of df_words and all their inter_list\n",
    "    inter_lists=[]\n",
    "    pro=[]\n",
    "    for col in cate:\n",
    "        inter_list=common_words_counts(topic_content,col)\n",
    "        sub_sum=[]\n",
    "        for i in inter_list:\n",
    "            sub_sum.append(i[-1])\n",
    "        pro.append(sum(sub_sum))\n",
    "    # obtian each part ocupy how many percentage of total\n",
    "    percent=[]\n",
    "    for i in range(len(pro)):\n",
    "        percent.append(str(round(pro[i]/sum(pro)*100,5))+\"%\")\n",
    "    # combine pro, percentage and the category   \n",
    "    final_list=[]\n",
    "    for i in range(len(percent)):\n",
    "        final_list.append((cate[i],round(pro[i],4),percent[i]))\n",
    "    \n",
    "    # sort the list by their Sum of each word's probability\n",
    "    final_list.sort(key=lambda x:x[1],reverse=True)\n",
    "#     # get top5 categories ranked by their probability\n",
    "#     top5=pd.DataFrame(data=final_list[:5],\n",
    "#                       columns=['Category',\"Sum of keywords' probability\", \"Percentage of Overall\"])\n",
    "    return final_list[:5]\n"
   ]
  },
  {
   "cell_type": "code",
   "execution_count": 53,
   "metadata": {
    "scrolled": false
   },
   "outputs": [
    {
     "data": {
      "text/plain": [
       "[('Information Technology', 0.0065, '14.78062%'),\n",
       " ('Career & Education', 0.0062, '14.1378%'),\n",
       " ('Sports & Games', 0.0042, '9.52057%'),\n",
       " ('Business & Finance', 0.004, '9.26951%'),\n",
       " ('Health & Fitness', 0.0034, '7.70436%')]"
      ]
     },
     "execution_count": 53,
     "metadata": {},
     "output_type": "execute_result"
    }
   ],
   "source": [
    "# let us try the description from model_output.csv\n",
    "topic_content=model_output.Description[8] \n",
    "# the first tow of  model_output.csv shows that based on the model, the output is 'Information Technology'\n",
    "# Use the funtion above to get top 5 most relevant class \n",
    "top5_categories_pro(topic_content)\n",
    "# the top one is Information Technology which is the same as the results from model_output above"
   ]
  },
  {
   "cell_type": "markdown",
   "metadata": {},
   "source": [
    "## Convert to Desired Format"
   ]
  },
  {
   "cell_type": "code",
   "execution_count": 57,
   "metadata": {},
   "outputs": [],
   "source": [
    "# Use the column of Description from \"model_output.csv\"\n",
    "final_df0=pd.DataFrame()\n",
    "final_df0[\"Description\"]=model_output.Description\n",
    "rows0=[]\n",
    "for n in range(len(model_output.Description)):\n",
    "    topic_content=model_output.Description[n]\n",
    "    rows0.append(top5_categories_pro(topic_content)"
   ]
  },
  {
   "cell_type": "code",
   "execution_count": 60,
   "metadata": {},
   "outputs": [
    {
     "data": {
      "text/html": [
       "<div>\n",
       "<style scoped>\n",
       "    .dataframe tbody tr th:only-of-type {\n",
       "        vertical-align: middle;\n",
       "    }\n",
       "\n",
       "    .dataframe tbody tr th {\n",
       "        vertical-align: top;\n",
       "    }\n",
       "\n",
       "    .dataframe thead th {\n",
       "        text-align: right;\n",
       "    }\n",
       "</style>\n",
       "<table border=\"1\" class=\"dataframe\">\n",
       "  <thead>\n",
       "    <tr style=\"text-align: right;\">\n",
       "      <th></th>\n",
       "      <th>index</th>\n",
       "      <th>Category_1 (Highest Prediction) with %</th>\n",
       "      <th>Category_2 (Highest Prediction) with %</th>\n",
       "      <th>Category_3 (Highest Prediction) with %</th>\n",
       "      <th>Category_4 (Highest Prediction) with %</th>\n",
       "      <th>Category_5 (Highest Prediction) with %</th>\n",
       "    </tr>\n",
       "  </thead>\n",
       "  <tbody>\n",
       "    <tr>\n",
       "      <th>0</th>\n",
       "      <td>Rackspace Technology | Multicloud Solutions Pr...</td>\n",
       "      <td>(Information Technology, 0.0163, 22.06093%)</td>\n",
       "      <td>(Pets &amp; Animals, 0.0055, 7.48801%)</td>\n",
       "      <td>(Business &amp; Finance, 0.0053, 7.15277%)</td>\n",
       "      <td>(Career &amp; Education, 0.005, 6.75341%)</td>\n",
       "      <td>(Food &amp; Resturant, 0.0048, 6.52109%)</td>\n",
       "    </tr>\n",
       "    <tr>\n",
       "      <th>1</th>\n",
       "      <td>&gt;Merge, join, concatenate and compare &amp;#8212; ...</td>\n",
       "      <td>(Career &amp; Education, 0.0038, 12.52862%)</td>\n",
       "      <td>(Collaboration, 0.003, 9.85713%)</td>\n",
       "      <td>(Information Technology, 0.0027, 8.71243%)</td>\n",
       "      <td>(Media &amp; Entertainment, 0.0024, 7.7399%)</td>\n",
       "      <td>(Events, 0.0021, 7.02272%)</td>\n",
       "    </tr>\n",
       "    <tr>\n",
       "      <th>2</th>\n",
       "      <td>Welcome to Cloudcroft! At 9000' above stress l...</td>\n",
       "      <td>(Travel &amp; Tourism, 0.0068, 26.75177%)</td>\n",
       "      <td>(Food &amp; Resturant, 0.0048, 18.96944%)</td>\n",
       "      <td>(Social Platform, 0.0021, 8.34219%)</td>\n",
       "      <td>(Collaboration, 0.0013, 5.06549%)</td>\n",
       "      <td>(Events, 0.0013, 5.05248%)</td>\n",
       "    </tr>\n",
       "    <tr>\n",
       "      <th>3</th>\n",
       "      <td>Live One-On-One Music Lessons From Fun &amp; Inspi...</td>\n",
       "      <td>(Media &amp; Entertainment, 0.0142, 23.62377%)</td>\n",
       "      <td>(Health &amp; Fitness, 0.0055, 9.18071%)</td>\n",
       "      <td>(Career &amp; Education, 0.0053, 8.8246%)</td>\n",
       "      <td>(Events, 0.0043, 7.14492%)</td>\n",
       "      <td>(Travel &amp; Tourism, 0.0043, 7.16794%)</td>\n",
       "    </tr>\n",
       "    <tr>\n",
       "      <th>4</th>\n",
       "      <td>100 %ONLINE CULINARY EDUCATION, chef training</td>\n",
       "      <td>(Career &amp; Education, 0.0079, 16.74277%)</td>\n",
       "      <td>(Food &amp; Resturant, 0.0063, 13.31115%)</td>\n",
       "      <td>(Sports &amp; Games, 0.0042, 8.76929%)</td>\n",
       "      <td>(Business &amp; Finance, 0.0034, 7.22449%)</td>\n",
       "      <td>(Health &amp; Fitness, 0.0034, 7.09639%)</td>\n",
       "    </tr>\n",
       "  </tbody>\n",
       "</table>\n",
       "</div>"
      ],
      "text/plain": [
       "                                               index  \\\n",
       "0  Rackspace Technology | Multicloud Solutions Pr...   \n",
       "1  >Merge, join, concatenate and compare &#8212; ...   \n",
       "2  Welcome to Cloudcroft! At 9000' above stress l...   \n",
       "3  Live One-On-One Music Lessons From Fun & Inspi...   \n",
       "4      100 %ONLINE CULINARY EDUCATION, chef training   \n",
       "\n",
       "        Category_1 (Highest Prediction) with %  \\\n",
       "0  (Information Technology, 0.0163, 22.06093%)   \n",
       "1      (Career & Education, 0.0038, 12.52862%)   \n",
       "2        (Travel & Tourism, 0.0068, 26.75177%)   \n",
       "3   (Media & Entertainment, 0.0142, 23.62377%)   \n",
       "4      (Career & Education, 0.0079, 16.74277%)   \n",
       "\n",
       "  Category_2 (Highest Prediction) with %  \\\n",
       "0     (Pets & Animals, 0.0055, 7.48801%)   \n",
       "1       (Collaboration, 0.003, 9.85713%)   \n",
       "2  (Food & Resturant, 0.0048, 18.96944%)   \n",
       "3   (Health & Fitness, 0.0055, 9.18071%)   \n",
       "4  (Food & Resturant, 0.0063, 13.31115%)   \n",
       "\n",
       "       Category_3 (Highest Prediction) with %  \\\n",
       "0      (Business & Finance, 0.0053, 7.15277%)   \n",
       "1  (Information Technology, 0.0027, 8.71243%)   \n",
       "2         (Social Platform, 0.0021, 8.34219%)   \n",
       "3       (Career & Education, 0.0053, 8.8246%)   \n",
       "4          (Sports & Games, 0.0042, 8.76929%)   \n",
       "\n",
       "     Category_4 (Highest Prediction) with %  \\\n",
       "0     (Career & Education, 0.005, 6.75341%)   \n",
       "1  (Media & Entertainment, 0.0024, 7.7399%)   \n",
       "2         (Collaboration, 0.0013, 5.06549%)   \n",
       "3                (Events, 0.0043, 7.14492%)   \n",
       "4    (Business & Finance, 0.0034, 7.22449%)   \n",
       "\n",
       "  Category_5 (Highest Prediction) with %  \n",
       "0   (Food & Resturant, 0.0048, 6.52109%)  \n",
       "1             (Events, 0.0021, 7.02272%)  \n",
       "2             (Events, 0.0013, 5.05248%)  \n",
       "3   (Travel & Tourism, 0.0043, 7.16794%)  \n",
       "4   (Health & Fitness, 0.0034, 7.09639%)  "
      ]
     },
     "execution_count": 60,
     "metadata": {},
     "output_type": "execute_result"
    }
   ],
   "source": [
    "# prepare the columns' names\n",
    "columns0=[\"Category_{} (Highest Prediction) with %\".format(i+1) for i in range(len(cate))][:5]\n",
    "final_df0=pd.DataFrame(rows0, columns=columns0).reset_index()\n",
    "final_df0[\"index\"]=model_output.Description\n",
    "final_df0.head()  \n",
    "\n",
    "# the result of the column - Category_0 (Highest Prediction) with %\tCategory_1 (Highest Prediction) \n",
    "# might slightly different from the predicted values from  \"Naive Bayes Classifier\" (Machine Learning)\n",
    "# Because I tuned the parameters to optimized the model"
   ]
  },
  {
   "cell_type": "markdown",
   "metadata": {},
   "source": [
    "# Top 5 Categories Based On Naive Bayes Probabilities\n",
    "Main Idea \n",
    "[(Link of Reference)](https://www.geeksforgeeks.org/applying-multinomial-naive-bayes-to-nlp-problems/)\n",
    "\n",
    "\n",
    "## **By the Navie Bayes we can apply for it to each row of description**\n",
    "\n",
    "**Class 1** --\n",
    "P(class1 | \"entertainment music love fun\" ) = P( \"entertainment music love fun\"  | class1) * P(class1) / P( \"entertainment music love fun\" )\n",
    "\n",
    "**Class 2** --\n",
    "P(class2 | \"entertainment music love fun\" ) = P(\"entertainment music love fun\"  | class2) * P(class2) / P(\"entertainment music love fun\" )\n",
    "\n",
    "**Class n** --\n",
    "P(class_n | \"entertainment music love fun\" ) = P(\"entertainment music love fun\"  | class_n) * P(class_n) / P(\"entertainment music love fun\" )\n",
    "\n",
    "## **We assume the ‘naive’ condition that every word in a sentence is independent of the other ones. This means that now we look at individual words.**\n",
    "\n",
    "P(\"entertainment music love fun\") = P(\"entertainment\") * P(\"music\") * P(\"love\") * P(\"fun\")\n",
    "\n",
    "## **Applying the Bayes theorem:**-\n",
    "\n",
    "Example with Class 0 \n",
    "\n",
    "P(\"entertainment music love fun\"|class_0)= P(\"entertainment\" | class_0) * P(\"music\" | class_0) * P(\"love\" |class_0)*P(\"fun\" | class_0)\n",
    "\n",
    "\n",
    "- P(\"entertainment\" | class_0) means counting how frequency the word “entertainment” appears in class_0 divided by the total number of words in class_0\n",
    "\n",
    "- If probability comes out to be zero then By using Laplace smoothing: we add 1 to every count so it’s never zero. To balance this, we add the number of possible words to the divisor(N), so the division will never be greater than 1. \n",
    "\n"
   ]
  },
  {
   "cell_type": "code",
   "execution_count": 61,
   "metadata": {},
   "outputs": [],
   "source": [
    "\n",
    "# Python program to multiply all values in the\n",
    "# list using traversal\n",
    "# https://www.geeksforgeeks.org/python-multiply-numbers-list-3-different-ways/\n",
    "def multiplyList(myList) :\n",
    "     \n",
    "    # Multiply elements one by one\n",
    "    result = 1\n",
    "    for x in myList:\n",
    "         result = result * x \n",
    "    return result \n",
    "\n",
    "# list_a=[2,3,4,5,6]\n",
    "# multiplyList(list_a)= 2*3*4*5*6"
   ]
  },
  {
   "cell_type": "code",
   "execution_count": 65,
   "metadata": {},
   "outputs": [],
   "source": [
    "\n",
    "import numpy as np\n",
    "\n",
    "def naive_bayes_probability(nlp_content):\n",
    "\n",
    "\n",
    "    # create new  df to union test_text and y_test\n",
    "    new_df=pd.DataFrame()\n",
    "    new_df['Description']=train_text\n",
    "    new_df['Category']=y_train\n",
    "    # create a dictionary store all words for each category \n",
    "    text_list={}\n",
    "    for i in range(len(cate)):\n",
    "        text_list[i]=\" \".join(new_df[new_df.Category==i]['Description'])\n",
    "\n",
    "    N=len(\" \".join(train_text).split(\" \"))  # This is for Laplace Smoothing\n",
    "\n",
    "    \"\"\"\n",
    "    This function is to calculate each word's probability - conditional probability P(word1|class1)\n",
    "\n",
    "\n",
    "    nlp_content=NLP(text)---> \"text\" here means one cell from the column of description.\n",
    "\n",
    "    Example: NLP('enterain music love fun comedi in')\n",
    "             >>> ['enterain', 'music', 'love', 'fun', 'comedi', 'insagam', 'insagood']\n",
    "    ================\n",
    "    cat ---> stands for the number that represents a category \n",
    "    ================\n",
    "    text_list[cat]---> means total words in category \"cat\"\n",
    "    ================\n",
    "    nlp_content[i]---> means each word from nlp_content\n",
    "    ================\n",
    "    text_list[cat].count(nlp_content[i])---> total counts of each word in class_cat \n",
    "    ================\n",
    "    numer---> Numerator - The frequency of the word i in class cat.  +1 is base on Laplace Smoothing\n",
    "    ================\n",
    "    dome---> Denominator - how many words in class cat +N is total words from column \"Description\".\n",
    "    ================\n",
    "    pro_word---> to calculate the probability of word i in category 'cat'\n",
    "    \"\"\"\n",
    "    def pro_word(nlp_content,cat):\n",
    "        pro_word={}\n",
    "        for i in range(len(nlp_content)):\n",
    "            numer=text_list[cat].count(nlp_content[i])+1   \n",
    "            dome=len(text_list[cat])+ N \n",
    "            pro_word[nlp_content[i]+\"_class\"+str(cat)]=numer/dome\n",
    "        return pro_word \n",
    "\n",
    "    # Because some probabilties come to be 0 then by using Laplace Smoothing we can add 1 to every counts - \"numer\"\n",
    "    # and add the total possible words count to \"dome\"\n",
    "\n",
    "    \n",
    "    conditional_probability=[]    \n",
    "    for i in range(len(cate)):\n",
    "        conditional_probability.append(pro_word(nlp_content,i))\n",
    "   # total  in each class\n",
    "    class_sample_size=[]\n",
    "\n",
    "    for i in range(len(cate)):\n",
    "        \n",
    "        class_sample_size.append(y_train.value_counts()[i])\n",
    "\n",
    "    # each class probability\n",
    "    prior_probability=[i/sum(class_sample_size) for i in class_sample_size]\n",
    "    \n",
    "    def one_class_probability(col_num):\n",
    "        p=prior_probability[col_num]*multiplyList(list(conditional_probability[col_num].values()))\n",
    "        return p\n",
    "    \n",
    "    \n",
    "    naive_bayes_pro={}\n",
    "    for i in range(len(cate)):\n",
    "        naive_bayes_pro[cate[i]]=one_class_probability(i)\n",
    "        \n",
    "    return sorted(naive_bayes_pro.items(), key=lambda x: x[1],reverse=True)[:5]                "
   ]
  },
  {
   "cell_type": "markdown",
   "metadata": {},
   "source": [
    "## Convert to Desired Format"
   ]
  },
  {
   "cell_type": "code",
   "execution_count": 67,
   "metadata": {
    "scrolled": false
   },
   "outputs": [],
   "source": [
    "# create a dataframe like I did in the previous part\n",
    "final_df=pd.DataFrame()\n",
    "final_df[\"Description\"]=model_output.Description\n",
    "# obtian the rows \n",
    "rows=[]\n",
    "for n in range(len(model_output.Description)):\n",
    "    nlp_content=NLP(model_output.Description[n])\n",
    "    rows.append(naive_bayes_probability(nlp_content))"
   ]
  },
  {
   "cell_type": "code",
   "execution_count": 69,
   "metadata": {},
   "outputs": [
    {
     "data": {
      "text/html": [
       "<div>\n",
       "<style scoped>\n",
       "    .dataframe tbody tr th:only-of-type {\n",
       "        vertical-align: middle;\n",
       "    }\n",
       "\n",
       "    .dataframe tbody tr th {\n",
       "        vertical-align: top;\n",
       "    }\n",
       "\n",
       "    .dataframe thead th {\n",
       "        text-align: right;\n",
       "    }\n",
       "</style>\n",
       "<table border=\"1\" class=\"dataframe\">\n",
       "  <thead>\n",
       "    <tr style=\"text-align: right;\">\n",
       "      <th></th>\n",
       "      <th>index</th>\n",
       "      <th>Category_1 (Highest Prediction) with %</th>\n",
       "      <th>Category_2 (Highest Prediction) with %</th>\n",
       "      <th>Category_3 (Highest Prediction) with %</th>\n",
       "      <th>Category_4 (Highest Prediction) with %</th>\n",
       "      <th>Category_5 (Highest Prediction) with %</th>\n",
       "    </tr>\n",
       "  </thead>\n",
       "  <tbody>\n",
       "    <tr>\n",
       "      <th>0</th>\n",
       "      <td>Rackspace Technology | Multicloud Solutions Pr...</td>\n",
       "      <td>(Information Technology, 7.39738829001339e-70)</td>\n",
       "      <td>(Pets &amp; Animals, 1.6287353038847693e-71)</td>\n",
       "      <td>(Events, 1.2029613969818233e-71)</td>\n",
       "      <td>(Collaboration, 4.2610895122443886e-72)</td>\n",
       "      <td>(Social Platform, 2.746587006719026e-72)</td>\n",
       "    </tr>\n",
       "    <tr>\n",
       "      <th>1</th>\n",
       "      <td>&gt;Merge, join, concatenate and compare &amp;#8212; ...</td>\n",
       "      <td>(Career &amp; Education, 1.219915334596147e-31)</td>\n",
       "      <td>(Collaboration, 1.175255267501448e-31)</td>\n",
       "      <td>(Pets &amp; Animals, 9.720331841672366e-32)</td>\n",
       "      <td>(Sports &amp; Games, 6.261609773295846e-32)</td>\n",
       "      <td>(Events, 5.36787528061828e-32)</td>\n",
       "    </tr>\n",
       "    <tr>\n",
       "      <th>2</th>\n",
       "      <td>Welcome to Cloudcroft! At 9000' above stress l...</td>\n",
       "      <td>(Travel &amp; Tourism, 1.9249586109725067e-41)</td>\n",
       "      <td>(Social Platform, 1.7040543435615885e-42)</td>\n",
       "      <td>(Pets &amp; Animals, 8.46260807983964e-43)</td>\n",
       "      <td>(Shopping, 7.767865314372992e-43)</td>\n",
       "      <td>(Collaboration, 5.493441645574554e-43)</td>\n",
       "    </tr>\n",
       "    <tr>\n",
       "      <th>3</th>\n",
       "      <td>Live One-On-One Music Lessons From Fun &amp; Inspi...</td>\n",
       "      <td>(Media &amp; Entertainment, 2.302658167144205e-24)</td>\n",
       "      <td>(Events, 1.0308467688899346e-27)</td>\n",
       "      <td>(Health &amp; Fitness, 8.48896970783861e-28)</td>\n",
       "      <td>(Career &amp; Education, 7.311867536735656e-28)</td>\n",
       "      <td>(Sports &amp; Games, 5.174594316651687e-28)</td>\n",
       "    </tr>\n",
       "    <tr>\n",
       "      <th>4</th>\n",
       "      <td>100 %ONLINE CULINARY EDUCATION, chef training</td>\n",
       "      <td>(Career &amp; Education, 1.1219329548367188e-22)</td>\n",
       "      <td>(Food &amp; Resturant, 3.7085524461771745e-23)</td>\n",
       "      <td>(Sports &amp; Games, 1.9243281344764292e-23)</td>\n",
       "      <td>(Shopping, 9.261603594778915e-24)</td>\n",
       "      <td>(Media &amp; Entertainment, 5.306193624870683e-24)</td>\n",
       "    </tr>\n",
       "  </tbody>\n",
       "</table>\n",
       "</div>"
      ],
      "text/plain": [
       "                                               index  \\\n",
       "0  Rackspace Technology | Multicloud Solutions Pr...   \n",
       "1  >Merge, join, concatenate and compare &#8212; ...   \n",
       "2  Welcome to Cloudcroft! At 9000' above stress l...   \n",
       "3  Live One-On-One Music Lessons From Fun & Inspi...   \n",
       "4      100 %ONLINE CULINARY EDUCATION, chef training   \n",
       "\n",
       "           Category_1 (Highest Prediction) with %  \\\n",
       "0  (Information Technology, 7.39738829001339e-70)   \n",
       "1     (Career & Education, 1.219915334596147e-31)   \n",
       "2      (Travel & Tourism, 1.9249586109725067e-41)   \n",
       "3  (Media & Entertainment, 2.302658167144205e-24)   \n",
       "4    (Career & Education, 1.1219329548367188e-22)   \n",
       "\n",
       "       Category_2 (Highest Prediction) with %  \\\n",
       "0    (Pets & Animals, 1.6287353038847693e-71)   \n",
       "1      (Collaboration, 1.175255267501448e-31)   \n",
       "2   (Social Platform, 1.7040543435615885e-42)   \n",
       "3            (Events, 1.0308467688899346e-27)   \n",
       "4  (Food & Resturant, 3.7085524461771745e-23)   \n",
       "\n",
       "     Category_3 (Highest Prediction) with %  \\\n",
       "0          (Events, 1.2029613969818233e-71)   \n",
       "1   (Pets & Animals, 9.720331841672366e-32)   \n",
       "2    (Pets & Animals, 8.46260807983964e-43)   \n",
       "3  (Health & Fitness, 8.48896970783861e-28)   \n",
       "4  (Sports & Games, 1.9243281344764292e-23)   \n",
       "\n",
       "        Category_4 (Highest Prediction) with %  \\\n",
       "0      (Collaboration, 4.2610895122443886e-72)   \n",
       "1      (Sports & Games, 6.261609773295846e-32)   \n",
       "2            (Shopping, 7.767865314372992e-43)   \n",
       "3  (Career & Education, 7.311867536735656e-28)   \n",
       "4            (Shopping, 9.261603594778915e-24)   \n",
       "\n",
       "           Category_5 (Highest Prediction) with %  \n",
       "0        (Social Platform, 2.746587006719026e-72)  \n",
       "1                  (Events, 5.36787528061828e-32)  \n",
       "2          (Collaboration, 5.493441645574554e-43)  \n",
       "3         (Sports & Games, 5.174594316651687e-28)  \n",
       "4  (Media & Entertainment, 5.306193624870683e-24)  "
      ]
     },
     "execution_count": 69,
     "metadata": {},
     "output_type": "execute_result"
    }
   ],
   "source": [
    "columns=[\"Category_{} (Highest Prediction) with %\".format(i+1) for i in range(len(cate))][:5]\n",
    "final_df=pd.DataFrame(rows, columns=columns).reset_index()\n",
    "final_df[\"index\"]=model_output.Description\n",
    "# the result of the column - Category_0 (Highest Prediction) with %\tCategory_1 (Highest Prediction) \n",
    "# might slightly different from the predicted values from  \"Naive Bayes Classifier\" (Machine Learning)\n",
    "# Because I tuned the parameters to optimized the model \n",
    "# However, I just applied \"Pure\" Naive Bayes to manually calculated the 'Naive Bayes' probabilites for each categories\n",
    "final_df.head()"
   ]
  },
  {
   "cell_type": "markdown",
   "metadata": {},
   "source": [
    "# Suggestions\n",
    "- The data is not big enough. We can try this model with a big scale data. I believe that it will perform better.\n",
    "- When we meet some unbalanced data, we may apply the upsampling method. "
   ]
  }
 ],
 "metadata": {
  "kernelspec": {
   "display_name": "Python 3",
   "language": "python",
   "name": "python3"
  },
  "language_info": {
   "codemirror_mode": {
    "name": "ipython",
    "version": 3
   },
   "file_extension": ".py",
   "mimetype": "text/x-python",
   "name": "python",
   "nbconvert_exporter": "python",
   "pygments_lexer": "ipython3",
   "version": "3.7.6"
  },
  "toc": {
   "base_numbering": 1,
   "nav_menu": {},
   "number_sections": true,
   "sideBar": true,
   "skip_h1_title": false,
   "title_cell": "Table of Contents",
   "title_sidebar": "Contents",
   "toc_cell": false,
   "toc_position": {
    "height": "calc(100% - 180px)",
    "left": "10px",
    "top": "150px",
    "width": "290.909px"
   },
   "toc_section_display": true,
   "toc_window_display": false
  }
 },
 "nbformat": 4,
 "nbformat_minor": 4
}

{
 "cells": [
  {
   "cell_type": "markdown",
   "metadata": {},
   "source": [
    "# Import libraries"
   ]
  },
  {
   "cell_type": "code",
   "execution_count": 170,
   "metadata": {},
   "outputs": [],
   "source": [
    "import pandas as pd"
   ]
  },
  {
   "cell_type": "markdown",
   "metadata": {},
   "source": [
    "# Load the data "
   ]
  },
  {
   "cell_type": "code",
   "execution_count": 171,
   "metadata": {},
   "outputs": [
    {
     "data": {
      "text/html": [
       "<div>\n",
       "<style scoped>\n",
       "    .dataframe tbody tr th:only-of-type {\n",
       "        vertical-align: middle;\n",
       "    }\n",
       "\n",
       "    .dataframe tbody tr th {\n",
       "        vertical-align: top;\n",
       "    }\n",
       "\n",
       "    .dataframe thead th {\n",
       "        text-align: right;\n",
       "    }\n",
       "</style>\n",
       "<table border=\"1\" class=\"dataframe\">\n",
       "  <thead>\n",
       "    <tr style=\"text-align: right;\">\n",
       "      <th></th>\n",
       "      <th>ï»¿Sr Number</th>\n",
       "      <th>Description</th>\n",
       "      <th>Category</th>\n",
       "      <th>Subcategory</th>\n",
       "    </tr>\n",
       "  </thead>\n",
       "  <tbody>\n",
       "    <tr>\n",
       "      <th>0</th>\n",
       "      <td>NaN</td>\n",
       "      <td>entertainment music love fun comedy instagram ...</td>\n",
       "      <td>Media &amp; Entertainment</td>\n",
       "      <td>Entertainment</td>\n",
       "    </tr>\n",
       "    <tr>\n",
       "      <th>1</th>\n",
       "      <td>NaN</td>\n",
       "      <td>movies movie film cinema films hollywood love ...</td>\n",
       "      <td>Media &amp; Entertainment</td>\n",
       "      <td>Movies</td>\n",
       "    </tr>\n",
       "    <tr>\n",
       "      <th>2</th>\n",
       "      <td>NaN</td>\n",
       "      <td>happy dancechallenge life repost instadance mu...</td>\n",
       "      <td>Media &amp; Entertainment</td>\n",
       "      <td>Dance</td>\n",
       "    </tr>\n",
       "    <tr>\n",
       "      <th>3</th>\n",
       "      <td>NaN</td>\n",
       "      <td>art artist love photography drawing instagood ...</td>\n",
       "      <td>Media &amp; Entertainment</td>\n",
       "      <td>Art</td>\n",
       "    </tr>\n",
       "    <tr>\n",
       "      <th>4</th>\n",
       "      <td>NaN</td>\n",
       "      <td>magic love art magician witch nature photograp...</td>\n",
       "      <td>Media &amp; Entertainment</td>\n",
       "      <td>Magic</td>\n",
       "    </tr>\n",
       "  </tbody>\n",
       "</table>\n",
       "</div>"
      ],
      "text/plain": [
       "   ï»¿Sr Number                                        Description  \\\n",
       "0           NaN  entertainment music love fun comedy instagram ...   \n",
       "1           NaN  movies movie film cinema films hollywood love ...   \n",
       "2           NaN  happy dancechallenge life repost instadance mu...   \n",
       "3           NaN  art artist love photography drawing instagood ...   \n",
       "4           NaN  magic love art magician witch nature photograp...   \n",
       "\n",
       "                Category    Subcategory  \n",
       "0  Media & Entertainment  Entertainment  \n",
       "1  Media & Entertainment         Movies  \n",
       "2  Media & Entertainment          Dance  \n",
       "3  Media & Entertainment            Art  \n",
       "4  Media & Entertainment          Magic  "
      ]
     },
     "execution_count": 171,
     "metadata": {},
     "output_type": "execute_result"
    }
   ],
   "source": [
    "# train data\n",
    "df_train=pd.read_csv(\"train_data1.csv\",encoding='latin1')\n",
    "df_train.head()"
   ]
  },
  {
   "cell_type": "code",
   "execution_count": 172,
   "metadata": {},
   "outputs": [
    {
     "data": {
      "text/html": [
       "<div>\n",
       "<style scoped>\n",
       "    .dataframe tbody tr th:only-of-type {\n",
       "        vertical-align: middle;\n",
       "    }\n",
       "\n",
       "    .dataframe tbody tr th {\n",
       "        vertical-align: top;\n",
       "    }\n",
       "\n",
       "    .dataframe thead th {\n",
       "        text-align: right;\n",
       "    }\n",
       "</style>\n",
       "<table border=\"1\" class=\"dataframe\">\n",
       "  <thead>\n",
       "    <tr style=\"text-align: right;\">\n",
       "      <th></th>\n",
       "      <th>url</th>\n",
       "      <th>Description</th>\n",
       "      <th>Category</th>\n",
       "      <th>Model_Output</th>\n",
       "    </tr>\n",
       "  </thead>\n",
       "  <tbody>\n",
       "    <tr>\n",
       "      <th>0</th>\n",
       "      <td>NaN</td>\n",
       "      <td>Rackspace Technology | Multicloud Solutions Pr...</td>\n",
       "      <td>Information Technology</td>\n",
       "      <td>NaN</td>\n",
       "    </tr>\n",
       "    <tr>\n",
       "      <th>1</th>\n",
       "      <td>NaN</td>\n",
       "      <td>&gt;Merge, join, concatenate and compare &amp;#8212; ...</td>\n",
       "      <td>Career &amp; Education</td>\n",
       "      <td>NaN</td>\n",
       "    </tr>\n",
       "    <tr>\n",
       "      <th>2</th>\n",
       "      <td>NaN</td>\n",
       "      <td>Welcome to Cloudcroft! At 9000' above stress l...</td>\n",
       "      <td>Travel &amp; Tourism</td>\n",
       "      <td>NaN</td>\n",
       "    </tr>\n",
       "    <tr>\n",
       "      <th>3</th>\n",
       "      <td>NaN</td>\n",
       "      <td>Live One-On-One Music Lessons From Fun &amp; Inspi...</td>\n",
       "      <td>Media &amp; Entertainment</td>\n",
       "      <td>NaN</td>\n",
       "    </tr>\n",
       "    <tr>\n",
       "      <th>4</th>\n",
       "      <td>NaN</td>\n",
       "      <td>100 %ONLINE CULINARY EDUCATION, chef training</td>\n",
       "      <td>Career &amp; Education</td>\n",
       "      <td>NaN</td>\n",
       "    </tr>\n",
       "  </tbody>\n",
       "</table>\n",
       "</div>"
      ],
      "text/plain": [
       "   url                                        Description  \\\n",
       "0  NaN  Rackspace Technology | Multicloud Solutions Pr...   \n",
       "1  NaN  >Merge, join, concatenate and compare &#8212; ...   \n",
       "2  NaN  Welcome to Cloudcroft! At 9000' above stress l...   \n",
       "3  NaN  Live One-On-One Music Lessons From Fun & Inspi...   \n",
       "4  NaN      100 %ONLINE CULINARY EDUCATION, chef training   \n",
       "\n",
       "                 Category  Model_Output  \n",
       "0  Information Technology           NaN  \n",
       "1      Career & Education           NaN  \n",
       "2        Travel & Tourism           NaN  \n",
       "3   Media & Entertainment           NaN  \n",
       "4      Career & Education           NaN  "
      ]
     },
     "execution_count": 172,
     "metadata": {},
     "output_type": "execute_result"
    }
   ],
   "source": [
    "# test data\n",
    "df_test=pd.read_csv('test_data_new.csv',encoding='latin1')\n",
    "\n",
    "df_test.head()"
   ]
  },
  {
   "cell_type": "code",
   "execution_count": 173,
   "metadata": {},
   "outputs": [
    {
     "data": {
      "text/html": [
       "<div>\n",
       "<style scoped>\n",
       "    .dataframe tbody tr th:only-of-type {\n",
       "        vertical-align: middle;\n",
       "    }\n",
       "\n",
       "    .dataframe tbody tr th {\n",
       "        vertical-align: top;\n",
       "    }\n",
       "\n",
       "    .dataframe thead th {\n",
       "        text-align: right;\n",
       "    }\n",
       "</style>\n",
       "<table border=\"1\" class=\"dataframe\">\n",
       "  <thead>\n",
       "    <tr style=\"text-align: right;\">\n",
       "      <th></th>\n",
       "      <th>Description</th>\n",
       "      <th>Category</th>\n",
       "    </tr>\n",
       "  </thead>\n",
       "  <tbody>\n",
       "    <tr>\n",
       "      <th>0</th>\n",
       "      <td>entertainment music love fun comedy instagram ...</td>\n",
       "      <td>Media &amp; Entertainment</td>\n",
       "    </tr>\n",
       "    <tr>\n",
       "      <th>1</th>\n",
       "      <td>movies movie film cinema films hollywood love ...</td>\n",
       "      <td>Media &amp; Entertainment</td>\n",
       "    </tr>\n",
       "    <tr>\n",
       "      <th>2</th>\n",
       "      <td>happy dancechallenge life repost instadance mu...</td>\n",
       "      <td>Media &amp; Entertainment</td>\n",
       "    </tr>\n",
       "    <tr>\n",
       "      <th>3</th>\n",
       "      <td>art artist love photography drawing instagood ...</td>\n",
       "      <td>Media &amp; Entertainment</td>\n",
       "    </tr>\n",
       "    <tr>\n",
       "      <th>4</th>\n",
       "      <td>magic love art magician witch nature photograp...</td>\n",
       "      <td>Media &amp; Entertainment</td>\n",
       "    </tr>\n",
       "  </tbody>\n",
       "</table>\n",
       "</div>"
      ],
      "text/plain": [
       "                                         Description               Category\n",
       "0  entertainment music love fun comedy instagram ...  Media & Entertainment\n",
       "1  movies movie film cinema films hollywood love ...  Media & Entertainment\n",
       "2  happy dancechallenge life repost instadance mu...  Media & Entertainment\n",
       "3  art artist love photography drawing instagood ...  Media & Entertainment\n",
       "4  magic love art magician witch nature photograp...  Media & Entertainment"
      ]
     },
     "execution_count": 173,
     "metadata": {},
     "output_type": "execute_result"
    }
   ],
   "source": [
    "# select the columns we need for train data \n",
    "df_train_new = df_train.iloc[:,1:3]\n",
    "df_train_new.head()"
   ]
  },
  {
   "cell_type": "code",
   "execution_count": 174,
   "metadata": {
    "scrolled": true
   },
   "outputs": [
    {
     "data": {
      "text/html": [
       "<div>\n",
       "<style scoped>\n",
       "    .dataframe tbody tr th:only-of-type {\n",
       "        vertical-align: middle;\n",
       "    }\n",
       "\n",
       "    .dataframe tbody tr th {\n",
       "        vertical-align: top;\n",
       "    }\n",
       "\n",
       "    .dataframe thead th {\n",
       "        text-align: right;\n",
       "    }\n",
       "</style>\n",
       "<table border=\"1\" class=\"dataframe\">\n",
       "  <thead>\n",
       "    <tr style=\"text-align: right;\">\n",
       "      <th></th>\n",
       "      <th>Description</th>\n",
       "      <th>Category</th>\n",
       "      <th>Model_Output</th>\n",
       "    </tr>\n",
       "  </thead>\n",
       "  <tbody>\n",
       "    <tr>\n",
       "      <th>0</th>\n",
       "      <td>Rackspace Technology | Multicloud Solutions Pr...</td>\n",
       "      <td>Information Technology</td>\n",
       "      <td>NaN</td>\n",
       "    </tr>\n",
       "    <tr>\n",
       "      <th>1</th>\n",
       "      <td>&gt;Merge, join, concatenate and compare &amp;#8212; ...</td>\n",
       "      <td>Career &amp; Education</td>\n",
       "      <td>NaN</td>\n",
       "    </tr>\n",
       "    <tr>\n",
       "      <th>2</th>\n",
       "      <td>Welcome to Cloudcroft! At 9000' above stress l...</td>\n",
       "      <td>Travel &amp; Tourism</td>\n",
       "      <td>NaN</td>\n",
       "    </tr>\n",
       "    <tr>\n",
       "      <th>3</th>\n",
       "      <td>Live One-On-One Music Lessons From Fun &amp; Inspi...</td>\n",
       "      <td>Media &amp; Entertainment</td>\n",
       "      <td>NaN</td>\n",
       "    </tr>\n",
       "    <tr>\n",
       "      <th>4</th>\n",
       "      <td>100 %ONLINE CULINARY EDUCATION, chef training</td>\n",
       "      <td>Career &amp; Education</td>\n",
       "      <td>NaN</td>\n",
       "    </tr>\n",
       "  </tbody>\n",
       "</table>\n",
       "</div>"
      ],
      "text/plain": [
       "                                         Description                Category  \\\n",
       "0  Rackspace Technology | Multicloud Solutions Pr...  Information Technology   \n",
       "1  >Merge, join, concatenate and compare &#8212; ...      Career & Education   \n",
       "2  Welcome to Cloudcroft! At 9000' above stress l...        Travel & Tourism   \n",
       "3  Live One-On-One Music Lessons From Fun & Inspi...   Media & Entertainment   \n",
       "4      100 %ONLINE CULINARY EDUCATION, chef training      Career & Education   \n",
       "\n",
       "   Model_Output  \n",
       "0           NaN  \n",
       "1           NaN  \n",
       "2           NaN  \n",
       "3           NaN  \n",
       "4           NaN  "
      ]
     },
     "execution_count": 174,
     "metadata": {},
     "output_type": "execute_result"
    }
   ],
   "source": [
    "# select the columns we need for test data\n",
    "df_test_new = df_test.iloc[:,1:]\n",
    "df_test_new.head()"
   ]
  },
  {
   "cell_type": "markdown",
   "metadata": {},
   "source": [
    "#  Data Pre-processing  - NLP "
   ]
  },
  {
   "cell_type": "markdown",
   "metadata": {},
   "source": [
    "## Obtian the list of stopwords and punctiations"
   ]
  },
  {
   "cell_type": "code",
   "execution_count": 175,
   "metadata": {},
   "outputs": [],
   "source": [
    "from nltk.corpus import stopwords\n",
    "import string,re\n",
    "import nltk\n",
    "\n",
    "sw_list = stopwords.words('english')\n",
    "sw_list += list(string.punctuation)\n",
    "sw_list += [\"''\", '\"\"', '...', '``', '’', '“', '’', '”', '‘', '‘',\"'\", '©',\".\",\"..\"\n",
    "'said',\"'s\", \"also\",'one',\"n't\",'com', 'satirewire', '-', '–', \n",
    "'—', '_','satirewire.com',\"/\"]\n",
    "sw_set = set(sw_list)"
   ]
  },
  {
   "cell_type": "code",
   "execution_count": 176,
   "metadata": {
    "scrolled": true
   },
   "outputs": [
    {
     "name": "stdout",
     "output_type": "stream",
     "text": [
      "{'|', '^', 'themselves', 'satirewire', \"hasn't\", 'what', 'here', 'com', 'not', '’', '..said', 'been', 'so', 'only', 'wasn', \"it's\", 'hadn', \"''\", '—', \"you'll\", 'just', 'against', \"won't\", '<', '©', ';', 'to', 'very', ']', 'too', 'i', 'satirewire.com', 'yourself', 'under', 'did', 'into', 'no', 'weren', 'one', 'and', 'ma', 'while', 'until', 'but', 'ourselves', 'yours', '?', '%', \"haven't\", 'his', 'ours', 'most', \"wouldn't\", 'who', \"that'll\", 'in', 'over', \"couldn't\", '\"', 'doesn', 'isn', 'aren', '~', \"you've\", 'she', 'about', \"n't\", \"needn't\", 'by', 'our', 'below', 've', '#', 'does', 'her', 'there', 'this', 'between', '(', 'where', 'which', ',', 'needn', \"didn't\", \"'\", 'is', 'why', 'you', '_', \"you're\", 'won', 'these', 'can', \"she's\", 'down', '”', 'y', 'the', \"weren't\", '...', 'their', 'after', \"hadn't\", \"don't\", 'any', 'am', 'now', 'mustn', 'with', \"shan't\", '\\\\', 'hasn', '+', 'have', \"doesn't\", '/', 'm', 'out', 'same', 'should', '$', 'shan', 'don', 'how', 'of', 'herself', 'before', 'above', 'few', 'nor', 'own', '.', 'up', 'having', 'because', \"isn't\", 'wouldn', '‘', '=', 'when', 'more', 'haven', 'being', 'o', 'mightn', 're', 'them', 'couldn', \"'s\", \"mightn't\", 'they', 'during', 'it', 'theirs', 'on', \"mustn't\", '}', 'as', '{', '“', '>', 'him', 'shouldn', 'do', 'again', 'whom', 'itself', 'from', 'both', '`', 'doing', 'some', ':', 'll', '!', 'for', 'we', 'a', 'those', 'will', 'be', \"wasn't\", 'my', '@', 'an', 'was', 'further', 'didn', 'd', \"you'd\", 'are', 'off', 'all', \"should've\", 'once', '[', '\"\"', 'me', 'or', '``', 'hers', 'at', 'also', 'were', 'has', 'than', 'that', 's', 'myself', 'each', '–', 'other', 'he', 'if', 'then', \"aren't\", 'your', 'yourselves', 'himself', 'had', \"shouldn't\", '*', 'such', 'its', 't', '&', ')', 'ain', 'through', '-'}\n"
     ]
    }
   ],
   "source": [
    "print(sw_set)"
   ]
  },
  {
   "cell_type": "code",
   "execution_count": 177,
   "metadata": {},
   "outputs": [],
   "source": [
    "# a fucntion to convert conjunction \n",
    "def clean_text(text):\n",
    "    text = text.lower()\n",
    "    text = re.sub(r\"i'm\", \"i am\", text)\n",
    "    text = re.sub(r\"he's\", \"he is\", text)\n",
    "    text = re.sub(r\"she's\", \"she is\", text)\n",
    "    text = re.sub(r\"that's\", \"that is\", text)\n",
    "    text = re.sub(r\"what's\", \"what is\", text)\n",
    "    text = re.sub(r\"where's\", \"where is\", text)\n",
    "    text = re.sub(r\"how's\", \"how is\", text)\n",
    "    text = re.sub(r\"\\'ll\", \" will\", text)\n",
    "    text = re.sub(r\"\\'ve\", \" have\", text)\n",
    "    text = re.sub(r\"\\'re\", \" are\", text)\n",
    "    text = re.sub(r\"\\'d\", \" would\", text)\n",
    "    text = re.sub(r\"n't\", \" not\", text)\n",
    "    text = re.sub(r\"won't\", \"will not\", text)\n",
    "    text = re.sub(r\"can't\", \"cannot\", text)    \n",
    "    return text"
   ]
  },
  {
   "cell_type": "markdown",
   "metadata": {},
   "source": [
    "## Create functions for Tokenization, Stemming and Lemmatizatrion\n",
    "\n"
   ]
  },
  {
   "cell_type": "markdown",
   "metadata": {},
   "source": [
    "Blog: https://medium.com/swlh/natural-language-processing-nlp-analysis-with-amazon-review-data-part-i-data-engineering-6573b782e4dc\n",
    "\n",
    "GitHub repo: https://github.com/melanieshi0120/NLP_Analysis_Amazon_Reviews/blob/master/Multi-class_Classification.ipynb"
   ]
  },
  {
   "cell_type": "code",
   "execution_count": 178,
   "metadata": {},
   "outputs": [],
   "source": [
    "# tokenization\n",
    "def process_text(sentence):\n",
    "    tokens = nltk.word_tokenize(sentence) # tokenization  \n",
    "    stopwords_removed = [token.lower() for token in tokens if token.lower() not in sw_set]# stop workds removal\n",
    "    return stopwords_removed"
   ]
  },
  {
   "cell_type": "code",
   "execution_count": 179,
   "metadata": {},
   "outputs": [],
   "source": [
    "# Stemming\n",
    "from nltk.stem import PorterStemmer\n",
    "ps = PorterStemmer()\n",
    "# create a function stemming() and loop through each word in a review\n",
    "def stemming(sentence):\n",
    "    stemmed_sentence=[]\n",
    "    for w in sentence:\n",
    "        stemmed_sentence.append(ps.stem(w))\n",
    "    return stemmed_sentence\n"
   ]
  },
  {
   "cell_type": "code",
   "execution_count": 180,
   "metadata": {},
   "outputs": [],
   "source": [
    "# import libraries\n",
    "from nltk.stem.wordnet import WordNetLemmatizer\n",
    "lemmatizer = WordNetLemmatizer()\n",
    "\n",
    "# create a function  and loop through each word in  a review\n",
    "def lemmatization(sentence):\n",
    "    lemma_list=[]\n",
    "    for word in sentence:\n",
    "        lemma_word=lemmatizer.lemmatize(word,pos='v') \n",
    "        lemma_list.append(lemma_word)\n",
    "    return lemma_list"
   ]
  },
  {
   "cell_type": "code",
   "execution_count": 181,
   "metadata": {},
   "outputs": [],
   "source": [
    "# Conbime all functions above and obtian cleaned text data \n",
    "def data_preprocessing(sentence):\n",
    "    # convert conjunction \n",
    "    cleaned_sentence=[]\n",
    "    for s in sentence:\n",
    "        cleaned_sentence.append(clean_text(s))\n",
    "    \n",
    "    #tokenization, stop words removal, punctuation marks removel\n",
    "    processed_text=list(map(process_text,cleaned_sentence))\n",
    "    # stemming\n",
    "    stemming_text=list(map(stemming,processed_text))\n",
    "    # lemmatization\n",
    "    lemma_text=list(map(lemmatization,stemming_text))\n",
    "    return lemma_text"
   ]
  },
  {
   "cell_type": "markdown",
   "metadata": {},
   "source": [
    "# Now it is time to use every function we made above and get cleaned the data\n"
   ]
  },
  {
   "cell_type": "code",
   "execution_count": 182,
   "metadata": {},
   "outputs": [],
   "source": [
    "# Now it is time to use every function we made above and get new \n",
    "# clean the train data -'Description'\n",
    "cleaned_x_train=data_preprocessing(df_train_new['Description'])\n",
    "# clean the test data -'Description'\n",
    "cleaned_x_test=data_preprocessing(df_test_new['Description'])"
   ]
  },
  {
   "cell_type": "code",
   "execution_count": 183,
   "metadata": {},
   "outputs": [],
   "source": [
    "train_text=[\" \".join(x) for x in cleaned_x_train]\n",
    "test_text=[\" \".join(x) for x in cleaned_x_test]"
   ]
  },
  {
   "cell_type": "code",
   "execution_count": 184,
   "metadata": {},
   "outputs": [
    {
     "name": "stdout",
     "output_type": "stream",
     "text": [
      "entertain music love fun comedi instagram instagood fashion hiphop follow meme news funni trend art danc media artist like photographi parti movi actor viral event hollywood bollywood event tiktok press media news photographi music covid journal photojourn art instagram journalist fashion giondent magazin photograph coronaviru artist instagood photo radio tv cardib like photooftheday youtub radio film singer podcast tv explorepag actress show india entertain live repost explor dj livemus funnymem meme famili celebr rap wed instadaili movi awstenknight life follow design silkpress work hiphop newspap gym cardi bardigang train publicrel workout print photojournalist stampa canon report giondentstyl offset wenevergiveup usa produc socialmedia\n"
     ]
    }
   ],
   "source": [
    "print(train_text[0])  \n",
    "# let us take a look at the fresh and cleaned data  (first row)"
   ]
  },
  {
   "cell_type": "code",
   "execution_count": 185,
   "metadata": {},
   "outputs": [
    {
     "name": "stdout",
     "output_type": "stream",
     "text": [
      "entertainment music love fun comedy instagram instagood fashion hiphop follow memes news funny trending art dance media artist like photography party movies actor viral events hollywood bollywood event tiktok\n",
      "press media news photography music covid journalism photojournalism art instagram journalist fashion giondent magazine photographer coronavirus artist instagood photo radio tv cardib like photooftheday youtube radio film singer podcast tv explorepage actress show india entertainer live repost explore dj livemusic funnymemes meme family celebrity rap wedding  instadaily movie awstenknight life \n",
      "follow design silkpress work hiphop newspaper gym cardi bardigang training publicrelations a workout print photojournalist stampa canon reporter giondentstyle offset wenevergiveup usa producer socialmedia \n"
     ]
    }
   ],
   "source": [
    "print(df_train_new['Description'][0])"
   ]
  },
  {
   "cell_type": "markdown",
   "metadata": {},
   "source": [
    "We can see that  \n",
    "- 'entertainment' converted to 'entertain' \n",
    "- 'events'  converted to \"event\"\n",
    "- 'training' to 'train'\n",
    "- 'publicrelations' to 'publicrel'\n",
    "... and so on.\n",
    "\n",
    "Make data consistency so that when we vectorize those text data, so that we are able to get correct digital data to.\n"
   ]
  },
  {
   "cell_type": "markdown",
   "metadata": {},
   "source": [
    "# Now we need to encode our target - Category\n"
   ]
  },
  {
   "cell_type": "code",
   "execution_count": 186,
   "metadata": {
    "scrolled": true
   },
   "outputs": [
    {
     "data": {
      "text/plain": [
       "Media & Entertainment     21\n",
       "Career & Education         8\n",
       "Business & Finance         7\n",
       "Health & Fitness           6\n",
       "Home & Gardening           5\n",
       "Travel & Tourism           4\n",
       "Information Technology     3\n",
       "Sports & Games             3\n",
       "Food & Resturant           3\n",
       "Shopping                   2\n",
       "Pets & Animals             1\n",
       "Social Platform            1\n",
       "Events                     1\n",
       "Collaboration              1\n",
       "Name: Category, dtype: int64"
      ]
     },
     "execution_count": 186,
     "metadata": {},
     "output_type": "execute_result"
    }
   ],
   "source": [
    "# take a look at how many different catogories in our target data \n",
    "df_train_new['Category'].value_counts()\n",
    "# we can see there are 14 different catogories\n",
    "# so we want to transform those catogorical data digitally for example:\n",
    "# 0 represents 'Media & Entertainment'\n",
    "# 1 represents 'Career & Education' \n",
    "# 2 represents 'Business & Finance '\n",
    "# ....... \n",
    "# 13 represents 'Social Platform'"
   ]
  },
  {
   "cell_type": "code",
   "execution_count": 187,
   "metadata": {},
   "outputs": [
    {
     "data": {
      "text/plain": [
       "{'Business & Finance': 0,\n",
       " 'Career & Education': 1,\n",
       " 'Collaboration': 2,\n",
       " 'Events': 3,\n",
       " 'Food & Resturant': 4,\n",
       " 'Health & Fitness': 5,\n",
       " 'Home & Gardening': 6,\n",
       " 'Information Technology': 7,\n",
       " 'Media & Entertainment': 8,\n",
       " 'Pets & Animals': 9,\n",
       " 'Shopping': 10,\n",
       " 'Social Platform': 11,\n",
       " 'Sports & Games': 12,\n",
       " 'Travel & Tourism': 13}"
      ]
     },
     "execution_count": 187,
     "metadata": {},
     "output_type": "execute_result"
    }
   ],
   "source": [
    "# to get all categories \n",
    "import numpy as np\n",
    "cato=np.unique(df_train_new['Category'])\n",
    "mapping_list={}\n",
    "for i in range(len(cato)):\n",
    "    mapping_list[cato[i]]=i\n",
    "# now we created a dictionary for converting the catogorical data into digital data\n",
    "mapping_list\n"
   ]
  },
  {
   "cell_type": "code",
   "execution_count": 188,
   "metadata": {},
   "outputs": [],
   "source": [
    "# Decalre y test and y train\n",
    "y_train=df_train_new['Category'].map(mapping_list)\n",
    "y_test=df_test_new['Category'].map(mapping_list)"
   ]
  },
  {
   "cell_type": "code",
   "execution_count": 189,
   "metadata": {
    "scrolled": false
   },
   "outputs": [
    {
     "name": "stdout",
     "output_type": "stream",
     "text": [
      "0     8\n",
      "1     8\n",
      "2     8\n",
      "3     8\n",
      "4     8\n",
      "     ..\n",
      "61    6\n",
      "62    6\n",
      "63    6\n",
      "64    1\n",
      "65    7\n",
      "Name: Category, Length: 66, dtype: int64\n"
     ]
    }
   ],
   "source": [
    "# Now we converted the df_train_new['Category'] and df_test_new['Category'] into digitally\n",
    "print(y_train)"
   ]
  },
  {
   "cell_type": "code",
   "execution_count": 190,
   "metadata": {},
   "outputs": [],
   "source": [
    "from sklearn.feature_extraction.text import CountVectorizer\n",
    "vectorizer =CountVectorizer()\n",
    "x_train=vectorizer.fit_transform(train_text)\n",
    "x_test=vectorizer.transform(test_text)"
   ]
  },
  {
   "cell_type": "markdown",
   "metadata": {},
   "source": [
    "# Naive Bayes Classifier"
   ]
  },
  {
   "cell_type": "markdown",
   "metadata": {},
   "source": [
    " Code is from https://github.com/melanieshi0120/NLP_Analysis_Amazon_Reviews/blob/master/Multi-class_Classification.ipynb\n"
   ]
  },
  {
   "cell_type": "code",
   "execution_count": 191,
   "metadata": {},
   "outputs": [],
   "source": [
    "# Now we decleared x_train, x_test, y_train, y_test\n",
    "# then we want to use GridSearch to tune the best parameters\n",
    "from sklearn.model_selection import GridSearchCV\n",
    "from sklearn.naive_bayes import MultinomialNB\n",
    "from sklearn.metrics import f1_score,make_scorer,accuracy_score\n",
    "from sklearn.metrics import confusion_matrix\n",
    "\n",
    "f1 = make_scorer(f1_score , average='weighted') \n",
    "\n",
    "def NB_GridSearch(x_train, y_train):\n",
    "    grid_params = {'alpha':[0.1,0.2,0.3,0.4,0.5],\n",
    "                     'fit_prior': [True, False],  }\n",
    "\n",
    "    gs = GridSearchCV( MultinomialNB(), grid_params,scoring=f1)\n",
    "    gs.fit(x_train, y_train)\n",
    "    print(\"Best Score: \", gs.best_score_)\n",
    "    return gs.best_params_.values()"
   ]
  },
  {
   "cell_type": "code",
   "execution_count": 192,
   "metadata": {},
   "outputs": [],
   "source": [
    "# create a function for the Naive Bayes Classifier\n",
    "def NaiveBayes(x_train,y_train,x_test,y_test,alpha,fit_prior):\n",
    "    # fit the training dataset on the NB classifier\n",
    "    Naive = MultinomialNB(alpha=alpha, fit_prior= fit_prior)\n",
    "    Naive.fit(x_train,y_train)\n",
    "    #prediction\n",
    "    nb_train_pre=Naive.predict(x_train)\n",
    "    nb_test_pre=Naive.predict(x_test)\n",
    "    # Use accuracy_score function to get the accuracy\n",
    "    print(\"Naive Bayes Train Accuracy Score :\",accuracy_score(nb_train_pre, y_train))\n",
    "    print(\"Naive Bayes Test Accuracy Score :\",accuracy_score(nb_test_pre, y_test))\n",
    "    # calculate f1 scores for test data and train data \n",
    "    # Accuracy can be used when the class distribution is similar \n",
    "    # while F1-score is a better metric when there are imbalanced classes as in the above case\n",
    "    nb_f1_score_test=f1_score(y_test,nb_test_pre,average='weighted')\n",
    "    nb_f1_score_train=f1_score(y_train,nb_train_pre,average='weighted')\n",
    "\n",
    "    print(\"Train data f1 score:{}\".format(nb_f1_score_train))\n",
    "    print(\"Test data f1 score:{}\".format(nb_f1_score_test ))\n",
    "    print(\"confusion_matrix:{}\".format(confusion_matrix(y_test, nb_test_pre)))\n",
    "    return nb_train_pre,nb_test_pre,Naive"
   ]
  },
  {
   "cell_type": "code",
   "execution_count": 193,
   "metadata": {},
   "outputs": [
    {
     "name": "stderr",
     "output_type": "stream",
     "text": [
      "/Users/yingyuxuan/opt/anaconda3/lib/python3.7/site-packages/sklearn/model_selection/_split.py:667: UserWarning: The least populated class in y has only 1 members, which is less than n_splits=5.\n",
      "  % (min_groups, self.n_splits)), UserWarning)\n"
     ]
    },
    {
     "name": "stdout",
     "output_type": "stream",
     "text": [
      "Best Score:  0.5941147741147741\n"
     ]
    },
    {
     "data": {
      "text/plain": [
       "(0.4, True)"
      ]
     },
     "execution_count": 193,
     "metadata": {},
     "output_type": "execute_result"
    }
   ],
   "source": [
    "alpha,fit_prior=NB_GridSearch(x_train, y_train)\n",
    "alpha,fit_prior \n",
    "# The reason why we got this warning because some class have only one Observation , such as --\n",
    "#==================================\n",
    "# Catogory              Observation\n",
    "#==================================\n",
    "# Collaboration              1\n",
    "# Pets & Animals             1\n",
    "# Events                     1\n",
    "# Social Platform            1\n",
    "# But this is find if we use this data as a study case. "
   ]
  },
  {
   "cell_type": "code",
   "execution_count": 194,
   "metadata": {
    "scrolled": true
   },
   "outputs": [
    {
     "name": "stdout",
     "output_type": "stream",
     "text": [
      "Naive Bayes Train Accuracy Score : 1.0\n",
      "Naive Bayes Test Accuracy Score : 0.8709677419354839\n",
      "Train data f1 score:1.0\n",
      "Test data f1 score:0.8950146627565981\n",
      "confusion_matrix:[[1 0 0 0 0 0 0 0 0]\n",
      " [0 4 0 0 0 0 0 0 0]\n",
      " [0 0 2 0 0 0 0 0 0]\n",
      " [0 0 0 3 0 0 1 3 0]\n",
      " [0 0 0 0 3 0 0 0 0]\n",
      " [0 0 0 0 0 8 0 0 0]\n",
      " [0 0 0 0 0 0 5 0 0]\n",
      " [0 0 0 0 0 0 0 0 0]\n",
      " [0 0 0 0 0 0 0 0 1]]\n"
     ]
    }
   ],
   "source": [
    "train_precition,test_prediction,classifier=NaiveBayes(x_train,y_train,x_test,y_test,alpha,fit_prior)"
   ]
  },
  {
   "cell_type": "markdown",
   "metadata": {},
   "source": [
    "# Plot the confusion matrix"
   ]
  },
  {
   "cell_type": "code",
   "execution_count": 200,
   "metadata": {
    "scrolled": false
   },
   "outputs": [
    {
     "data": {
      "text/plain": [
       "<sklearn.metrics._plot.confusion_matrix.ConfusionMatrixDisplay at 0x1a352f9f10>"
      ]
     },
     "execution_count": 200,
     "metadata": {},
     "output_type": "execute_result"
    },
    {
     "data": {
      "image/png": "[encoded data removed]",
      "text/plain": [
       "<Figure size 720x720 with 2 Axes>"
      ]
     },
     "metadata": {
      "needs_background": "light"
     },
     "output_type": "display_data"
    }
   ],
   "source": [
    "# Plot non-normalized confusion matrix\n",
    "import matplotlib.pyplot as plt\n",
    "from sklearn.metrics import plot_confusion_matrix\n",
    "fig, ax = plt.subplots(figsize=(10, 10))\n",
    "plot_confusion_matrix(classifier, x_test, y_test, cmap=plt.cm.Blues,ax=ax)\n"
   ]
  },
  {
   "cell_type": "markdown",
   "metadata": {},
   "source": [
    "## To find predictive words by their probability "
   ]
  },
  {
   "cell_type": "markdown",
   "metadata": {},
   "source": [
    "Code source : https://scikit-learn.org/stable/modules/generated/sklearn.feature_extraction.text.TfidfVectorizer.html\n"
   ]
  },
  {
   "cell_type": "code",
   "execution_count": 147,
   "metadata": {},
   "outputs": [],
   "source": [
    "def get_salient_words(nb_clf, vect, class_int):\n",
    "    \"\"\"Return salient words for given class\n",
    "    Parameters\n",
    "    ----------\n",
    "    nb_clf :  MultinomialNB\n",
    "    vect : CountVectorizer\n",
    "    class_ind : class\n",
    "    Returns\n",
    "    -------\n",
    "    list\n",
    "        a sorted list of (word,  prob) sorted by log probability in descending order.\n",
    "    \"\"\"\n",
    "\n",
    "    words = vect.get_feature_names()\n",
    "    zipped = list(zip(words, np.exp(nb_clf.feature_log_prob_[class_int])))\n",
    "    sorted_zip = sorted(zipped, key=lambda t: t[1], reverse=True)\n",
    "    return sorted_zip"
   ]
  },
  {
   "cell_type": "code",
   "execution_count": 148,
   "metadata": {},
   "outputs": [
    {
     "data": {
      "text/plain": [
       "[('educ', 0.006234248574081447),\n",
       " ('art', 0.004244594773842686),\n",
       " ('career', 0.004244594773842686),\n",
       " ('exam', 0.004244594773842686),\n",
       " ('instagood', 0.004244594773842686),\n",
       " ('life', 0.004244594773842686),\n",
       " ('love', 0.004244594773842686),\n",
       " ('studi', 0.004244594773842686),\n",
       " ('covid', 0.0035813768404297647),\n",
       " ('entrepreneur', 0.0035813768404297647)]"
      ]
     },
     "execution_count": 148,
     "metadata": {},
     "output_type": "execute_result"
    }
   ],
   "source": [
    "# we can get top 10 predicitive keywords ranked by the probabilities\n",
    "get_salient_words(classifier, vectorizer, 1)[:10] "
   ]
  },
  {
   "cell_type": "code",
   "execution_count": 149,
   "metadata": {},
   "outputs": [
    {
     "data": {
      "text/plain": [
       "[('travel', 0.014442231075697209),\n",
       " ('instatravel', 0.005312084993359895),\n",
       " ('holiday', 0.00448207171314741),\n",
       " ('photographi', 0.00448207171314741),\n",
       " ('travelphotographi', 0.00448207171314741),\n",
       " ('airlin', 0.003652058432934927),\n",
       " ('beach', 0.003652058432934927),\n",
       " ('hotel', 0.003652058432934927),\n",
       " ('instagood', 0.003652058432934927),\n",
       " ('itali', 0.003652058432934927),\n",
       " ('natur', 0.003652058432934927),\n",
       " ('photooftheday', 0.003652058432934927),\n",
       " ('summer', 0.003652058432934927),\n",
       " ('tourism', 0.003652058432934927),\n",
       " ('travelblogg', 0.003652058432934927),\n",
       " ('travelgram', 0.003652058432934927),\n",
       " ('trip', 0.003652058432934927),\n",
       " ('vacat', 0.003652058432934927),\n",
       " ('wanderlust', 0.003652058432934927),\n",
       " ('adventur', 0.0028220451527224432)]"
      ]
     },
     "execution_count": 149,
     "metadata": {},
     "output_type": "execute_result"
    }
   ],
   "source": [
    "# we also can get top 20\n",
    "get_salient_words(classifier, vectorizer, 13)[:20] "
   ]
  },
  {
   "cell_type": "code",
   "execution_count": 30,
   "metadata": {
    "code_folding": []
   },
   "outputs": [],
   "source": [
    "# use the data above to create dataframe for each class with loop and save each dataframe into df_list\n",
    "df_list=[]\n",
    "for i in range(len(cato)):\n",
    "    df_i=pd.DataFrame(get_salient_words(classifier, vectorizer, i), columns=[cato[i]+\"_w\", cato[i]+\"_p\"]).reset_index()\n",
    "    df_list.append(df_i)"
   ]
  },
  {
   "cell_type": "code",
   "execution_count": 31,
   "metadata": {
    "code_folding": [],
    "scrolled": true
   },
   "outputs": [
    {
     "data": {
      "text/html": [
       "<div>\n",
       "<style scoped>\n",
       "    .dataframe tbody tr th:only-of-type {\n",
       "        vertical-align: middle;\n",
       "    }\n",
       "\n",
       "    .dataframe tbody tr th {\n",
       "        vertical-align: top;\n",
       "    }\n",
       "\n",
       "    .dataframe thead th {\n",
       "        text-align: right;\n",
       "    }\n",
       "</style>\n",
       "<table border=\"1\" class=\"dataframe\">\n",
       "  <thead>\n",
       "    <tr style=\"text-align: right;\">\n",
       "      <th></th>\n",
       "      <th>Business &amp; Finance_w</th>\n",
       "      <th>Business &amp; Finance_p</th>\n",
       "      <th>Career &amp; Education_w</th>\n",
       "      <th>Career &amp; Education_p</th>\n",
       "      <th>Collaboration_w</th>\n",
       "      <th>Collaboration_p</th>\n",
       "      <th>Events_w</th>\n",
       "      <th>Events_p</th>\n",
       "      <th>Food &amp; Resturant_w</th>\n",
       "      <th>Food &amp; Resturant_p</th>\n",
       "      <th>...</th>\n",
       "      <th>Pets &amp; Animals_w</th>\n",
       "      <th>Pets &amp; Animals_p</th>\n",
       "      <th>Shopping_w</th>\n",
       "      <th>Shopping_p</th>\n",
       "      <th>Social Platform_w</th>\n",
       "      <th>Social Platform_p</th>\n",
       "      <th>Sports &amp; Games_w</th>\n",
       "      <th>Sports &amp; Games_p</th>\n",
       "      <th>Travel &amp; Tourism_w</th>\n",
       "      <th>Travel &amp; Tourism_p</th>\n",
       "    </tr>\n",
       "  </thead>\n",
       "  <tbody>\n",
       "    <tr>\n",
       "      <th>0</th>\n",
       "      <td>invest</td>\n",
       "      <td>0.008058</td>\n",
       "      <td>educ</td>\n",
       "      <td>0.006234</td>\n",
       "      <td>call</td>\n",
       "      <td>0.002540</td>\n",
       "      <td>giveaway</td>\n",
       "      <td>0.002522</td>\n",
       "      <td>foodi</td>\n",
       "      <td>0.007422</td>\n",
       "      <td>...</td>\n",
       "      <td>anim</td>\n",
       "      <td>0.002506</td>\n",
       "      <td>design</td>\n",
       "      <td>0.003295</td>\n",
       "      <td>beauti</td>\n",
       "      <td>0.002503</td>\n",
       "      <td>sport</td>\n",
       "      <td>0.007515</td>\n",
       "      <td>travel</td>\n",
       "      <td>0.014442</td>\n",
       "    </tr>\n",
       "    <tr>\n",
       "      <th>1</th>\n",
       "      <td>busi</td>\n",
       "      <td>0.005230</td>\n",
       "      <td>art</td>\n",
       "      <td>0.004245</td>\n",
       "      <td>creativ</td>\n",
       "      <td>0.002540</td>\n",
       "      <td>sport</td>\n",
       "      <td>0.002522</td>\n",
       "      <td>cook</td>\n",
       "      <td>0.006538</td>\n",
       "      <td>...</td>\n",
       "      <td>cachorro</td>\n",
       "      <td>0.002506</td>\n",
       "      <td>makeup</td>\n",
       "      <td>0.003295</td>\n",
       "      <td>famili</td>\n",
       "      <td>0.002503</td>\n",
       "      <td>athlet</td>\n",
       "      <td>0.005726</td>\n",
       "      <td>instatravel</td>\n",
       "      <td>0.005312</td>\n",
       "    </tr>\n",
       "    <tr>\n",
       "      <th>2</th>\n",
       "      <td>covid</td>\n",
       "      <td>0.005230</td>\n",
       "      <td>career</td>\n",
       "      <td>0.004245</td>\n",
       "      <td>beauti</td>\n",
       "      <td>0.001482</td>\n",
       "      <td>analysi</td>\n",
       "      <td>0.001471</td>\n",
       "      <td>food</td>\n",
       "      <td>0.005655</td>\n",
       "      <td>...</td>\n",
       "      <td>cat</td>\n",
       "      <td>0.002506</td>\n",
       "      <td>bag</td>\n",
       "      <td>0.002326</td>\n",
       "      <td>like</td>\n",
       "      <td>0.002503</td>\n",
       "      <td>fit</td>\n",
       "      <td>0.004831</td>\n",
       "      <td>holiday</td>\n",
       "      <td>0.004482</td>\n",
       "    </tr>\n",
       "    <tr>\n",
       "      <th>3</th>\n",
       "      <td>money</td>\n",
       "      <td>0.005230</td>\n",
       "      <td>exam</td>\n",
       "      <td>0.004245</td>\n",
       "      <td>busi</td>\n",
       "      <td>0.001482</td>\n",
       "      <td>analyst</td>\n",
       "      <td>0.001471</td>\n",
       "      <td>foodlov</td>\n",
       "      <td>0.005655</td>\n",
       "      <td>...</td>\n",
       "      <td>dog</td>\n",
       "      <td>0.002506</td>\n",
       "      <td>beauti</td>\n",
       "      <td>0.002326</td>\n",
       "      <td>likeforlik</td>\n",
       "      <td>0.002503</td>\n",
       "      <td>basketbal</td>\n",
       "      <td>0.003936</td>\n",
       "      <td>photographi</td>\n",
       "      <td>0.004482</td>\n",
       "    </tr>\n",
       "    <tr>\n",
       "      <th>4</th>\n",
       "      <td>entrepreneur</td>\n",
       "      <td>0.004524</td>\n",
       "      <td>instagood</td>\n",
       "      <td>0.004245</td>\n",
       "      <td>collab</td>\n",
       "      <td>0.001482</td>\n",
       "      <td>art</td>\n",
       "      <td>0.001471</td>\n",
       "      <td>chef</td>\n",
       "      <td>0.004771</td>\n",
       "      <td>...</td>\n",
       "      <td>doglov</td>\n",
       "      <td>0.002506</td>\n",
       "      <td>cloth</td>\n",
       "      <td>0.002326</td>\n",
       "      <td>advertis</td>\n",
       "      <td>0.001460</td>\n",
       "      <td>like</td>\n",
       "      <td>0.003936</td>\n",
       "      <td>travelphotographi</td>\n",
       "      <td>0.004482</td>\n",
       "    </tr>\n",
       "  </tbody>\n",
       "</table>\n",
       "<p>5 rows × 28 columns</p>\n",
       "</div>"
      ],
      "text/plain": [
       "  Business & Finance_w  Business & Finance_p Career & Education_w  \\\n",
       "0               invest              0.008058                 educ   \n",
       "1                 busi              0.005230                  art   \n",
       "2                covid              0.005230               career   \n",
       "3                money              0.005230                 exam   \n",
       "4         entrepreneur              0.004524            instagood   \n",
       "\n",
       "   Career & Education_p Collaboration_w  Collaboration_p  Events_w  Events_p  \\\n",
       "0              0.006234            call         0.002540  giveaway  0.002522   \n",
       "1              0.004245         creativ         0.002540     sport  0.002522   \n",
       "2              0.004245          beauti         0.001482   analysi  0.001471   \n",
       "3              0.004245            busi         0.001482   analyst  0.001471   \n",
       "4              0.004245          collab         0.001482       art  0.001471   \n",
       "\n",
       "  Food & Resturant_w  Food & Resturant_p  ... Pets & Animals_w  \\\n",
       "0              foodi            0.007422  ...             anim   \n",
       "1               cook            0.006538  ...         cachorro   \n",
       "2               food            0.005655  ...              cat   \n",
       "3            foodlov            0.005655  ...              dog   \n",
       "4               chef            0.004771  ...           doglov   \n",
       "\n",
       "   Pets & Animals_p Shopping_w  Shopping_p Social Platform_w  \\\n",
       "0          0.002506     design    0.003295            beauti   \n",
       "1          0.002506     makeup    0.003295            famili   \n",
       "2          0.002506        bag    0.002326              like   \n",
       "3          0.002506     beauti    0.002326        likeforlik   \n",
       "4          0.002506      cloth    0.002326          advertis   \n",
       "\n",
       "   Social Platform_p Sports & Games_w  Sports & Games_p Travel & Tourism_w  \\\n",
       "0           0.002503            sport          0.007515             travel   \n",
       "1           0.002503           athlet          0.005726        instatravel   \n",
       "2           0.002503              fit          0.004831            holiday   \n",
       "3           0.002503        basketbal          0.003936        photographi   \n",
       "4           0.001460             like          0.003936  travelphotographi   \n",
       "\n",
       "   Travel & Tourism_p  \n",
       "0            0.014442  \n",
       "1            0.005312  \n",
       "2            0.004482  \n",
       "3            0.004482  \n",
       "4            0.004482  \n",
       "\n",
       "[5 rows x 28 columns]"
      ]
     },
     "execution_count": 31,
     "metadata": {},
     "output_type": "execute_result"
    }
   ],
   "source": [
    "from functools import reduce\n",
    "# Merge all the dataframes in the df_list\n",
    "df_merged = reduce(lambda  left,right: pd.merge(left,right,on=['index'],how='outer'), df_list).drop(columns='index')\n",
    "# TOP 10 keywords with their probabilities in each class \n",
    "df_merged.head()\n"
   ]
  },
  {
   "cell_type": "code",
   "execution_count": 32,
   "metadata": {},
   "outputs": [
    {
     "data": {
      "text/plain": [
       "(2252, 28)"
      ]
     },
     "execution_count": 32,
     "metadata": {},
     "output_type": "execute_result"
    }
   ],
   "source": [
    "df_merged.shape"
   ]
  },
  {
   "cell_type": "code",
   "execution_count": 413,
   "metadata": {},
   "outputs": [
    {
     "data": {
      "text/html": [
       "<div>\n",
       "<style scoped>\n",
       "    .dataframe tbody tr th:only-of-type {\n",
       "        vertical-align: middle;\n",
       "    }\n",
       "\n",
       "    .dataframe tbody tr th {\n",
       "        vertical-align: top;\n",
       "    }\n",
       "\n",
       "    .dataframe thead th {\n",
       "        text-align: right;\n",
       "    }\n",
       "</style>\n",
       "<table border=\"1\" class=\"dataframe\">\n",
       "  <thead>\n",
       "    <tr style=\"text-align: right;\">\n",
       "      <th></th>\n",
       "      <th>Business &amp; Finance_w</th>\n",
       "      <th>Career &amp; Education_w</th>\n",
       "      <th>Collaboration_w</th>\n",
       "      <th>Events_w</th>\n",
       "      <th>Food &amp; Resturant_w</th>\n",
       "      <th>Health &amp; Fitness_w</th>\n",
       "      <th>Home &amp; Gardening_w</th>\n",
       "      <th>Information Technology_w</th>\n",
       "      <th>Media &amp; Entertainment_w</th>\n",
       "      <th>Pets &amp; Animals_w</th>\n",
       "      <th>Shopping_w</th>\n",
       "      <th>Social Platform_w</th>\n",
       "      <th>Sports &amp; Games_w</th>\n",
       "      <th>Travel &amp; Tourism_w</th>\n",
       "    </tr>\n",
       "  </thead>\n",
       "  <tbody>\n",
       "    <tr>\n",
       "      <th>0</th>\n",
       "      <td>invest</td>\n",
       "      <td>educ</td>\n",
       "      <td>call</td>\n",
       "      <td>giveaway</td>\n",
       "      <td>foodi</td>\n",
       "      <td>fit</td>\n",
       "      <td>interior</td>\n",
       "      <td>engin</td>\n",
       "      <td>music</td>\n",
       "      <td>anim</td>\n",
       "      <td>design</td>\n",
       "      <td>beauti</td>\n",
       "      <td>sport</td>\n",
       "      <td>travel</td>\n",
       "    </tr>\n",
       "    <tr>\n",
       "      <th>1</th>\n",
       "      <td>busi</td>\n",
       "      <td>art</td>\n",
       "      <td>creativ</td>\n",
       "      <td>sport</td>\n",
       "      <td>cook</td>\n",
       "      <td>happi</td>\n",
       "      <td>interiordesign</td>\n",
       "      <td>comput</td>\n",
       "      <td>art</td>\n",
       "      <td>cachorro</td>\n",
       "      <td>makeup</td>\n",
       "      <td>famili</td>\n",
       "      <td>athlet</td>\n",
       "      <td>instatravel</td>\n",
       "    </tr>\n",
       "    <tr>\n",
       "      <th>2</th>\n",
       "      <td>covid</td>\n",
       "      <td>career</td>\n",
       "      <td>beauti</td>\n",
       "      <td>analysi</td>\n",
       "      <td>food</td>\n",
       "      <td>beauti</td>\n",
       "      <td>design</td>\n",
       "      <td>gadget</td>\n",
       "      <td>musician</td>\n",
       "      <td>cat</td>\n",
       "      <td>bag</td>\n",
       "      <td>like</td>\n",
       "      <td>fit</td>\n",
       "      <td>holiday</td>\n",
       "    </tr>\n",
       "    <tr>\n",
       "      <th>3</th>\n",
       "      <td>money</td>\n",
       "      <td>exam</td>\n",
       "      <td>busi</td>\n",
       "      <td>analyst</td>\n",
       "      <td>foodlov</td>\n",
       "      <td>love</td>\n",
       "      <td>homedecor</td>\n",
       "      <td>technolog</td>\n",
       "      <td>artist</td>\n",
       "      <td>dog</td>\n",
       "      <td>beauti</td>\n",
       "      <td>likeforlik</td>\n",
       "      <td>basketbal</td>\n",
       "      <td>photographi</td>\n",
       "    </tr>\n",
       "    <tr>\n",
       "      <th>4</th>\n",
       "      <td>entrepreneur</td>\n",
       "      <td>instagood</td>\n",
       "      <td>collab</td>\n",
       "      <td>art</td>\n",
       "      <td>chef</td>\n",
       "      <td>doctor</td>\n",
       "      <td>decor</td>\n",
       "      <td>appl</td>\n",
       "      <td>instagram</td>\n",
       "      <td>doglov</td>\n",
       "      <td>cloth</td>\n",
       "      <td>advertis</td>\n",
       "      <td>like</td>\n",
       "      <td>travelphotographi</td>\n",
       "    </tr>\n",
       "  </tbody>\n",
       "</table>\n",
       "</div>"
      ],
      "text/plain": [
       "  Business & Finance_w Career & Education_w Collaboration_w  Events_w  \\\n",
       "0               invest                 educ            call  giveaway   \n",
       "1                 busi                  art         creativ     sport   \n",
       "2                covid               career          beauti   analysi   \n",
       "3                money                 exam            busi   analyst   \n",
       "4         entrepreneur            instagood          collab       art   \n",
       "\n",
       "  Food & Resturant_w Health & Fitness_w Home & Gardening_w  \\\n",
       "0              foodi                fit           interior   \n",
       "1               cook              happi     interiordesign   \n",
       "2               food             beauti             design   \n",
       "3            foodlov               love          homedecor   \n",
       "4               chef             doctor              decor   \n",
       "\n",
       "  Information Technology_w Media & Entertainment_w Pets & Animals_w  \\\n",
       "0                    engin                   music             anim   \n",
       "1                   comput                     art         cachorro   \n",
       "2                   gadget                musician              cat   \n",
       "3                technolog                  artist              dog   \n",
       "4                     appl               instagram           doglov   \n",
       "\n",
       "  Shopping_w Social Platform_w Sports & Games_w Travel & Tourism_w  \n",
       "0     design            beauti            sport             travel  \n",
       "1     makeup            famili           athlet        instatravel  \n",
       "2        bag              like              fit            holiday  \n",
       "3     beauti        likeforlik        basketbal        photographi  \n",
       "4      cloth          advertis             like  travelphotographi  "
      ]
     },
     "execution_count": 413,
     "metadata": {},
     "output_type": "execute_result"
    }
   ],
   "source": [
    "# to get words dataframe\n",
    "\n",
    "df_words=df_merged[df_merged.columns[list(range(0,28,2))]]\n",
    "df_words.head()"
   ]
  },
  {
   "cell_type": "code",
   "execution_count": 414,
   "metadata": {
    "scrolled": true
   },
   "outputs": [
    {
     "data": {
      "text/html": [
       "<div>\n",
       "<style scoped>\n",
       "    .dataframe tbody tr th:only-of-type {\n",
       "        vertical-align: middle;\n",
       "    }\n",
       "\n",
       "    .dataframe tbody tr th {\n",
       "        vertical-align: top;\n",
       "    }\n",
       "\n",
       "    .dataframe thead th {\n",
       "        text-align: right;\n",
       "    }\n",
       "</style>\n",
       "<table border=\"1\" class=\"dataframe\">\n",
       "  <thead>\n",
       "    <tr style=\"text-align: right;\">\n",
       "      <th></th>\n",
       "      <th>Business &amp; Finance_p</th>\n",
       "      <th>Career &amp; Education_p</th>\n",
       "      <th>Collaboration_p</th>\n",
       "      <th>Events_p</th>\n",
       "      <th>Food &amp; Resturant_p</th>\n",
       "      <th>Health &amp; Fitness_p</th>\n",
       "      <th>Home &amp; Gardening_p</th>\n",
       "      <th>Information Technology_p</th>\n",
       "      <th>Media &amp; Entertainment_p</th>\n",
       "      <th>Pets &amp; Animals_p</th>\n",
       "      <th>Shopping_p</th>\n",
       "      <th>Social Platform_p</th>\n",
       "      <th>Sports &amp; Games_p</th>\n",
       "      <th>Travel &amp; Tourism_p</th>\n",
       "    </tr>\n",
       "  </thead>\n",
       "  <tbody>\n",
       "    <tr>\n",
       "      <th>0</th>\n",
       "      <td>0.008058</td>\n",
       "      <td>0.006234</td>\n",
       "      <td>0.002540</td>\n",
       "      <td>0.002522</td>\n",
       "      <td>0.007422</td>\n",
       "      <td>0.009275</td>\n",
       "      <td>0.007862</td>\n",
       "      <td>0.005746</td>\n",
       "      <td>0.009316</td>\n",
       "      <td>0.002506</td>\n",
       "      <td>0.003295</td>\n",
       "      <td>0.002503</td>\n",
       "      <td>0.007515</td>\n",
       "      <td>0.014442</td>\n",
       "    </tr>\n",
       "    <tr>\n",
       "      <th>1</th>\n",
       "      <td>0.005230</td>\n",
       "      <td>0.004245</td>\n",
       "      <td>0.002540</td>\n",
       "      <td>0.002522</td>\n",
       "      <td>0.006538</td>\n",
       "      <td>0.007198</td>\n",
       "      <td>0.007862</td>\n",
       "      <td>0.003950</td>\n",
       "      <td>0.008859</td>\n",
       "      <td>0.002506</td>\n",
       "      <td>0.003295</td>\n",
       "      <td>0.002503</td>\n",
       "      <td>0.005726</td>\n",
       "      <td>0.005312</td>\n",
       "    </tr>\n",
       "    <tr>\n",
       "      <th>2</th>\n",
       "      <td>0.005230</td>\n",
       "      <td>0.004245</td>\n",
       "      <td>0.001482</td>\n",
       "      <td>0.001471</td>\n",
       "      <td>0.005655</td>\n",
       "      <td>0.006506</td>\n",
       "      <td>0.007106</td>\n",
       "      <td>0.003950</td>\n",
       "      <td>0.008403</td>\n",
       "      <td>0.002506</td>\n",
       "      <td>0.002326</td>\n",
       "      <td>0.002503</td>\n",
       "      <td>0.004831</td>\n",
       "      <td>0.004482</td>\n",
       "    </tr>\n",
       "    <tr>\n",
       "      <th>3</th>\n",
       "      <td>0.005230</td>\n",
       "      <td>0.004245</td>\n",
       "      <td>0.001482</td>\n",
       "      <td>0.001471</td>\n",
       "      <td>0.005655</td>\n",
       "      <td>0.006506</td>\n",
       "      <td>0.007106</td>\n",
       "      <td>0.003950</td>\n",
       "      <td>0.007489</td>\n",
       "      <td>0.002506</td>\n",
       "      <td>0.002326</td>\n",
       "      <td>0.002503</td>\n",
       "      <td>0.003936</td>\n",
       "      <td>0.004482</td>\n",
       "    </tr>\n",
       "    <tr>\n",
       "      <th>4</th>\n",
       "      <td>0.004524</td>\n",
       "      <td>0.004245</td>\n",
       "      <td>0.001482</td>\n",
       "      <td>0.001471</td>\n",
       "      <td>0.004771</td>\n",
       "      <td>0.005122</td>\n",
       "      <td>0.006350</td>\n",
       "      <td>0.003053</td>\n",
       "      <td>0.007489</td>\n",
       "      <td>0.002506</td>\n",
       "      <td>0.002326</td>\n",
       "      <td>0.001460</td>\n",
       "      <td>0.003936</td>\n",
       "      <td>0.004482</td>\n",
       "    </tr>\n",
       "  </tbody>\n",
       "</table>\n",
       "</div>"
      ],
      "text/plain": [
       "   Business & Finance_p  Career & Education_p  Collaboration_p  Events_p  \\\n",
       "0              0.008058              0.006234         0.002540  0.002522   \n",
       "1              0.005230              0.004245         0.002540  0.002522   \n",
       "2              0.005230              0.004245         0.001482  0.001471   \n",
       "3              0.005230              0.004245         0.001482  0.001471   \n",
       "4              0.004524              0.004245         0.001482  0.001471   \n",
       "\n",
       "   Food & Resturant_p  Health & Fitness_p  Home & Gardening_p  \\\n",
       "0            0.007422            0.009275            0.007862   \n",
       "1            0.006538            0.007198            0.007862   \n",
       "2            0.005655            0.006506            0.007106   \n",
       "3            0.005655            0.006506            0.007106   \n",
       "4            0.004771            0.005122            0.006350   \n",
       "\n",
       "   Information Technology_p  Media & Entertainment_p  Pets & Animals_p  \\\n",
       "0                  0.005746                 0.009316          0.002506   \n",
       "1                  0.003950                 0.008859          0.002506   \n",
       "2                  0.003950                 0.008403          0.002506   \n",
       "3                  0.003950                 0.007489          0.002506   \n",
       "4                  0.003053                 0.007489          0.002506   \n",
       "\n",
       "   Shopping_p  Social Platform_p  Sports & Games_p  Travel & Tourism_p  \n",
       "0    0.003295           0.002503          0.007515            0.014442  \n",
       "1    0.003295           0.002503          0.005726            0.005312  \n",
       "2    0.002326           0.002503          0.004831            0.004482  \n",
       "3    0.002326           0.002503          0.003936            0.004482  \n",
       "4    0.002326           0.001460          0.003936            0.004482  "
      ]
     },
     "execution_count": 414,
     "metadata": {},
     "output_type": "execute_result"
    }
   ],
   "source": [
    "# to get probability dataframe\n",
    "df_pro=df_merged.drop(columns=df_words.columns)\n",
    "df_pro.head()\n"
   ]
  },
  {
   "cell_type": "code",
   "execution_count": 415,
   "metadata": {},
   "outputs": [
    {
     "data": {
      "text/html": [
       "<div>\n",
       "<style scoped>\n",
       "    .dataframe tbody tr th:only-of-type {\n",
       "        vertical-align: middle;\n",
       "    }\n",
       "\n",
       "    .dataframe tbody tr th {\n",
       "        vertical-align: top;\n",
       "    }\n",
       "\n",
       "    .dataframe thead th {\n",
       "        text-align: right;\n",
       "    }\n",
       "</style>\n",
       "<table border=\"1\" class=\"dataframe\">\n",
       "  <thead>\n",
       "    <tr style=\"text-align: right;\">\n",
       "      <th></th>\n",
       "      <th>Business &amp; Finance</th>\n",
       "      <th>Career &amp; Education</th>\n",
       "      <th>Collaboration</th>\n",
       "      <th>Events</th>\n",
       "      <th>Food &amp; Resturant</th>\n",
       "      <th>Health &amp; Fitness</th>\n",
       "      <th>Home &amp; Gardening</th>\n",
       "      <th>Information Technology</th>\n",
       "      <th>Media &amp; Entertainment</th>\n",
       "      <th>Pets &amp; Animals</th>\n",
       "      <th>Shopping</th>\n",
       "      <th>Social Platform</th>\n",
       "      <th>Sports &amp; Games</th>\n",
       "      <th>Travel &amp; Tourism</th>\n",
       "    </tr>\n",
       "  </thead>\n",
       "  <tbody>\n",
       "    <tr>\n",
       "      <th>0</th>\n",
       "      <td>0.008058</td>\n",
       "      <td>0.006234</td>\n",
       "      <td>0.002540</td>\n",
       "      <td>0.002522</td>\n",
       "      <td>0.007422</td>\n",
       "      <td>0.009275</td>\n",
       "      <td>0.007862</td>\n",
       "      <td>0.005746</td>\n",
       "      <td>0.009316</td>\n",
       "      <td>0.002506</td>\n",
       "      <td>0.003295</td>\n",
       "      <td>0.002503</td>\n",
       "      <td>0.007515</td>\n",
       "      <td>0.014442</td>\n",
       "    </tr>\n",
       "    <tr>\n",
       "      <th>1</th>\n",
       "      <td>0.005230</td>\n",
       "      <td>0.004245</td>\n",
       "      <td>0.002540</td>\n",
       "      <td>0.002522</td>\n",
       "      <td>0.006538</td>\n",
       "      <td>0.007198</td>\n",
       "      <td>0.007862</td>\n",
       "      <td>0.003950</td>\n",
       "      <td>0.008859</td>\n",
       "      <td>0.002506</td>\n",
       "      <td>0.003295</td>\n",
       "      <td>0.002503</td>\n",
       "      <td>0.005726</td>\n",
       "      <td>0.005312</td>\n",
       "    </tr>\n",
       "    <tr>\n",
       "      <th>2</th>\n",
       "      <td>0.005230</td>\n",
       "      <td>0.004245</td>\n",
       "      <td>0.001482</td>\n",
       "      <td>0.001471</td>\n",
       "      <td>0.005655</td>\n",
       "      <td>0.006506</td>\n",
       "      <td>0.007106</td>\n",
       "      <td>0.003950</td>\n",
       "      <td>0.008403</td>\n",
       "      <td>0.002506</td>\n",
       "      <td>0.002326</td>\n",
       "      <td>0.002503</td>\n",
       "      <td>0.004831</td>\n",
       "      <td>0.004482</td>\n",
       "    </tr>\n",
       "    <tr>\n",
       "      <th>3</th>\n",
       "      <td>0.005230</td>\n",
       "      <td>0.004245</td>\n",
       "      <td>0.001482</td>\n",
       "      <td>0.001471</td>\n",
       "      <td>0.005655</td>\n",
       "      <td>0.006506</td>\n",
       "      <td>0.007106</td>\n",
       "      <td>0.003950</td>\n",
       "      <td>0.007489</td>\n",
       "      <td>0.002506</td>\n",
       "      <td>0.002326</td>\n",
       "      <td>0.002503</td>\n",
       "      <td>0.003936</td>\n",
       "      <td>0.004482</td>\n",
       "    </tr>\n",
       "    <tr>\n",
       "      <th>4</th>\n",
       "      <td>0.004524</td>\n",
       "      <td>0.004245</td>\n",
       "      <td>0.001482</td>\n",
       "      <td>0.001471</td>\n",
       "      <td>0.004771</td>\n",
       "      <td>0.005122</td>\n",
       "      <td>0.006350</td>\n",
       "      <td>0.003053</td>\n",
       "      <td>0.007489</td>\n",
       "      <td>0.002506</td>\n",
       "      <td>0.002326</td>\n",
       "      <td>0.001460</td>\n",
       "      <td>0.003936</td>\n",
       "      <td>0.004482</td>\n",
       "    </tr>\n",
       "  </tbody>\n",
       "</table>\n",
       "</div>"
      ],
      "text/plain": [
       "   Business & Finance  Career & Education  Collaboration    Events  \\\n",
       "0            0.008058            0.006234       0.002540  0.002522   \n",
       "1            0.005230            0.004245       0.002540  0.002522   \n",
       "2            0.005230            0.004245       0.001482  0.001471   \n",
       "3            0.005230            0.004245       0.001482  0.001471   \n",
       "4            0.004524            0.004245       0.001482  0.001471   \n",
       "\n",
       "   Food & Resturant  Health & Fitness  Home & Gardening  \\\n",
       "0          0.007422          0.009275          0.007862   \n",
       "1          0.006538          0.007198          0.007862   \n",
       "2          0.005655          0.006506          0.007106   \n",
       "3          0.005655          0.006506          0.007106   \n",
       "4          0.004771          0.005122          0.006350   \n",
       "\n",
       "   Information Technology  Media & Entertainment  Pets & Animals  Shopping  \\\n",
       "0                0.005746               0.009316        0.002506  0.003295   \n",
       "1                0.003950               0.008859        0.002506  0.003295   \n",
       "2                0.003950               0.008403        0.002506  0.002326   \n",
       "3                0.003950               0.007489        0.002506  0.002326   \n",
       "4                0.003053               0.007489        0.002506  0.002326   \n",
       "\n",
       "   Social Platform  Sports & Games  Travel & Tourism  \n",
       "0         0.002503        0.007515          0.014442  \n",
       "1         0.002503        0.005726          0.005312  \n",
       "2         0.002503        0.004831          0.004482  \n",
       "3         0.002503        0.003936          0.004482  \n",
       "4         0.001460        0.003936          0.004482  "
      ]
     },
     "execution_count": 415,
     "metadata": {},
     "output_type": "execute_result"
    }
   ],
   "source": [
    "# then change their column names \n",
    "df_pro.columns=df_words.columns=cato\n",
    "df_pro.head()"
   ]
  },
  {
   "cell_type": "code",
   "execution_count": 416,
   "metadata": {},
   "outputs": [
    {
     "data": {
      "text/html": [
       "<div>\n",
       "<style scoped>\n",
       "    .dataframe tbody tr th:only-of-type {\n",
       "        vertical-align: middle;\n",
       "    }\n",
       "\n",
       "    .dataframe tbody tr th {\n",
       "        vertical-align: top;\n",
       "    }\n",
       "\n",
       "    .dataframe thead th {\n",
       "        text-align: right;\n",
       "    }\n",
       "</style>\n",
       "<table border=\"1\" class=\"dataframe\">\n",
       "  <thead>\n",
       "    <tr style=\"text-align: right;\">\n",
       "      <th></th>\n",
       "      <th>Business &amp; Finance</th>\n",
       "      <th>Career &amp; Education</th>\n",
       "      <th>Collaboration</th>\n",
       "      <th>Events</th>\n",
       "      <th>Food &amp; Resturant</th>\n",
       "      <th>Health &amp; Fitness</th>\n",
       "      <th>Home &amp; Gardening</th>\n",
       "      <th>Information Technology</th>\n",
       "      <th>Media &amp; Entertainment</th>\n",
       "      <th>Pets &amp; Animals</th>\n",
       "      <th>Shopping</th>\n",
       "      <th>Social Platform</th>\n",
       "      <th>Sports &amp; Games</th>\n",
       "      <th>Travel &amp; Tourism</th>\n",
       "    </tr>\n",
       "  </thead>\n",
       "  <tbody>\n",
       "    <tr>\n",
       "      <th>0</th>\n",
       "      <td>invest</td>\n",
       "      <td>educ</td>\n",
       "      <td>call</td>\n",
       "      <td>giveaway</td>\n",
       "      <td>foodi</td>\n",
       "      <td>fit</td>\n",
       "      <td>interior</td>\n",
       "      <td>engin</td>\n",
       "      <td>music</td>\n",
       "      <td>anim</td>\n",
       "      <td>design</td>\n",
       "      <td>beauti</td>\n",
       "      <td>sport</td>\n",
       "      <td>travel</td>\n",
       "    </tr>\n",
       "    <tr>\n",
       "      <th>1</th>\n",
       "      <td>busi</td>\n",
       "      <td>art</td>\n",
       "      <td>creativ</td>\n",
       "      <td>sport</td>\n",
       "      <td>cook</td>\n",
       "      <td>happi</td>\n",
       "      <td>interiordesign</td>\n",
       "      <td>comput</td>\n",
       "      <td>art</td>\n",
       "      <td>cachorro</td>\n",
       "      <td>makeup</td>\n",
       "      <td>famili</td>\n",
       "      <td>athlet</td>\n",
       "      <td>instatravel</td>\n",
       "    </tr>\n",
       "    <tr>\n",
       "      <th>2</th>\n",
       "      <td>covid</td>\n",
       "      <td>career</td>\n",
       "      <td>beauti</td>\n",
       "      <td>analysi</td>\n",
       "      <td>food</td>\n",
       "      <td>beauti</td>\n",
       "      <td>design</td>\n",
       "      <td>gadget</td>\n",
       "      <td>musician</td>\n",
       "      <td>cat</td>\n",
       "      <td>bag</td>\n",
       "      <td>like</td>\n",
       "      <td>fit</td>\n",
       "      <td>holiday</td>\n",
       "    </tr>\n",
       "    <tr>\n",
       "      <th>3</th>\n",
       "      <td>money</td>\n",
       "      <td>exam</td>\n",
       "      <td>busi</td>\n",
       "      <td>analyst</td>\n",
       "      <td>foodlov</td>\n",
       "      <td>love</td>\n",
       "      <td>homedecor</td>\n",
       "      <td>technolog</td>\n",
       "      <td>artist</td>\n",
       "      <td>dog</td>\n",
       "      <td>beauti</td>\n",
       "      <td>likeforlik</td>\n",
       "      <td>basketbal</td>\n",
       "      <td>photographi</td>\n",
       "    </tr>\n",
       "    <tr>\n",
       "      <th>4</th>\n",
       "      <td>entrepreneur</td>\n",
       "      <td>instagood</td>\n",
       "      <td>collab</td>\n",
       "      <td>art</td>\n",
       "      <td>chef</td>\n",
       "      <td>doctor</td>\n",
       "      <td>decor</td>\n",
       "      <td>appl</td>\n",
       "      <td>instagram</td>\n",
       "      <td>doglov</td>\n",
       "      <td>cloth</td>\n",
       "      <td>advertis</td>\n",
       "      <td>like</td>\n",
       "      <td>travelphotographi</td>\n",
       "    </tr>\n",
       "  </tbody>\n",
       "</table>\n",
       "</div>"
      ],
      "text/plain": [
       "  Business & Finance Career & Education Collaboration    Events  \\\n",
       "0             invest               educ          call  giveaway   \n",
       "1               busi                art       creativ     sport   \n",
       "2              covid             career        beauti   analysi   \n",
       "3              money               exam          busi   analyst   \n",
       "4       entrepreneur          instagood        collab       art   \n",
       "\n",
       "  Food & Resturant Health & Fitness Home & Gardening Information Technology  \\\n",
       "0            foodi              fit         interior                  engin   \n",
       "1             cook            happi   interiordesign                 comput   \n",
       "2             food           beauti           design                 gadget   \n",
       "3          foodlov             love        homedecor              technolog   \n",
       "4             chef           doctor            decor                   appl   \n",
       "\n",
       "  Media & Entertainment Pets & Animals Shopping Social Platform  \\\n",
       "0                 music           anim   design          beauti   \n",
       "1                   art       cachorro   makeup          famili   \n",
       "2              musician            cat      bag            like   \n",
       "3                artist            dog   beauti      likeforlik   \n",
       "4             instagram         doglov    cloth        advertis   \n",
       "\n",
       "  Sports & Games   Travel & Tourism  \n",
       "0          sport             travel  \n",
       "1         athlet        instatravel  \n",
       "2            fit            holiday  \n",
       "3      basketbal        photographi  \n",
       "4           like  travelphotographi  "
      ]
     },
     "execution_count": 416,
     "metadata": {},
     "output_type": "execute_result"
    }
   ],
   "source": [
    "df_words.head()"
   ]
  },
  {
   "cell_type": "markdown",
   "metadata": {},
   "source": [
    "# Function to find most relevant top 5 classes based on the description\n"
   ]
  },
  {
   "cell_type": "code",
   "execution_count": 409,
   "metadata": {},
   "outputs": [],
   "source": [
    "# create a function of NLP for topic_content - text data\n",
    "def NLP(topic_content):\n",
    "    cleaned_question=clean_text(topic_content)\n",
    "    processed_question=process_text(cleaned_question)\n",
    "    stemming_question=stemming(processed_question)\n",
    "    lemma_question=lemmatization(stemming_question)\n",
    "    return lemma_question"
   ]
  },
  {
   "cell_type": "code",
   "execution_count": 410,
   "metadata": {},
   "outputs": [],
   "source": [
    "# topic_content -- can be any topic/description, \n",
    "# target_col -- should be (str) one catogory from catogory list - cato\n",
    "def common_words_counts(topic_content,target_col):\n",
    "    pro_text= NLP(topic_content)\n",
    "    inter_list=[]\n",
    "    for i in pro_text:\n",
    "        for j in range(len(df_words[target_col])):\n",
    "            if i==df_words[target_col][j]:\n",
    "                inter_list.append((i,df_pro[target_col][j]))\n",
    "    return inter_list"
   ]
  },
  {
   "cell_type": "code",
   "execution_count": 411,
   "metadata": {},
   "outputs": [],
   "source": [
    "def top5_catogores_pro(topic_content):\n",
    "    # loop through all columns of df_words and all their inter_list\n",
    "    inter_lists=[]\n",
    "    pro=[]\n",
    "    for col in cato:\n",
    "        inter_list=common_words_counts(topic_content,col)\n",
    "        sub_sum=[]\n",
    "        for i in inter_list:\n",
    "            sub_sum.append(i[-1])\n",
    "        pro.append(sum(sub_sum))\n",
    "    # obtian each part ocupy how many percentage of total\n",
    "    percent=[]\n",
    "    for i in range(len(pro)):\n",
    "        percent.append(str(round(pro[i]/sum(sums)*100,10))+\"%\")\n",
    "    # combine pro, percentage and the catogory   \n",
    "    final_list=[]\n",
    "    for i in range(len(percent)):\n",
    "        final_list.append((cato[i],round(pro[i],4),percent[i]))\n",
    "    \n",
    "    # sort the list by their Sum of each word's probability\n",
    "    final_list.sort(key=lambda x:x[1],reverse=True)\n",
    "    # get top5 catogories ranked by their probability\n",
    "    top5=pd.DataFrame(data=final_list[:5],\n",
    "                      columns=['Catogory',\"Sum of keywords' probability\", \"Percentage of Overall\"])\n",
    "    return top5\n",
    "    \n",
    "    \n",
    "    "
   ]
  },
  {
   "cell_type": "code",
   "execution_count": 412,
   "metadata": {},
   "outputs": [
    {
     "data": {
      "text/html": [
       "<div>\n",
       "<style scoped>\n",
       "    .dataframe tbody tr th:only-of-type {\n",
       "        vertical-align: middle;\n",
       "    }\n",
       "\n",
       "    .dataframe tbody tr th {\n",
       "        vertical-align: top;\n",
       "    }\n",
       "\n",
       "    .dataframe thead th {\n",
       "        text-align: right;\n",
       "    }\n",
       "</style>\n",
       "<table border=\"1\" class=\"dataframe\">\n",
       "  <thead>\n",
       "    <tr style=\"text-align: right;\">\n",
       "      <th></th>\n",
       "      <th>Catogory</th>\n",
       "      <th>Sum of keywords' probability</th>\n",
       "      <th>Percentage of Overall</th>\n",
       "    </tr>\n",
       "  </thead>\n",
       "  <tbody>\n",
       "    <tr>\n",
       "      <th>0</th>\n",
       "      <td>Business &amp; Finance</td>\n",
       "      <td>0.0081</td>\n",
       "      <td>16.4811504845%</td>\n",
       "    </tr>\n",
       "    <tr>\n",
       "      <th>1</th>\n",
       "      <td>Shopping</td>\n",
       "      <td>0.0052</td>\n",
       "      <td>10.7047359928%</td>\n",
       "    </tr>\n",
       "    <tr>\n",
       "      <th>2</th>\n",
       "      <td>Career &amp; Education</td>\n",
       "      <td>0.0049</td>\n",
       "      <td>10.0384279304%</td>\n",
       "    </tr>\n",
       "    <tr>\n",
       "      <th>3</th>\n",
       "      <td>Travel &amp; Tourism</td>\n",
       "      <td>0.0037</td>\n",
       "      <td>7.4699112544%</td>\n",
       "    </tr>\n",
       "    <tr>\n",
       "      <th>4</th>\n",
       "      <td>Collaboration</td>\n",
       "      <td>0.0036</td>\n",
       "      <td>7.3606599929%</td>\n",
       "    </tr>\n",
       "  </tbody>\n",
       "</table>\n",
       "</div>"
      ],
      "text/plain": [
       "             Catogory  Sum of keywords' probability Percentage of Overall\n",
       "0  Business & Finance                        0.0081        16.4811504845%\n",
       "1            Shopping                        0.0052        10.7047359928%\n",
       "2  Career & Education                        0.0049        10.0384279304%\n",
       "3    Travel & Tourism                        0.0037         7.4699112544%\n",
       "4       Collaboration                        0.0036         7.3606599929%"
      ]
     },
     "execution_count": 412,
     "metadata": {},
     "output_type": "execute_result"
    }
   ],
   "source": [
    "# Use the funtion above to get top 5 most relevant catogories \n",
    "top5_catogores_pro(topic_content)"
   ]
  },
  {
   "cell_type": "markdown",
   "metadata": {},
   "source": [
    "# Summary"
   ]
  },
  {
   "cell_type": "code",
   "execution_count": 578,
   "metadata": {},
   "outputs": [
    {
     "name": "stdout",
     "output_type": "stream",
     "text": [
      "['Business & Finance' 'Career & Education' 'Collaboration' 'Events'\n",
      " 'Food & Resturant' 'Health & Fitness' 'Home & Gardening'\n",
      " 'Information Technology' 'Media & Entertainment' 'Pets & Animals'\n",
      " 'Shopping' 'Social Platform' 'Sports & Games' 'Travel & Tourism']\n"
     ]
    }
   ],
   "source": [
    "print(cato)"
   ]
  },
  {
   "cell_type": "code",
   "execution_count": 187,
   "metadata": {},
   "outputs": [
    {
     "data": {
      "text/plain": [
       "{'Business & Finance': 0,\n",
       " 'Career & Education': 1,\n",
       " 'Collaboration': 2,\n",
       " 'Events': 3,\n",
       " 'Food & Resturant': 4,\n",
       " 'Health & Fitness': 5,\n",
       " 'Home & Gardening': 6,\n",
       " 'Information Technology': 7,\n",
       " 'Media & Entertainment': 8,\n",
       " 'Pets & Animals': 9,\n",
       " 'Shopping': 10,\n",
       " 'Social Platform': 11,\n",
       " 'Sports & Games': 12,\n",
       " 'Travel & Tourism': 13}"
      ]
     },
     "execution_count": 187,
     "metadata": {},
     "output_type": "execute_result"
    }
   ],
   "source": [
    "mapping_list"
   ]
  },
  {
   "cell_type": "markdown",
   "metadata": {},
   "source": [
    "**Based on the confusion matrix we can see that \n",
    "3,6,7 which are Events, Home & Gardening and Information Technology have some inaccurate predictions\n",
    "but the model performed well for other classes**"
   ]
  },
  {
   "cell_type": "markdown",
   "metadata": {},
   "source": [
    "# Suggestions\n",
    "- The data is not big enough. We can try this model with a big scale data. I believe that it will perform better.\n",
    "- When we meet some unbalanced data, we may apply the upsampling method. "
   ]
  },
  {
   "cell_type": "markdown",
   "metadata": {},
   "source": [
    "# Your Four Questions"
   ]
  },
  {
   "cell_type": "markdown",
   "metadata": {},
   "source": [
    "1. I want to find out top 5 co-related categories based on the description given in the test file (test_data_new.csv)\n",
    "2. how much close the other categories (top 5) are (listed in train_data1 : column C (Categories) with respect to the predicted Category.\n",
    "3. Wanted to check the description in the test_data_new.csv : how much its co-related/ close with other categories.  Wanted  with to take top 5. The most significant is already predicted but other than the highest accurate prediction , for each other category , how its co-relation % is ?\n",
    "4. is there any way/model/function  that I can use which is similar and predicting the top 5 Categories closest to the Description ( test_data_new.csv ) and the Keywords mention in the Train_data1 (Description, Category). If you think this can be achieved by looping through the category list and for each category separately calculating but here the predicion model only gives the closest one and not any other categories. I am not sure if its possible or not .\n"
   ]
  },
  {
   "cell_type": "markdown",
   "metadata": {},
   "source": [
    "# Your code and some suggestions"
   ]
  },
  {
   "cell_type": "code",
   "execution_count": 151,
   "metadata": {
    "code_folding": []
   },
   "outputs": [
    {
     "data": {
      "text/html": [
       "<div>\n",
       "<style scoped>\n",
       "    .dataframe tbody tr th:only-of-type {\n",
       "        vertical-align: middle;\n",
       "    }\n",
       "\n",
       "    .dataframe tbody tr th {\n",
       "        vertical-align: top;\n",
       "    }\n",
       "\n",
       "    .dataframe thead th {\n",
       "        text-align: right;\n",
       "    }\n",
       "</style>\n",
       "<table border=\"1\" class=\"dataframe\">\n",
       "  <thead>\n",
       "    <tr style=\"text-align: right;\">\n",
       "      <th></th>\n",
       "      <th>Description</th>\n",
       "      <th>Category</th>\n",
       "      <th>Model_Output</th>\n",
       "    </tr>\n",
       "  </thead>\n",
       "  <tbody>\n",
       "    <tr>\n",
       "      <th>0</th>\n",
       "      <td>Rackspace Technology | Multicloud Solutions Pr...</td>\n",
       "      <td>Information Technology</td>\n",
       "      <td>NaN</td>\n",
       "    </tr>\n",
       "    <tr>\n",
       "      <th>1</th>\n",
       "      <td>&gt;Merge, join, concatenate and compare &amp;#8212; ...</td>\n",
       "      <td>Career &amp; Education</td>\n",
       "      <td>NaN</td>\n",
       "    </tr>\n",
       "  </tbody>\n",
       "</table>\n",
       "</div>"
      ],
      "text/plain": [
       "                                         Description                Category  \\\n",
       "0  Rackspace Technology | Multicloud Solutions Pr...  Information Technology   \n",
       "1  >Merge, join, concatenate and compare &#8212; ...      Career & Education   \n",
       "\n",
       "   Model_Output  \n",
       "0           NaN  \n",
       "1           NaN  "
      ]
     },
     "execution_count": 151,
     "metadata": {},
     "output_type": "execute_result"
    }
   ],
   "source": [
    "\n",
    "\n",
    "import pandas as pd\n",
    "from nltk.corpus import stopwords\n",
    "from gensim.models import Word2Vec \n",
    "import string\n",
    "import nltk\n",
    "from collections import Counter\n",
    "from nltk.stem import PorterStemmer\n",
    "from nltk import word_tokenize\n",
    "import csv\n",
    "import numpy as np\n",
    "\n",
    "\n",
    "\n",
    "#ps = PorterStemmer()\n",
    "\n",
    "\n",
    "#df_train= pd.read_csv('sas_data_train.csv')\n",
    "\n",
    "df_train= pd.read_csv('train_data1.csv',encoding='latin1')\n",
    "\n",
    "#df_test = pd.read_csv('sas_data_test.csv')\n",
    "df_test = pd.read_csv('test_data_new.csv',encoding='latin1')\n",
    "\n",
    "\n",
    "\n",
    "\n",
    "#df_train.head(2) # we need 2 columns only - Description and Category - independent variable is Description and dependent variable is category\n",
    "\n",
    "\n",
    "df_train_new = df_train.iloc[:,1:3]\n",
    "#df_train_new.head(2)\n",
    "\n",
    "#df_test.head(2) \n",
    "\n",
    "\n",
    "df_test_new = df_test.iloc[:,1:]\n",
    "df_test_new.head(2) \n"
   ]
  },
  {
   "cell_type": "code",
   "execution_count": 202,
   "metadata": {},
   "outputs": [
    {
     "name": "stdout",
     "output_type": "stream",
     "text": [
      "2535\n"
     ]
    }
   ],
   "source": [
    "\n",
    "# unique categories in training set\n",
    "categories = df_train['Category'].unique()\n",
    "#print (categories)\n",
    "\n",
    "# count of categories\n",
    "df_train['Category'].count()\n",
    "\n",
    "\n",
    "# Records in each category\n",
    "df_train['Category'].value_counts()\n",
    "\n",
    "\n",
    "# Health and Wellness have 12 records and then sports have 6 and so on.\n",
    "\n",
    "\n",
    "x = df_train_new['Description']  # independent variable\n",
    "y = df_train_new['Category']     # dependent variable\n",
    "\n",
    "#x.head()\n",
    "\n",
    "# Text cleaning required to delete stop words, puntuations\n",
    "def text_cleaning(a):\n",
    "     a = [w.lower() for w in a]    \n",
    "     remove_punctuation = [char for char in a if char not in string.punctuation]\n",
    "     remove_punctuation = ''.join(remove_punctuation)\n",
    "     return [word for word in remove_punctuation.split() if word.lower() not in stopwords.words('english')]\n",
    "\"\"\"\n",
    "stop words, puntuations removals are important, but how about stemming and lemmatization?\n",
    "what if words are like \n",
    "\"business\" and \"buisnessses\"     \n",
    "\"came\", \"come\",\"coming\",\"comes\"?  \n",
    "we want to keep consistency of those words  \n",
    "\"\"\"\n",
    "\n",
    "from sklearn.feature_extraction.text import CountVectorizer\n",
    "\n",
    "\n",
    "bow_transformer=CountVectorizer(analyzer=text_cleaning)\n",
    "bow_transformer = bow_transformer.fit(df_train_new['Description']) \n",
    "\n",
    "\n",
    "print(len(bow_transformer.vocabulary_))   \n",
    "#print(bow_transformer.vocabulary_)"
   ]
  },
  {
   "cell_type": "code",
   "execution_count": 203,
   "metadata": {},
   "outputs": [
    {
     "name": "stdout",
     "output_type": "stream",
     "text": [
      "(66, 2535)\n",
      "Accuracy: 0.9032258064516129\n",
      "F1 score: 0.8932838824679431\n",
      "                                          Description            Model_Output\n",
      "0   Rackspace Technology | Multicloud Solutions Pr...  Information Technology\n",
      "1   >Merge, join, concatenate and compare &#8212; ...      Career & Education\n",
      "2   Welcome to Cloudcroft! At 9000' above stress l...        Travel & Tourism\n",
      "3   Live One-On-One Music Lessons From Fun & Inspi...   Media & Entertainment\n",
      "4       100 %ONLINE CULINARY EDUCATION, chef training      Career & Education\n",
      "5   Delish - 77 Cheap And Easy Dinner Recipes So Y...        Food & Resturant\n",
      "6   to get the best training in soccer , join spor...          Sports & Games\n",
      "7   To have the best food and cooking experience j...        Food & Resturant\n",
      "8   Best Java training with technology companies. ...      Career & Education\n",
      "9   In-demand talent on demand.TM Upwork is how.Hi...  Information Technology\n",
      "10  Macy's - Shop Fashion clothing and Accessories...                Shopping\n",
      "11  Purses and Handbags for Women - Belk.com Enjoy...                Shopping\n",
      "12  Choose from a great selection of women's desig...                Shopping\n",
      "13  Foundation Makeup , powder, liquid and more fr...                Shopping\n",
      "14  ACTIVE SPORTS FITNESS is located in Faridabad,...        Health & Fitness\n",
      "15  Womens Benton Springs Full Zip Fleece Jacket...                Shopping\n",
      "16             Music Lessons |Big Star Music Academy    Media & Entertainment\n",
      "17  The Calcutta School of Music | The CSM The Cal...   Media & Entertainment\n",
      "18         Is Google Sign-In a free or paid service?    Media & Entertainment\n",
      "19            Amanda Flores DisneyAnime | Start 102.1   Media & Entertainment\n",
      "20  Amanda Flores DisneyAnime | Free Listenning on...   Media & Entertainment\n",
      "21  Shah Rukh Khan returns to India from?Dubai wit...   Media & Entertainment\n",
      "22                Country Music | a film by Ken Burns   Media & Entertainment\n",
      "23                                 Women fitness team        Health & Fitness\n",
      "24  Meditation | The Art of Living - improve your ...        Health & Fitness\n",
      "25                                       The Yoga Den        Health & Fitness\n",
      "26  Yoga Studio | Southtown Yoga Loft  Consistentl...        Health & Fitness\n",
      "27     school teaching jobs san diego - Google Search      Career & Education\n",
      "28          eCommerce site for all clothings and toys                Shopping\n",
      "29   Mortgage ,Wholesale Mortgages -  Beat interes...      Business & Finance\n",
      "30  PEACE. FREEDOM. BOBMARLEY75. Watch Redemption ...   Media & Entertainment\n"
     ]
    }
   ],
   "source": [
    "\n",
    "\n",
    "tokens = bow_transformer.get_feature_names()\n",
    "#print(tokens)   \n",
    "\n",
    "\n",
    "\n",
    "bow_transformer_train = bow_transformer.transform(df_train_new['Description'])\n",
    "bow_transformer_train\n",
    "\n",
    "\n",
    "\n",
    "\n",
    "X = bow_transformer_train.toarray()\n",
    "#print(X)\n",
    "\n",
    " \n",
    "print(X.shape) \n",
    "#we have 66 rows and every row have 2497 columns- 2497 columns because we have 2497 unique words present in our dataset\n",
    "\n",
    "\n",
    "# If you want you can store it in a dataframe also\n",
    "dd=pd.DataFrame(data=bow_transformer_train.toarray(),columns=tokens)\n",
    "dd\n",
    "\n",
    "\n",
    "df_test_new.head(2) \n",
    "\n",
    "\n",
    "y_test = df_test_new.loc[:,'Category']\n",
    "#print(y_test.head(2))\n",
    "\n",
    "#print (df_test_new['Description'].head(2))\n",
    "\n",
    "cleaned_desc_test = df_test_new.loc[:,'Description'].apply(text_cleaning)\n",
    "\n",
    "#print (cleaned_desc_test)\n",
    "\n",
    "bow_transformer_test = bow_transformer.transform(df_test_new['Description'])\n",
    "#bow_transformer_test = bow_transformer.transform(cleaned_desc_test)\n",
    "\n",
    "#print(bow_transformer_test)\n",
    "\n",
    "x_test = bow_transformer_test.toarray()\n",
    "#print(x_test)\n",
    "\n",
    " \n",
    "#print(x_test.shape)  \n",
    "\n",
    "\n",
    "dd=pd.DataFrame(data=bow_transformer_test.toarray(),columns=tokens)\n",
    "#print(dd.head())  # here you can see that the vocabulary size is 2497 vocabulary\n",
    "\n",
    "\n",
    "# Now let's use Multinomial naive bayes algorithm. We will train our algorithm with\n",
    "#train file and then test on test file\n",
    "\n",
    "\n",
    "\n",
    "from sklearn.naive_bayes import MultinomialNB\n",
    "model = MultinomialNB().fit(X,y)\n",
    "\n",
    "\n",
    "prediction = model.predict(x_test)\n",
    "#print(prediction)  \n",
    "\n",
    "\n",
    "\n",
    "from sklearn.metrics import accuracy_score\n",
    "#Printing accuracy of the our model\n",
    "print(\"Accuracy: {}\".format(accuracy_score(prediction,y_test)))\n",
    "print(\"F1 score: {}\".format(f1_score(prediction,y_test,average='weighted')))\n",
    "'''\n",
    "=====================================================================================\n",
    "The difference between your code and my code is - I used GridSearch to find the best F1 socre but not the Accuracy,\n",
    "because as we can see the different classes in this data have different sample size and they are not balanced, \n",
    "when we encounter this kind of situation, it is better to use F1 score instead of Accuracy, That is why my \n",
    "Accuracy(0.87) is lower than yours(0.9) but F1 score(0.895) is slightly higher than yours(0.893). Of course if \n",
    "we have balanced data we can use grid search to find highest accuracy instead of F1 score.\n",
    "=====================================================================================\n",
    "'''\n",
    "\n",
    "\n",
    "\n",
    "\n",
    "arr = np.array(prediction)\n",
    "\n",
    "df_pred = pd.DataFrame(data=arr.flatten(),columns=['Model_Output'])\n",
    "#print(df_pred)\n",
    "\n",
    "out_desc_df = df_test_new['Description']\n",
    "\n",
    "frames = [out_desc_df,df_pred]\n",
    "\n",
    "out_row = pd.concat(frames,axis=1)\n",
    "\n",
    "print (out_row)"
   ]
  },
  {
   "cell_type": "code",
   "execution_count": 204,
   "metadata": {},
   "outputs": [
    {
     "data": {
      "text/plain": [
       "<sklearn.metrics._plot.confusion_matrix.ConfusionMatrixDisplay at 0x1a34ba17d0>"
      ]
     },
     "execution_count": 204,
     "metadata": {},
     "output_type": "execute_result"
    },
    {
     "data": {
      "image/png": "[encoded data removed]",
      "text/plain": [
       "<Figure size 720x720 with 2 Axes>"
      ]
     },
     "metadata": {
      "needs_background": "light"
     },
     "output_type": "display_data"
    }
   ],
   "source": [
    "fig, ax = plt.subplots(figsize=(10, 10))\n",
    "plot_confusion_matrix(model, x_test, y_test, cmap=plt.cm.Blues,ax=ax)\n"
   ]
  },
  {
   "cell_type": "markdown",
   "metadata": {},
   "source": [
    "# The difference your results fand mine is \n",
    "- I Keep the (f1)accuracy for each class  so there are incorrect predicted values in class 3,6,7\n",
    "- However, your model is just make overall accuracy but there are two more classes have incorrect predicted velues - class: 3,4,5.6.7\n"
   ]
  }
 ],
 "metadata": {
  "kernelspec": {
   "display_name": "Python 3",
   "language": "python",
   "name": "python3"
  },
  "language_info": {
   "codemirror_mode": {
    "name": "ipython",
    "version": 3
   },
   "file_extension": ".py",
   "mimetype": "text/x-python",
   "name": "python",
   "nbconvert_exporter": "python",
   "pygments_lexer": "ipython3",
   "version": "3.7.6"
  },
  "toc": {
   "base_numbering": 1,
   "nav_menu": {},
   "number_sections": true,
   "sideBar": true,
   "skip_h1_title": false,
   "title_cell": "Table of Contents",
   "title_sidebar": "Contents",
   "toc_cell": false,
   "toc_position": {
    "height": "calc(100% - 180px)",
    "left": "10px",
    "top": "150px",
    "width": "290.909px"
   },
   "toc_section_display": true,
   "toc_window_display": true
  }
 },
 "nbformat": 4,
 "nbformat_minor": 4
}
